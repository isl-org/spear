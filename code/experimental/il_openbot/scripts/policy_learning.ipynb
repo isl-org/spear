{
 "cells": [
  {
   "cell_type": "code",
   "execution_count": 40,
   "id": "71fe81dc",
   "metadata": {},
   "outputs": [],
   "source": [
    "from __future__ import absolute_import, division, print_function, unicode_literals\n",
    "import IPython.display as display\n",
    "from PIL import Image\n",
    "import numpy as np\n",
    "import matplotlib.pyplot as plt\n",
    "import time\n",
    "import os\n",
    "\n",
    "os.environ['TF_CPP_MIN_LOG_LEVEL'] = '2' \n",
    "# 0 = all messages are logged (default behavior)\n",
    "# 1 = INFO messages are not printed\n",
    "# 2 = INFO and WARNING messages are not printed\n",
    "# 3 = INFO, WARNING, and ERROR messages are not printed\n",
    "\n",
    "#On Mac you may encounter an error related to OMP, this is a workaround, but slows down the code\n",
    "os.environ['KMP_DUPLICATE_LIB_OK']='True' #https://github.com/dmlc/xgboost/issues/1715"
   ]
  },
  {
   "cell_type": "code",
   "execution_count": 41,
   "id": "132953ea",
   "metadata": {},
   "outputs": [
    {
     "data": {
      "text/plain": [
       "'2.5.2'"
      ]
     },
     "execution_count": 41,
     "metadata": {},
     "output_type": "execute_result"
    }
   ],
   "source": [
    "import tensorflow as tf\n",
    "AUTOTUNE = tf.data.experimental.AUTOTUNE\n",
    "tf.__version__"
   ]
  },
  {
   "cell_type": "code",
   "execution_count": 42,
   "id": "2ac37fbe",
   "metadata": {},
   "outputs": [],
   "source": [
    "from openbot import dataloader, data_augmentation, utils, train"
   ]
  },
  {
   "cell_type": "markdown",
   "id": "05c28641",
   "metadata": {},
   "source": [
    "## Set train and test dirs"
   ]
  },
  {
   "cell_type": "markdown",
   "id": "bc941e8e",
   "metadata": {},
   "source": [
    "Define the dataset directory and give it a name. Inside the dataset folder, there should be two folders, `train_data` and `test_data`. "
   ]
  },
  {
   "cell_type": "code",
   "execution_count": 43,
   "id": "823ef8f3",
   "metadata": {},
   "outputs": [],
   "source": [
    "dataset_dir = \"dataset\"\n",
    "train_data_dir = os.path.join(dataset_dir, \"train_data\")\n",
    "test_data_dir = os.path.join(dataset_dir, \"test_data\")"
   ]
  },
  {
   "cell_type": "markdown",
   "id": "d80d6e1c",
   "metadata": {},
   "source": [
    "## Download session"
   ]
  },
  {
   "cell_type": "code",
   "execution_count": 44,
   "id": "8e1685ee",
   "metadata": {},
   "outputs": [],
   "source": [
    "# session_id = \"AKfbgaWN92Tn7hitOtTm\""
   ]
  },
  {
   "cell_type": "code",
   "execution_count": 45,
   "id": "0c0fbdc5",
   "metadata": {},
   "outputs": [],
   "source": [
    "# !python download_full_recordings.py -i {session_id}"
   ]
  },
  {
   "cell_type": "markdown",
   "id": "cde30354",
   "metadata": {},
   "source": [
    "## Prepare dataset"
   ]
  },
  {
   "cell_type": "code",
   "execution_count": 21,
   "id": "cdccdf2b",
   "metadata": {},
   "outputs": [],
   "source": [
    "#!python prepare_dataset.py -i download/{session_id} -o {dataset_dir}/uploaded"
   ]
  },
  {
   "cell_type": "code",
   "execution_count": 22,
   "id": "bc8d3d7a",
   "metadata": {},
   "outputs": [
    {
     "name": "stdout",
     "output_type": "stream",
     "text": [
      "All Data:\n",
      " ['dataset/uploaded/run_235553720_1', 'dataset/uploaded/run_235553720_0', 'dataset/uploaded/run_235553720_2', 'dataset/uploaded/run_235553720_4', 'dataset/uploaded/run_235553720_3']\n"
     ]
    }
   ],
   "source": [
    "all_data = []\n",
    "for folder in os.listdir(f\"{dataset_dir}/uploaded\"):\n",
    "    folder_path = f\"{dataset_dir}/uploaded/{folder}\"\n",
    "    if os.path.isdir(folder_path):\n",
    "        all_data.append(folder_path)\n",
    "        \n",
    "print(f\"All Data:\\n {all_data}\")"
   ]
  },
  {
   "cell_type": "code",
   "execution_count": 23,
   "id": "f63f7507",
   "metadata": {},
   "outputs": [
    {
     "name": "stdout",
     "output_type": "stream",
     "text": [
      "Train Data:\n",
      " ['dataset/uploaded/run_235553720_1', 'dataset/uploaded/run_235553720_0', 'dataset/uploaded/run_235553720_2', 'dataset/uploaded/run_235553720_4']\n",
      "Test Data:\n",
      " ['dataset/uploaded/run_235553720_3']\n"
     ]
    }
   ],
   "source": [
    "train_data = all_data[:-1]\n",
    "test_data = all_data[-1:]\n",
    "\n",
    "print(f\"Train Data:\\n {train_data}\")\n",
    "print(f\"Test Data:\\n {test_data}\")"
   ]
  },
  {
   "cell_type": "code",
   "execution_count": 24,
   "id": "a453ca64",
   "metadata": {},
   "outputs": [
    {
     "name": "stdout",
     "output_type": "stream",
     "text": [
      "mv: rename dataset/uploaded/run_235553720_0 to dataset/train_data/run_235553720_0: Directory not empty\r\n"
     ]
    }
   ],
   "source": [
    "for folder in train_data:\n",
    "    !mv {folder} {train_data_dir}\n",
    "    \n",
    "for folder in test_data:\n",
    "    !mv {folder} {test_data_dir}"
   ]
  },
  {
   "cell_type": "markdown",
   "id": "4388bbaa",
   "metadata": {},
   "source": [
    "## Hyperparameters"
   ]
  },
  {
   "cell_type": "markdown",
   "id": "625eb2bd",
   "metadata": {},
   "source": [
    "You may have to tune the learning rate and batch size depending on your available compute resources and dataset. As a general rule of thumb, if you increase the batch size by a factor of n, you can increase the learning rate by a factor of sqrt(n). In order to accelerate training and make it more smooth, you should increase the batch size as much as possible. In our paper we used a batch size of 128. For debugging and hyperparamter tuning, you can set the number of epochs to a small value like 10. If you want to train a model which will achieve good performance, you should set it to 50 or more. In our paper we used 100."
   ]
  },
  {
   "cell_type": "code",
   "execution_count": 46,
   "id": "a14c7cac",
   "metadata": {},
   "outputs": [],
   "source": [
    "params = train.Hyperparameters()\n",
    "\n",
    "params.MODEL = \"pilot_net\"\n",
    "params.TRAIN_BATCH_SIZE = 512\n",
    "params.TEST_BATCH_SIZE = 16\n",
    "params.LEARNING_RATE = 0.0001\n",
    "params.NUM_EPOCHS = 100\n",
    "params.BATCH_NORM = True\n",
    "params.IS_CROP = True\n",
    "params.USE_LAST = False"
   ]
  },
  {
   "cell_type": "markdown",
   "id": "82ac0929",
   "metadata": {},
   "source": [
    "## Pre-process the dataset"
   ]
  },
  {
   "cell_type": "code",
   "execution_count": 47,
   "id": "4b4494b4",
   "metadata": {},
   "outputs": [],
   "source": [
    "tr = train.Training(params)\n",
    "tr.train_data_dir = train_data_dir\n",
    "tr.test_data_dir = test_data_dir\n",
    "tr.dataset_name = \"TestSession_1\""
   ]
  },
  {
   "cell_type": "markdown",
   "id": "abfc9b9b",
   "metadata": {},
   "source": [
    "Running this for the first time will take some time. This code will match image frames to the controls (labels) and indicator signals (commands).  By default, data samples where the vehicle was stationary will be removed. If this is not desired, you need to pass `remove_zeros=False`. If you have made any changes to the sensor files, changed `remove_zeros` or moved your dataset to a new directory, you need to pass `redo_matching=True`. "
   ]
  },
  {
   "cell_type": "code",
   "execution_count": 48,
   "id": "e9d78141",
   "metadata": {},
   "outputs": [],
   "source": [
    "%%capture\n",
    "train.process_data(tr, redo_matching=True, remove_zeros=True)"
   ]
  },
  {
   "cell_type": "code",
   "execution_count": 36,
   "id": "c531aecf",
   "metadata": {},
   "outputs": [],
   "source": [
    "import threading\n",
    "def broadcast(event, payload=None):\n",
    "    print(event, payload)\n",
    "event = threading.Event()\n",
    "my_callback = train.MyCallback(broadcast, event)"
   ]
  },
  {
   "cell_type": "markdown",
   "id": "2fc670c9",
   "metadata": {},
   "source": [
    "In the next step, you can convert your dataset to a tfrecord, a data format optimized for training. You can skip this step if you already created a tfrecord before or if you want to train using the files directly. "
   ]
  },
  {
   "cell_type": "code",
   "execution_count": 29,
   "id": "59336936",
   "metadata": {},
   "outputs": [],
   "source": [
    "#%%capture\n",
    "#train.create_tfrecord(my_callback)"
   ]
  },
  {
   "cell_type": "markdown",
   "id": "b0a4a1cf",
   "metadata": {},
   "source": [
    "## Load the dataset"
   ]
  },
  {
   "cell_type": "markdown",
   "id": "a51ee383",
   "metadata": {},
   "source": [
    "If you did not create a tfrecord and want to load and buffer files from disk directly, set `no_tf_record = True`."
   ]
  },
  {
   "cell_type": "code",
   "execution_count": 50,
   "id": "bc2d2068",
   "metadata": {},
   "outputs": [],
   "source": [
    "no_tf_record = True"
   ]
  },
  {
   "cell_type": "code",
   "execution_count": 51,
   "id": "082c90bf",
   "metadata": {},
   "outputs": [
    {
     "name": "stdout",
     "output_type": "stream",
     "text": [
      "Number of train samples: 396\n",
      "Number of test samples: 98\n"
     ]
    }
   ],
   "source": [
    "if no_tf_record:\n",
    "    tr.train_data_dir = train_data_dir\n",
    "    tr.test_data_dir = test_data_dir\n",
    "    train.load_data(tr, verbose=0)\n",
    "else:\n",
    "    tr.train_data_dir = os.path.join(dataset_dir, \"tfrecords/train.tfrec\")\n",
    "    tr.test_data_dir = os.path.join(dataset_dir, \"tfrecords/test.tfrec\")\n",
    "    train.load_tfrecord(tr, verbose=0)"
   ]
  },
  {
   "cell_type": "code",
   "execution_count": 32,
   "id": "edf34f3f",
   "metadata": {},
   "outputs": [
    {
     "ename": "TypeError",
     "evalue": "'NoneType' object is not iterable",
     "output_type": "error",
     "traceback": [
      "\u001b[0;31m---------------------------------------------------------------------------\u001b[0m",
      "\u001b[0;31mTypeError\u001b[0m                                 Traceback (most recent call last)",
      "Cell \u001b[0;32mIn [32], line 1\u001b[0m\n\u001b[0;32m----> 1\u001b[0m (image_batch, cmd_batch), label_batch \u001b[38;5;241m=\u001b[39m \u001b[38;5;28mnext\u001b[39m(\u001b[38;5;28;43miter\u001b[39;49m\u001b[43m(\u001b[49m\u001b[43mtr\u001b[49m\u001b[38;5;241;43m.\u001b[39;49m\u001b[43mtrain_ds\u001b[49m\u001b[43m)\u001b[49m)\n\u001b[1;32m      2\u001b[0m utils\u001b[38;5;241m.\u001b[39mshow_train_batch(image_batch\u001b[38;5;241m.\u001b[39mnumpy(), cmd_batch\u001b[38;5;241m.\u001b[39mnumpy(), label_batch\u001b[38;5;241m.\u001b[39mnumpy())\n",
      "\u001b[0;31mTypeError\u001b[0m: 'NoneType' object is not iterable"
     ]
    }
   ],
   "source": [
    "(image_batch, cmd_batch), label_batch = next(iter(tr.train_ds))\n",
    "utils.show_train_batch(image_batch.numpy(), cmd_batch.numpy(), label_batch.numpy())"
   ]
  },
  {
   "cell_type": "markdown",
   "id": "0a5d0f77",
   "metadata": {},
   "source": [
    "## Training"
   ]
  },
  {
   "cell_type": "code",
   "execution_count": null,
   "id": "894cd54f",
   "metadata": {},
   "outputs": [
    {
     "name": "stdout",
     "output_type": "stream",
     "text": [
      "TestSession_1_pilot_net_lr0.0001_bz512_bn\n",
      "Model: \"pilot_net\"\n",
      "__________________________________________________________________________________________________\n",
      " Layer (type)                   Output Shape         Param #     Connected to                     \n",
      "==================================================================================================\n",
      " img_input (InputLayer)         [(None, 90, 160, 3)  0           []                               \n",
      "                                ]                                                                 \n",
      "                                                                                                  \n",
      " conv2d (Conv2D)                (None, 43, 78, 24)   1824        ['img_input[0][0]']              \n",
      "                                                                                                  \n",
      " batch_normalization (BatchNorm  (None, 43, 78, 24)  96          ['conv2d[0][0]']                 \n",
      " alization)                                                                                       \n",
      "                                                                                                  \n",
      " conv2d_1 (Conv2D)              (None, 20, 37, 36)   21636       ['batch_normalization[0][0]']    \n",
      "                                                                                                  \n",
      " batch_normalization_1 (BatchNo  (None, 20, 37, 36)  144         ['conv2d_1[0][0]']               \n",
      " rmalization)                                                                                     \n",
      "                                                                                                  \n",
      " conv2d_2 (Conv2D)              (None, 8, 17, 48)    43248       ['batch_normalization_1[0][0]']  \n",
      "                                                                                                  \n",
      " batch_normalization_2 (BatchNo  (None, 8, 17, 48)   192         ['conv2d_2[0][0]']               \n",
      " rmalization)                                                                                     \n",
      "                                                                                                  \n",
      " conv2d_3 (Conv2D)              (None, 6, 15, 64)    27712       ['batch_normalization_2[0][0]']  \n",
      "                                                                                                  \n",
      " batch_normalization_3 (BatchNo  (None, 6, 15, 64)   256         ['conv2d_3[0][0]']               \n",
      " rmalization)                                                                                     \n",
      "                                                                                                  \n",
      " conv2d_4 (Conv2D)              (None, 4, 13, 64)    36928       ['batch_normalization_3[0][0]']  \n",
      "                                                                                                  \n",
      " batch_normalization_4 (BatchNo  (None, 4, 13, 64)   256         ['conv2d_4[0][0]']               \n",
      " rmalization)                                                                                     \n",
      "                                                                                                  \n",
      " flatten (Flatten)              (None, 3328)         0           ['batch_normalization_4[0][0]']  \n",
      "                                                                                                  \n",
      " dense_1 (Dense)                (None, 1164)         3874956     ['flatten[0][0]']                \n",
      "                                                                                                  \n",
      " goal_input (InputLayer)        [(None, 3)]          0           []                               \n",
      "                                                                                                  \n",
      " batch_normalization_5 (BatchNo  (None, 1164)        4656        ['dense_1[0][0]']                \n",
      " rmalization)                                                                                     \n",
      "                                                                                                  \n",
      " goal (Dense)                   (None, 16)           64          ['goal_input[0][0]']             \n",
      "                                                                                                  \n",
      " dense_2 (Dense)                (None, 100)          116500      ['batch_normalization_5[0][0]']  \n",
      "                                                                                                  \n",
      " dense (Dense)                  (None, 16)           272         ['goal[0][0]']                   \n",
      "                                                                                                  \n",
      " batch_normalization_6 (BatchNo  (None, 100)         400         ['dense_2[0][0]']                \n",
      " rmalization)                                                                                     \n",
      "                                                                                                  \n",
      " concatenate (Concatenate)      (None, 116)          0           ['dense[0][0]',                  \n",
      "                                                                  'batch_normalization_6[0][0]']  \n",
      "                                                                                                  \n",
      " dense_3 (Dense)                (None, 50)           5850        ['concatenate[0][0]']            \n",
      "                                                                                                  \n",
      " concatenate_1 (Concatenate)    (None, 53)           0           ['goal_input[0][0]',             \n",
      "                                                                  'dense_3[0][0]']                \n",
      "                                                                                                  \n",
      " dense_4 (Dense)                (None, 10)           540         ['concatenate_1[0][0]']          \n",
      "                                                                                                  \n",
      " concatenate_2 (Concatenate)    (None, 13)           0           ['goal_input[0][0]',             \n",
      "                                                                  'dense_4[0][0]']                \n",
      "                                                                                                  \n",
      " dense_5 (Dense)                (None, 2)            28          ['concatenate_2[0][0]']          \n",
      "                                                                                                  \n",
      "==================================================================================================\n",
      "Total params: 4,135,558\n",
      "Trainable params: 4,132,558\n",
      "Non-trainable params: 3,000\n",
      "__________________________________________________________________________________________________\n",
      "None\n",
      "message Fit model...\n",
      "Epoch 1/100\n",
      "   6/3165 [..............................] - ETA: 14:12 - loss: 1.6267 - mean_absolute_error: 0.9995 - direction_metric: 0.4993 - angle_metric: 0.0518WARNING:tensorflow:Callback method `on_train_batch_end` is slow compared to the batch time (batch time: 0.0734s vs `on_train_batch_end` time: 0.1022s). Check your callbacks.\n",
      "3165/3165 [==============================] - ETA: 0s - loss: 0.3459 - mean_absolute_error: 0.2164 - direction_metric: 0.8609 - angle_metric: 0.3560INFO:tensorflow:Assets written to: /home/quentin/Desktop/ISL/interiorsim/code/experiments/rl_openbot/imitation_learning/models/TestSession_1_pilot_net_lr0.0001_bz512_bn/checkpoints/cp-last.ckpt/assets\n",
      "INFO:tensorflow:Assets written to: /home/quentin/Desktop/ISL/interiorsim/code/experiments/rl_openbot/imitation_learning/models/TestSession_1_pilot_net_lr0.0001_bz512_bn/checkpoints/cp-best-train.ckpt/assets\n",
      "INFO:tensorflow:Assets written to: /home/quentin/Desktop/ISL/interiorsim/code/experiments/rl_openbot/imitation_learning/models/TestSession_1_pilot_net_lr0.0001_bz512_bn/checkpoints/cp-best-val.ckpt/assets\n",
      "on_epoch_end {'loss': 0.34594401717185974, 'mean_absolute_error': 0.21639959514141083, 'direction_metric': 0.8608652949333191, 'angle_metric': 0.3559685945510864, 'val_loss': 0.581392228603363, 'val_mean_absolute_error': 0.2286621481180191, 'val_direction_metric': 0.6965939402580261, 'val_angle_metric': 0.16881179809570312, 'epoch': 0}\n",
      "logs {'loss': 0.34594401717185974, 'mean_absolute_error': 0.21639959514141083, 'direction_metric': 0.8608652949333191, 'angle_metric': 0.3559685945510864, 'val_loss': 0.581392228603363, 'val_mean_absolute_error': 0.2286621481180191, 'val_direction_metric': 0.6965939402580261, 'val_angle_metric': 0.16881179809570312, 'epoch': 0}\n",
      "3165/3165 [==============================] - 381s 118ms/step - loss: 0.3459 - mean_absolute_error: 0.2164 - direction_metric: 0.8609 - angle_metric: 0.3560 - val_loss: 0.5814 - val_mean_absolute_error: 0.2287 - val_direction_metric: 0.6966 - val_angle_metric: 0.1688\n",
      "Epoch 2/100\n",
      "3165/3165 [==============================] - ETA: 0s - loss: 0.2390 - mean_absolute_error: 0.1539 - direction_metric: 0.8975 - angle_metric: 0.4232INFO:tensorflow:Assets written to: /home/quentin/Desktop/ISL/interiorsim/code/experiments/rl_openbot/imitation_learning/models/TestSession_1_pilot_net_lr0.0001_bz512_bn/checkpoints/cp-last.ckpt/assets\n",
      "INFO:tensorflow:Assets written to: /home/quentin/Desktop/ISL/interiorsim/code/experiments/rl_openbot/imitation_learning/models/TestSession_1_pilot_net_lr0.0001_bz512_bn/checkpoints/cp-best-train.ckpt/assets\n",
      "INFO:tensorflow:Assets written to: /home/quentin/Desktop/ISL/interiorsim/code/experiments/rl_openbot/imitation_learning/models/TestSession_1_pilot_net_lr0.0001_bz512_bn/checkpoints/cp-best-val.ckpt/assets\n",
      "on_epoch_end {'loss': 0.23898287117481232, 'mean_absolute_error': 0.15386000275611877, 'direction_metric': 0.8975241780281067, 'angle_metric': 0.42318758368492126, 'val_loss': 0.5729044079780579, 'val_mean_absolute_error': 0.22780336439609528, 'val_direction_metric': 0.7069534063339233, 'val_angle_metric': 0.20177365839481354, 'epoch': 1}\n",
      "logs {'loss': 0.23898287117481232, 'mean_absolute_error': 0.15386000275611877, 'direction_metric': 0.8975241780281067, 'angle_metric': 0.42318758368492126, 'val_loss': 0.5729044079780579, 'val_mean_absolute_error': 0.22780336439609528, 'val_direction_metric': 0.7069534063339233, 'val_angle_metric': 0.20177365839481354, 'epoch': 1}\n",
      "3165/3165 [==============================] - 361s 114ms/step - loss: 0.2390 - mean_absolute_error: 0.1539 - direction_metric: 0.8975 - angle_metric: 0.4232 - val_loss: 0.5729 - val_mean_absolute_error: 0.2278 - val_direction_metric: 0.7070 - val_angle_metric: 0.2018\n",
      "Epoch 3/100\n",
      "3165/3165 [==============================] - ETA: 0s - loss: 0.2059 - mean_absolute_error: 0.1359 - direction_metric: 0.9183 - angle_metric: 0.4690INFO:tensorflow:Assets written to: /home/quentin/Desktop/ISL/interiorsim/code/experiments/rl_openbot/imitation_learning/models/TestSession_1_pilot_net_lr0.0001_bz512_bn/checkpoints/cp-last.ckpt/assets\n",
      "INFO:tensorflow:Assets written to: /home/quentin/Desktop/ISL/interiorsim/code/experiments/rl_openbot/imitation_learning/models/TestSession_1_pilot_net_lr0.0001_bz512_bn/checkpoints/cp-best-train.ckpt/assets\n",
      "INFO:tensorflow:Assets written to: /home/quentin/Desktop/ISL/interiorsim/code/experiments/rl_openbot/imitation_learning/models/TestSession_1_pilot_net_lr0.0001_bz512_bn/checkpoints/cp-best-val.ckpt/assets\n",
      "on_epoch_end {'loss': 0.20586563646793365, 'mean_absolute_error': 0.1358821988105774, 'direction_metric': 0.9183235764503479, 'angle_metric': 0.4689844846725464, 'val_loss': 0.5602548718452454, 'val_mean_absolute_error': 0.2149680107831955, 'val_direction_metric': 0.7266520261764526, 'val_angle_metric': 0.19541673362255096, 'epoch': 2}\n",
      "logs {'loss': 0.20586563646793365, 'mean_absolute_error': 0.1358821988105774, 'direction_metric': 0.9183235764503479, 'angle_metric': 0.4689844846725464, 'val_loss': 0.5602548718452454, 'val_mean_absolute_error': 0.2149680107831955, 'val_direction_metric': 0.7266520261764526, 'val_angle_metric': 0.19541673362255096, 'epoch': 2}\n",
      "3165/3165 [==============================] - 362s 114ms/step - loss: 0.2059 - mean_absolute_error: 0.1359 - direction_metric: 0.9183 - angle_metric: 0.4690 - val_loss: 0.5603 - val_mean_absolute_error: 0.2150 - val_direction_metric: 0.7267 - val_angle_metric: 0.1954\n",
      "Epoch 4/100\n",
      "3165/3165 [==============================] - ETA: 0s - loss: 0.1736 - mean_absolute_error: 0.1184 - direction_metric: 0.9381 - angle_metric: 0.5198INFO:tensorflow:Assets written to: /home/quentin/Desktop/ISL/interiorsim/code/experiments/rl_openbot/imitation_learning/models/TestSession_1_pilot_net_lr0.0001_bz512_bn/checkpoints/cp-last.ckpt/assets\n",
      "INFO:tensorflow:Assets written to: /home/quentin/Desktop/ISL/interiorsim/code/experiments/rl_openbot/imitation_learning/models/TestSession_1_pilot_net_lr0.0001_bz512_bn/checkpoints/cp-best-train.ckpt/assets\n",
      "on_epoch_end {'loss': 0.173611581325531, 'mean_absolute_error': 0.11835456639528275, 'direction_metric': 0.9380955100059509, 'angle_metric': 0.5198255777359009, 'val_loss': 0.5857532024383545, 'val_mean_absolute_error': 0.20752409100532532, 'val_direction_metric': 0.7323026061058044, 'val_angle_metric': 0.2585151493549347, 'epoch': 3}\n",
      "logs {'loss': 0.173611581325531, 'mean_absolute_error': 0.11835456639528275, 'direction_metric': 0.9380955100059509, 'angle_metric': 0.5198255777359009, 'val_loss': 0.5857532024383545, 'val_mean_absolute_error': 0.20752409100532532, 'val_direction_metric': 0.7323026061058044, 'val_angle_metric': 0.2585151493549347, 'epoch': 3}\n",
      "3165/3165 [==============================] - 360s 114ms/step - loss: 0.1736 - mean_absolute_error: 0.1184 - direction_metric: 0.9381 - angle_metric: 0.5198 - val_loss: 0.5858 - val_mean_absolute_error: 0.2075 - val_direction_metric: 0.7323 - val_angle_metric: 0.2585\n",
      "Epoch 5/100\n",
      "3165/3165 [==============================] - ETA: 0s - loss: 0.1496 - mean_absolute_error: 0.1051 - direction_metric: 0.9522 - angle_metric: 0.5621INFO:tensorflow:Assets written to: /home/quentin/Desktop/ISL/interiorsim/code/experiments/rl_openbot/imitation_learning/models/TestSession_1_pilot_net_lr0.0001_bz512_bn/checkpoints/cp-last.ckpt/assets\n",
      "INFO:tensorflow:Assets written to: /home/quentin/Desktop/ISL/interiorsim/code/experiments/rl_openbot/imitation_learning/models/TestSession_1_pilot_net_lr0.0001_bz512_bn/checkpoints/cp-best-train.ckpt/assets\n",
      "on_epoch_end {'loss': 0.14962048828601837, 'mean_absolute_error': 0.10514739155769348, 'direction_metric': 0.9522240161895752, 'angle_metric': 0.562054455280304, 'val_loss': 0.5697217583656311, 'val_mean_absolute_error': 0.20485228300094604, 'val_direction_metric': 0.7151938676834106, 'val_angle_metric': 0.24383927881717682, 'epoch': 4}\n",
      "logs {'loss': 0.14962048828601837, 'mean_absolute_error': 0.10514739155769348, 'direction_metric': 0.9522240161895752, 'angle_metric': 0.562054455280304, 'val_loss': 0.5697217583656311, 'val_mean_absolute_error': 0.20485228300094604, 'val_direction_metric': 0.7151938676834106, 'val_angle_metric': 0.24383927881717682, 'epoch': 4}\n",
      "3165/3165 [==============================] - 358s 113ms/step - loss: 0.1496 - mean_absolute_error: 0.1051 - direction_metric: 0.9522 - angle_metric: 0.5621 - val_loss: 0.5697 - val_mean_absolute_error: 0.2049 - val_direction_metric: 0.7152 - val_angle_metric: 0.2438\n",
      "Epoch 6/100\n",
      "3165/3165 [==============================] - ETA: 0s - loss: 0.1314 - mean_absolute_error: 0.0946 - direction_metric: 0.9622 - angle_metric: 0.5969INFO:tensorflow:Assets written to: /home/quentin/Desktop/ISL/interiorsim/code/experiments/rl_openbot/imitation_learning/models/TestSession_1_pilot_net_lr0.0001_bz512_bn/checkpoints/cp-last.ckpt/assets\n",
      "INFO:tensorflow:Assets written to: /home/quentin/Desktop/ISL/interiorsim/code/experiments/rl_openbot/imitation_learning/models/TestSession_1_pilot_net_lr0.0001_bz512_bn/checkpoints/cp-best-train.ckpt/assets\n",
      "on_epoch_end {'loss': 0.13142797350883484, 'mean_absolute_error': 0.09462881088256836, 'direction_metric': 0.9621871113777161, 'angle_metric': 0.5969132781028748, 'val_loss': 0.5741453766822815, 'val_mean_absolute_error': 0.19660361111164093, 'val_direction_metric': 0.7287709712982178, 'val_angle_metric': 0.2636948525905609, 'epoch': 5}\n",
      "logs {'loss': 0.13142797350883484, 'mean_absolute_error': 0.09462881088256836, 'direction_metric': 0.9621871113777161, 'angle_metric': 0.5969132781028748, 'val_loss': 0.5741453766822815, 'val_mean_absolute_error': 0.19660361111164093, 'val_direction_metric': 0.7287709712982178, 'val_angle_metric': 0.2636948525905609, 'epoch': 5}\n",
      "3165/3165 [==============================] - 357s 113ms/step - loss: 0.1314 - mean_absolute_error: 0.0946 - direction_metric: 0.9622 - angle_metric: 0.5969 - val_loss: 0.5741 - val_mean_absolute_error: 0.1966 - val_direction_metric: 0.7288 - val_angle_metric: 0.2637\n",
      "Epoch 7/100\n",
      "3165/3165 [==============================] - ETA: 0s - loss: 0.1183 - mean_absolute_error: 0.0869 - direction_metric: 0.9687 - angle_metric: 0.6246INFO:tensorflow:Assets written to: /home/quentin/Desktop/ISL/interiorsim/code/experiments/rl_openbot/imitation_learning/models/TestSession_1_pilot_net_lr0.0001_bz512_bn/checkpoints/cp-last.ckpt/assets\n",
      "INFO:tensorflow:Assets written to: /home/quentin/Desktop/ISL/interiorsim/code/experiments/rl_openbot/imitation_learning/models/TestSession_1_pilot_net_lr0.0001_bz512_bn/checkpoints/cp-best-train.ckpt/assets\n",
      "on_epoch_end {'loss': 0.1183217242360115, 'mean_absolute_error': 0.08685506135225296, 'direction_metric': 0.9687364101409912, 'angle_metric': 0.6245908737182617, 'val_loss': 0.5984989404678345, 'val_mean_absolute_error': 0.20463736355304718, 'val_direction_metric': 0.7137027382850647, 'val_angle_metric': 0.2191963642835617, 'epoch': 6}\n",
      "logs {'loss': 0.1183217242360115, 'mean_absolute_error': 0.08685506135225296, 'direction_metric': 0.9687364101409912, 'angle_metric': 0.6245908737182617, 'val_loss': 0.5984989404678345, 'val_mean_absolute_error': 0.20463736355304718, 'val_direction_metric': 0.7137027382850647, 'val_angle_metric': 0.2191963642835617, 'epoch': 6}\n",
      "3165/3165 [==============================] - 356s 112ms/step - loss: 0.1183 - mean_absolute_error: 0.0869 - direction_metric: 0.9687 - angle_metric: 0.6246 - val_loss: 0.5985 - val_mean_absolute_error: 0.2046 - val_direction_metric: 0.7137 - val_angle_metric: 0.2192\n",
      "Epoch 8/100\n",
      "3165/3165 [==============================] - ETA: 0s - loss: 0.1084 - mean_absolute_error: 0.0807 - direction_metric: 0.9736 - angle_metric: 0.6479INFO:tensorflow:Assets written to: /home/quentin/Desktop/ISL/interiorsim/code/experiments/rl_openbot/imitation_learning/models/TestSession_1_pilot_net_lr0.0001_bz512_bn/checkpoints/cp-last.ckpt/assets\n",
      "INFO:tensorflow:Assets written to: /home/quentin/Desktop/ISL/interiorsim/code/experiments/rl_openbot/imitation_learning/models/TestSession_1_pilot_net_lr0.0001_bz512_bn/checkpoints/cp-best-train.ckpt/assets\n",
      "on_epoch_end {'loss': 0.10841729491949081, 'mean_absolute_error': 0.08065219968557358, 'direction_metric': 0.9735745191574097, 'angle_metric': 0.6478888988494873, 'val_loss': 0.5656349658966064, 'val_mean_absolute_error': 0.19210359454154968, 'val_direction_metric': 0.723434329032898, 'val_angle_metric': 0.2504316568374634, 'epoch': 7}\n",
      "logs {'loss': 0.10841729491949081, 'mean_absolute_error': 0.08065219968557358, 'direction_metric': 0.9735745191574097, 'angle_metric': 0.6478888988494873, 'val_loss': 0.5656349658966064, 'val_mean_absolute_error': 0.19210359454154968, 'val_direction_metric': 0.723434329032898, 'val_angle_metric': 0.2504316568374634, 'epoch': 7}\n",
      "3165/3165 [==============================] - 356s 113ms/step - loss: 0.1084 - mean_absolute_error: 0.0807 - direction_metric: 0.9736 - angle_metric: 0.6479 - val_loss: 0.5656 - val_mean_absolute_error: 0.1921 - val_direction_metric: 0.7234 - val_angle_metric: 0.2504\n",
      "Epoch 9/100\n",
      "3165/3165 [==============================] - ETA: 0s - loss: 0.1005 - mean_absolute_error: 0.0757 - direction_metric: 0.9767 - angle_metric: 0.6683INFO:tensorflow:Assets written to: /home/quentin/Desktop/ISL/interiorsim/code/experiments/rl_openbot/imitation_learning/models/TestSession_1_pilot_net_lr0.0001_bz512_bn/checkpoints/cp-last.ckpt/assets\n",
      "INFO:tensorflow:Assets written to: /home/quentin/Desktop/ISL/interiorsim/code/experiments/rl_openbot/imitation_learning/models/TestSession_1_pilot_net_lr0.0001_bz512_bn/checkpoints/cp-best-train.ckpt/assets\n",
      "on_epoch_end {'loss': 0.1004694476723671, 'mean_absolute_error': 0.0756816491484642, 'direction_metric': 0.9766988754272461, 'angle_metric': 0.6682958006858826, 'val_loss': 0.5627460479736328, 'val_mean_absolute_error': 0.1951693892478943, 'val_direction_metric': 0.7229634523391724, 'val_angle_metric': 0.2414848506450653, 'epoch': 8}\n",
      "logs {'loss': 0.1004694476723671, 'mean_absolute_error': 0.0756816491484642, 'direction_metric': 0.9766988754272461, 'angle_metric': 0.6682958006858826, 'val_loss': 0.5627460479736328, 'val_mean_absolute_error': 0.1951693892478943, 'val_direction_metric': 0.7229634523391724, 'val_angle_metric': 0.2414848506450653, 'epoch': 8}\n",
      "3165/3165 [==============================] - 350s 111ms/step - loss: 0.1005 - mean_absolute_error: 0.0757 - direction_metric: 0.9767 - angle_metric: 0.6683 - val_loss: 0.5627 - val_mean_absolute_error: 0.1952 - val_direction_metric: 0.7230 - val_angle_metric: 0.2415\n",
      "Epoch 10/100\n",
      "3165/3165 [==============================] - ETA: 0s - loss: 0.0943 - mean_absolute_error: 0.0717 - direction_metric: 0.9794 - angle_metric: 0.6846INFO:tensorflow:Assets written to: /home/quentin/Desktop/ISL/interiorsim/code/experiments/rl_openbot/imitation_learning/models/TestSession_1_pilot_net_lr0.0001_bz512_bn/checkpoints/cp-last.ckpt/assets\n",
      "INFO:tensorflow:Assets written to: /home/quentin/Desktop/ISL/interiorsim/code/experiments/rl_openbot/imitation_learning/models/TestSession_1_pilot_net_lr0.0001_bz512_bn/checkpoints/cp-best-train.ckpt/assets\n",
      "INFO:tensorflow:Assets written to: /home/quentin/Desktop/ISL/interiorsim/code/experiments/rl_openbot/imitation_learning/models/TestSession_1_pilot_net_lr0.0001_bz512_bn/checkpoints/cp-best-val.ckpt/assets\n",
      "on_epoch_end {'loss': 0.0942869558930397, 'mean_absolute_error': 0.07167819142341614, 'direction_metric': 0.9793561100959778, 'angle_metric': 0.684636652469635, 'val_loss': 0.5553810000419617, 'val_mean_absolute_error': 0.20200538635253906, 'val_direction_metric': 0.7174698114395142, 'val_angle_metric': 0.2387380301952362, 'epoch': 9}\n",
      "logs {'loss': 0.0942869558930397, 'mean_absolute_error': 0.07167819142341614, 'direction_metric': 0.9793561100959778, 'angle_metric': 0.684636652469635, 'val_loss': 0.5553810000419617, 'val_mean_absolute_error': 0.20200538635253906, 'val_direction_metric': 0.7174698114395142, 'val_angle_metric': 0.2387380301952362, 'epoch': 9}\n",
      "3165/3165 [==============================] - 351s 111ms/step - loss: 0.0943 - mean_absolute_error: 0.0717 - direction_metric: 0.9794 - angle_metric: 0.6846 - val_loss: 0.5554 - val_mean_absolute_error: 0.2020 - val_direction_metric: 0.7175 - val_angle_metric: 0.2387\n",
      "Epoch 11/100\n",
      "3165/3165 [==============================] - ETA: 0s - loss: 0.0889 - mean_absolute_error: 0.0681 - direction_metric: 0.9812 - angle_metric: 0.7002INFO:tensorflow:Assets written to: /home/quentin/Desktop/ISL/interiorsim/code/experiments/rl_openbot/imitation_learning/models/TestSession_1_pilot_net_lr0.0001_bz512_bn/checkpoints/cp-last.ckpt/assets\n",
      "INFO:tensorflow:Assets written to: /home/quentin/Desktop/ISL/interiorsim/code/experiments/rl_openbot/imitation_learning/models/TestSession_1_pilot_net_lr0.0001_bz512_bn/checkpoints/cp-best-train.ckpt/assets\n",
      "on_epoch_end {'loss': 0.08889367431402206, 'mean_absolute_error': 0.06813311576843262, 'direction_metric': 0.9812425971031189, 'angle_metric': 0.700236976146698, 'val_loss': 0.574527382850647, 'val_mean_absolute_error': 0.20176896452903748, 'val_direction_metric': 0.7143305540084839, 'val_angle_metric': 0.2304190844297409, 'epoch': 10}\n",
      "logs {'loss': 0.08889367431402206, 'mean_absolute_error': 0.06813311576843262, 'direction_metric': 0.9812425971031189, 'angle_metric': 0.700236976146698, 'val_loss': 0.574527382850647, 'val_mean_absolute_error': 0.20176896452903748, 'val_direction_metric': 0.7143305540084839, 'val_angle_metric': 0.2304190844297409, 'epoch': 10}\n",
      "3165/3165 [==============================] - 354s 112ms/step - loss: 0.0889 - mean_absolute_error: 0.0681 - direction_metric: 0.9812 - angle_metric: 0.7002 - val_loss: 0.5745 - val_mean_absolute_error: 0.2018 - val_direction_metric: 0.7143 - val_angle_metric: 0.2304\n",
      "Epoch 12/100\n",
      "3165/3165 [==============================] - ETA: 0s - loss: 0.0847 - mean_absolute_error: 0.0653 - direction_metric: 0.9828 - angle_metric: 0.7125INFO:tensorflow:Assets written to: /home/quentin/Desktop/ISL/interiorsim/code/experiments/rl_openbot/imitation_learning/models/TestSession_1_pilot_net_lr0.0001_bz512_bn/checkpoints/cp-last.ckpt/assets\n",
      "INFO:tensorflow:Assets written to: /home/quentin/Desktop/ISL/interiorsim/code/experiments/rl_openbot/imitation_learning/models/TestSession_1_pilot_net_lr0.0001_bz512_bn/checkpoints/cp-best-train.ckpt/assets\n",
      "on_epoch_end {'loss': 0.0847180038690567, 'mean_absolute_error': 0.06533586233854294, 'direction_metric': 0.9827717542648315, 'angle_metric': 0.7125253081321716, 'val_loss': 0.5849207043647766, 'val_mean_absolute_error': 0.2003062516450882, 'val_direction_metric': 0.7211583852767944, 'val_angle_metric': 0.2301836460828781, 'epoch': 11}\n",
      "logs {'loss': 0.0847180038690567, 'mean_absolute_error': 0.06533586233854294, 'direction_metric': 0.9827717542648315, 'angle_metric': 0.7125253081321716, 'val_loss': 0.5849207043647766, 'val_mean_absolute_error': 0.2003062516450882, 'val_direction_metric': 0.7211583852767944, 'val_angle_metric': 0.2301836460828781, 'epoch': 11}\n",
      "3165/3165 [==============================] - 355s 112ms/step - loss: 0.0847 - mean_absolute_error: 0.0653 - direction_metric: 0.9828 - angle_metric: 0.7125 - val_loss: 0.5849 - val_mean_absolute_error: 0.2003 - val_direction_metric: 0.7212 - val_angle_metric: 0.2302\n",
      "Epoch 13/100\n",
      "3165/3165 [==============================] - ETA: 0s - loss: 0.0811 - mean_absolute_error: 0.0629 - direction_metric: 0.9842 - angle_metric: 0.7229INFO:tensorflow:Assets written to: /home/quentin/Desktop/ISL/interiorsim/code/experiments/rl_openbot/imitation_learning/models/TestSession_1_pilot_net_lr0.0001_bz512_bn/checkpoints/cp-last.ckpt/assets\n",
      "INFO:tensorflow:Assets written to: /home/quentin/Desktop/ISL/interiorsim/code/experiments/rl_openbot/imitation_learning/models/TestSession_1_pilot_net_lr0.0001_bz512_bn/checkpoints/cp-best-train.ckpt/assets\n",
      "on_epoch_end {'loss': 0.08114352822303772, 'mean_absolute_error': 0.06294721364974976, 'direction_metric': 0.9841886162757874, 'angle_metric': 0.7229154109954834, 'val_loss': 0.5701173543930054, 'val_mean_absolute_error': 0.2024613320827484, 'val_direction_metric': 0.7140951156616211, 'val_angle_metric': 0.2220216542482376, 'epoch': 12}\n",
      "logs {'loss': 0.08114352822303772, 'mean_absolute_error': 0.06294721364974976, 'direction_metric': 0.9841886162757874, 'angle_metric': 0.7229154109954834, 'val_loss': 0.5701173543930054, 'val_mean_absolute_error': 0.2024613320827484, 'val_direction_metric': 0.7140951156616211, 'val_angle_metric': 0.2220216542482376, 'epoch': 12}\n",
      "3165/3165 [==============================] - 350s 111ms/step - loss: 0.0811 - mean_absolute_error: 0.0629 - direction_metric: 0.9842 - angle_metric: 0.7229 - val_loss: 0.5701 - val_mean_absolute_error: 0.2025 - val_direction_metric: 0.7141 - val_angle_metric: 0.2220\n",
      "Epoch 14/100\n",
      "3165/3165 [==============================] - ETA: 0s - loss: 0.0781 - mean_absolute_error: 0.0608 - direction_metric: 0.9851 - angle_metric: 0.7324INFO:tensorflow:Assets written to: /home/quentin/Desktop/ISL/interiorsim/code/experiments/rl_openbot/imitation_learning/models/TestSession_1_pilot_net_lr0.0001_bz512_bn/checkpoints/cp-last.ckpt/assets\n",
      "INFO:tensorflow:Assets written to: /home/quentin/Desktop/ISL/interiorsim/code/experiments/rl_openbot/imitation_learning/models/TestSession_1_pilot_net_lr0.0001_bz512_bn/checkpoints/cp-best-train.ckpt/assets\n",
      "on_epoch_end {'loss': 0.07811297476291656, 'mean_absolute_error': 0.060824546962976456, 'direction_metric': 0.985057532787323, 'angle_metric': 0.7324212789535522, 'val_loss': 0.5825591683387756, 'val_mean_absolute_error': 0.2028438001871109, 'val_direction_metric': 0.7089154124259949, 'val_angle_metric': 0.21715585887432098, 'epoch': 13}\n",
      "logs {'loss': 0.07811297476291656, 'mean_absolute_error': 0.060824546962976456, 'direction_metric': 0.985057532787323, 'angle_metric': 0.7324212789535522, 'val_loss': 0.5825591683387756, 'val_mean_absolute_error': 0.2028438001871109, 'val_direction_metric': 0.7089154124259949, 'val_angle_metric': 0.21715585887432098, 'epoch': 13}\n",
      "3165/3165 [==============================] - 350s 111ms/step - loss: 0.0781 - mean_absolute_error: 0.0608 - direction_metric: 0.9851 - angle_metric: 0.7324 - val_loss: 0.5826 - val_mean_absolute_error: 0.2028 - val_direction_metric: 0.7089 - val_angle_metric: 0.2172\n",
      "Epoch 15/100\n",
      "3165/3165 [==============================] - ETA: 0s - loss: 0.0752 - mean_absolute_error: 0.0589 - direction_metric: 0.9860 - angle_metric: 0.7413INFO:tensorflow:Assets written to: /home/quentin/Desktop/ISL/interiorsim/code/experiments/rl_openbot/imitation_learning/models/TestSession_1_pilot_net_lr0.0001_bz512_bn/checkpoints/cp-last.ckpt/assets\n",
      "INFO:tensorflow:Assets written to: /home/quentin/Desktop/ISL/interiorsim/code/experiments/rl_openbot/imitation_learning/models/TestSession_1_pilot_net_lr0.0001_bz512_bn/checkpoints/cp-best-train.ckpt/assets\n",
      "INFO:tensorflow:Assets written to: /home/quentin/Desktop/ISL/interiorsim/code/experiments/rl_openbot/imitation_learning/models/TestSession_1_pilot_net_lr0.0001_bz512_bn/checkpoints/cp-best-val.ckpt/assets\n",
      "on_epoch_end {'loss': 0.07520341128110886, 'mean_absolute_error': 0.05886566638946533, 'direction_metric': 0.9859714508056641, 'angle_metric': 0.741275429725647, 'val_loss': 0.5493107438087463, 'val_mean_absolute_error': 0.1924448162317276, 'val_direction_metric': 0.7362266778945923, 'val_angle_metric': 0.24093548953533173, 'epoch': 14}\n",
      "logs {'loss': 0.07520341128110886, 'mean_absolute_error': 0.05886566638946533, 'direction_metric': 0.9859714508056641, 'angle_metric': 0.741275429725647, 'val_loss': 0.5493107438087463, 'val_mean_absolute_error': 0.1924448162317276, 'val_direction_metric': 0.7362266778945923, 'val_angle_metric': 0.24093548953533173, 'epoch': 14}\n",
      "3165/3165 [==============================] - 353s 111ms/step - loss: 0.0752 - mean_absolute_error: 0.0589 - direction_metric: 0.9860 - angle_metric: 0.7413 - val_loss: 0.5493 - val_mean_absolute_error: 0.1924 - val_direction_metric: 0.7362 - val_angle_metric: 0.2409\n",
      "Epoch 16/100\n",
      "3165/3165 [==============================] - ETA: 0s - loss: 0.0727 - mean_absolute_error: 0.0571 - direction_metric: 0.9867 - angle_metric: 0.7497INFO:tensorflow:Assets written to: /home/quentin/Desktop/ISL/interiorsim/code/experiments/rl_openbot/imitation_learning/models/TestSession_1_pilot_net_lr0.0001_bz512_bn/checkpoints/cp-last.ckpt/assets\n",
      "INFO:tensorflow:Assets written to: /home/quentin/Desktop/ISL/interiorsim/code/experiments/rl_openbot/imitation_learning/models/TestSession_1_pilot_net_lr0.0001_bz512_bn/checkpoints/cp-best-train.ckpt/assets\n",
      "on_epoch_end {'loss': 0.07270761579275131, 'mean_absolute_error': 0.057090699672698975, 'direction_metric': 0.9866854548454285, 'angle_metric': 0.7496667504310608, 'val_loss': 0.582237720489502, 'val_mean_absolute_error': 0.20247028768062592, 'val_direction_metric': 0.7208444476127625, 'val_angle_metric': 0.22053052484989166, 'epoch': 15}\n",
      "logs {'loss': 0.07270761579275131, 'mean_absolute_error': 0.057090699672698975, 'direction_metric': 0.9866854548454285, 'angle_metric': 0.7496667504310608, 'val_loss': 0.582237720489502, 'val_mean_absolute_error': 0.20247028768062592, 'val_direction_metric': 0.7208444476127625, 'val_angle_metric': 0.22053052484989166, 'epoch': 15}\n",
      "3165/3165 [==============================] - 356s 112ms/step - loss: 0.0727 - mean_absolute_error: 0.0571 - direction_metric: 0.9867 - angle_metric: 0.7497 - val_loss: 0.5822 - val_mean_absolute_error: 0.2025 - val_direction_metric: 0.7208 - val_angle_metric: 0.2205\n",
      "Epoch 17/100\n",
      "3165/3165 [==============================] - ETA: 0s - loss: 0.0704 - mean_absolute_error: 0.0555 - direction_metric: 0.9875 - angle_metric: 0.7572INFO:tensorflow:Assets written to: /home/quentin/Desktop/ISL/interiorsim/code/experiments/rl_openbot/imitation_learning/models/TestSession_1_pilot_net_lr0.0001_bz512_bn/checkpoints/cp-last.ckpt/assets\n",
      "INFO:tensorflow:Assets written to: /home/quentin/Desktop/ISL/interiorsim/code/experiments/rl_openbot/imitation_learning/models/TestSession_1_pilot_net_lr0.0001_bz512_bn/checkpoints/cp-best-train.ckpt/assets\n",
      "on_epoch_end {'loss': 0.07036306709051132, 'mean_absolute_error': 0.055522602051496506, 'direction_metric': 0.987488865852356, 'angle_metric': 0.7572404742240906, 'val_loss': 0.5627080798149109, 'val_mean_absolute_error': 0.20120742917060852, 'val_direction_metric': 0.717391312122345, 'val_angle_metric': 0.2250823974609375, 'epoch': 16}\n",
      "logs {'loss': 0.07036306709051132, 'mean_absolute_error': 0.055522602051496506, 'direction_metric': 0.987488865852356, 'angle_metric': 0.7572404742240906, 'val_loss': 0.5627080798149109, 'val_mean_absolute_error': 0.20120742917060852, 'val_direction_metric': 0.717391312122345, 'val_angle_metric': 0.2250823974609375, 'epoch': 16}\n",
      "3165/3165 [==============================] - 352s 111ms/step - loss: 0.0704 - mean_absolute_error: 0.0555 - direction_metric: 0.9875 - angle_metric: 0.7572 - val_loss: 0.5627 - val_mean_absolute_error: 0.2012 - val_direction_metric: 0.7174 - val_angle_metric: 0.2251\n",
      "Epoch 18/100\n",
      "3165/3165 [==============================] - ETA: 0s - loss: 0.0684 - mean_absolute_error: 0.0541 - direction_metric: 0.9882 - angle_metric: 0.7640INFO:tensorflow:Assets written to: /home/quentin/Desktop/ISL/interiorsim/code/experiments/rl_openbot/imitation_learning/models/TestSession_1_pilot_net_lr0.0001_bz512_bn/checkpoints/cp-last.ckpt/assets\n",
      "INFO:tensorflow:Assets written to: /home/quentin/Desktop/ISL/interiorsim/code/experiments/rl_openbot/imitation_learning/models/TestSession_1_pilot_net_lr0.0001_bz512_bn/checkpoints/cp-best-train.ckpt/assets\n",
      "on_epoch_end {'loss': 0.06838812679052353, 'mean_absolute_error': 0.05410401150584221, 'direction_metric': 0.9882041215896606, 'angle_metric': 0.7640476822853088, 'val_loss': 0.5600050687789917, 'val_mean_absolute_error': 0.20035172998905182, 'val_direction_metric': 0.7296342849731445, 'val_angle_metric': 0.22814315557479858, 'epoch': 17}\n",
      "logs {'loss': 0.06838812679052353, 'mean_absolute_error': 0.05410401150584221, 'direction_metric': 0.9882041215896606, 'angle_metric': 0.7640476822853088, 'val_loss': 0.5600050687789917, 'val_mean_absolute_error': 0.20035172998905182, 'val_direction_metric': 0.7296342849731445, 'val_angle_metric': 0.22814315557479858, 'epoch': 17}\n",
      "3165/3165 [==============================] - 356s 112ms/step - loss: 0.0684 - mean_absolute_error: 0.0541 - direction_metric: 0.9882 - angle_metric: 0.7640 - val_loss: 0.5600 - val_mean_absolute_error: 0.2004 - val_direction_metric: 0.7296 - val_angle_metric: 0.2281\n",
      "Epoch 19/100\n",
      "3165/3165 [==============================] - ETA: 0s - loss: 0.0667 - mean_absolute_error: 0.0529 - direction_metric: 0.9886 - angle_metric: 0.7697INFO:tensorflow:Assets written to: /home/quentin/Desktop/ISL/interiorsim/code/experiments/rl_openbot/imitation_learning/models/TestSession_1_pilot_net_lr0.0001_bz512_bn/checkpoints/cp-last.ckpt/assets\n",
      "INFO:tensorflow:Assets written to: /home/quentin/Desktop/ISL/interiorsim/code/experiments/rl_openbot/imitation_learning/models/TestSession_1_pilot_net_lr0.0001_bz512_bn/checkpoints/cp-best-train.ckpt/assets\n",
      "on_epoch_end {'loss': 0.06665995717048645, 'mean_absolute_error': 0.05289245396852493, 'direction_metric': 0.9885737299919128, 'angle_metric': 0.7696941494941711, 'val_loss': 0.5649117231369019, 'val_mean_absolute_error': 0.19805487990379333, 'val_direction_metric': 0.7228849530220032, 'val_angle_metric': 0.2137811928987503, 'epoch': 18}\n",
      "logs {'loss': 0.06665995717048645, 'mean_absolute_error': 0.05289245396852493, 'direction_metric': 0.9885737299919128, 'angle_metric': 0.7696941494941711, 'val_loss': 0.5649117231369019, 'val_mean_absolute_error': 0.19805487990379333, 'val_direction_metric': 0.7228849530220032, 'val_angle_metric': 0.2137811928987503, 'epoch': 18}\n",
      "3165/3165 [==============================] - 355s 112ms/step - loss: 0.0667 - mean_absolute_error: 0.0529 - direction_metric: 0.9886 - angle_metric: 0.7697 - val_loss: 0.5649 - val_mean_absolute_error: 0.1981 - val_direction_metric: 0.7229 - val_angle_metric: 0.2138\n",
      "Epoch 20/100\n",
      "3165/3165 [==============================] - ETA: 0s - loss: 0.0649 - mean_absolute_error: 0.0516 - direction_metric: 0.9892 - angle_metric: 0.7753INFO:tensorflow:Assets written to: /home/quentin/Desktop/ISL/interiorsim/code/experiments/rl_openbot/imitation_learning/models/TestSession_1_pilot_net_lr0.0001_bz512_bn/checkpoints/cp-last.ckpt/assets\n",
      "INFO:tensorflow:Assets written to: /home/quentin/Desktop/ISL/interiorsim/code/experiments/rl_openbot/imitation_learning/models/TestSession_1_pilot_net_lr0.0001_bz512_bn/checkpoints/cp-best-train.ckpt/assets\n",
      "on_epoch_end {'loss': 0.06488725543022156, 'mean_absolute_error': 0.05162167549133301, 'direction_metric': 0.9892377853393555, 'angle_metric': 0.775343120098114, 'val_loss': 0.5783383846282959, 'val_mean_absolute_error': 0.20527170598506927, 'val_direction_metric': 0.7209229469299316, 'val_angle_metric': 0.2194318026304245, 'epoch': 19}\n",
      "logs {'loss': 0.06488725543022156, 'mean_absolute_error': 0.05162167549133301, 'direction_metric': 0.9892377853393555, 'angle_metric': 0.775343120098114, 'val_loss': 0.5783383846282959, 'val_mean_absolute_error': 0.20527170598506927, 'val_direction_metric': 0.7209229469299316, 'val_angle_metric': 0.2194318026304245, 'epoch': 19}\n",
      "3165/3165 [==============================] - 355s 112ms/step - loss: 0.0649 - mean_absolute_error: 0.0516 - direction_metric: 0.9892 - angle_metric: 0.7753 - val_loss: 0.5783 - val_mean_absolute_error: 0.2053 - val_direction_metric: 0.7209 - val_angle_metric: 0.2194\n",
      "Epoch 21/100\n",
      "3165/3165 [==============================] - ETA: 0s - loss: 0.0633 - mean_absolute_error: 0.0505 - direction_metric: 0.9897 - angle_metric: 0.7814INFO:tensorflow:Assets written to: /home/quentin/Desktop/ISL/interiorsim/code/experiments/rl_openbot/imitation_learning/models/TestSession_1_pilot_net_lr0.0001_bz512_bn/checkpoints/cp-last.ckpt/assets\n",
      "INFO:tensorflow:Assets written to: /home/quentin/Desktop/ISL/interiorsim/code/experiments/rl_openbot/imitation_learning/models/TestSession_1_pilot_net_lr0.0001_bz512_bn/checkpoints/cp-best-train.ckpt/assets\n",
      "on_epoch_end {'loss': 0.06332000344991684, 'mean_absolute_error': 0.05048363283276558, 'direction_metric': 0.9897221922874451, 'angle_metric': 0.781443178653717, 'val_loss': 0.5737735033035278, 'val_mean_absolute_error': 0.20430073142051697, 'val_direction_metric': 0.7136242389678955, 'val_angle_metric': 0.21503688395023346, 'epoch': 20}\n",
      "logs {'loss': 0.06332000344991684, 'mean_absolute_error': 0.05048363283276558, 'direction_metric': 0.9897221922874451, 'angle_metric': 0.781443178653717, 'val_loss': 0.5737735033035278, 'val_mean_absolute_error': 0.20430073142051697, 'val_direction_metric': 0.7136242389678955, 'val_angle_metric': 0.21503688395023346, 'epoch': 20}\n",
      "3165/3165 [==============================] - 360s 114ms/step - loss: 0.0633 - mean_absolute_error: 0.0505 - direction_metric: 0.9897 - angle_metric: 0.7814 - val_loss: 0.5738 - val_mean_absolute_error: 0.2043 - val_direction_metric: 0.7136 - val_angle_metric: 0.2150\n",
      "Epoch 22/100\n",
      "3165/3165 [==============================] - ETA: 0s - loss: 0.0618 - mean_absolute_error: 0.0494 - direction_metric: 0.9902 - angle_metric: 0.7865INFO:tensorflow:Assets written to: /home/quentin/Desktop/ISL/interiorsim/code/experiments/rl_openbot/imitation_learning/models/TestSession_1_pilot_net_lr0.0001_bz512_bn/checkpoints/cp-last.ckpt/assets\n",
      "INFO:tensorflow:Assets written to: /home/quentin/Desktop/ISL/interiorsim/code/experiments/rl_openbot/imitation_learning/models/TestSession_1_pilot_net_lr0.0001_bz512_bn/checkpoints/cp-best-train.ckpt/assets\n",
      "on_epoch_end {'loss': 0.06182990223169327, 'mean_absolute_error': 0.04942519590258598, 'direction_metric': 0.990175724029541, 'angle_metric': 0.7865342497825623, 'val_loss': 0.5581955313682556, 'val_mean_absolute_error': 0.20567062497138977, 'val_direction_metric': 0.7192748188972473, 'val_angle_metric': 0.21998116374015808, 'epoch': 21}\n",
      "logs {'loss': 0.06182990223169327, 'mean_absolute_error': 0.04942519590258598, 'direction_metric': 0.990175724029541, 'angle_metric': 0.7865342497825623, 'val_loss': 0.5581955313682556, 'val_mean_absolute_error': 0.20567062497138977, 'val_direction_metric': 0.7192748188972473, 'val_angle_metric': 0.21998116374015808, 'epoch': 21}\n",
      "3165/3165 [==============================] - 356s 113ms/step - loss: 0.0618 - mean_absolute_error: 0.0494 - direction_metric: 0.9902 - angle_metric: 0.7865 - val_loss: 0.5582 - val_mean_absolute_error: 0.2057 - val_direction_metric: 0.7193 - val_angle_metric: 0.2200\n",
      "Epoch 23/100\n",
      "3165/3165 [==============================] - ETA: 0s - loss: 0.0605 - mean_absolute_error: 0.0485 - direction_metric: 0.9905 - angle_metric: 0.7913INFO:tensorflow:Assets written to: /home/quentin/Desktop/ISL/interiorsim/code/experiments/rl_openbot/imitation_learning/models/TestSession_1_pilot_net_lr0.0001_bz512_bn/checkpoints/cp-last.ckpt/assets\n",
      "INFO:tensorflow:Assets written to: /home/quentin/Desktop/ISL/interiorsim/code/experiments/rl_openbot/imitation_learning/models/TestSession_1_pilot_net_lr0.0001_bz512_bn/checkpoints/cp-best-train.ckpt/assets\n",
      "on_epoch_end {'loss': 0.06051834300160408, 'mean_absolute_error': 0.04850475490093231, 'direction_metric': 0.9905096292495728, 'angle_metric': 0.7912501096725464, 'val_loss': 0.5555907487869263, 'val_mean_absolute_error': 0.19785092771053314, 'val_direction_metric': 0.7353633642196655, 'val_angle_metric': 0.22814315557479858, 'epoch': 22}\n",
      "logs {'loss': 0.06051834300160408, 'mean_absolute_error': 0.04850475490093231, 'direction_metric': 0.9905096292495728, 'angle_metric': 0.7912501096725464, 'val_loss': 0.5555907487869263, 'val_mean_absolute_error': 0.19785092771053314, 'val_direction_metric': 0.7353633642196655, 'val_angle_metric': 0.22814315557479858, 'epoch': 22}\n",
      "3165/3165 [==============================] - 354s 112ms/step - loss: 0.0605 - mean_absolute_error: 0.0485 - direction_metric: 0.9905 - angle_metric: 0.7913 - val_loss: 0.5556 - val_mean_absolute_error: 0.1979 - val_direction_metric: 0.7354 - val_angle_metric: 0.2281\n",
      "Epoch 24/100\n",
      "3165/3165 [==============================] - ETA: 0s - loss: 0.0592 - mean_absolute_error: 0.0475 - direction_metric: 0.9909 - angle_metric: 0.7961INFO:tensorflow:Assets written to: /home/quentin/Desktop/ISL/interiorsim/code/experiments/rl_openbot/imitation_learning/models/TestSession_1_pilot_net_lr0.0001_bz512_bn/checkpoints/cp-last.ckpt/assets\n",
      "INFO:tensorflow:Assets written to: /home/quentin/Desktop/ISL/interiorsim/code/experiments/rl_openbot/imitation_learning/models/TestSession_1_pilot_net_lr0.0001_bz512_bn/checkpoints/cp-best-train.ckpt/assets\n",
      "on_epoch_end {'loss': 0.05917353555560112, 'mean_absolute_error': 0.04754078760743141, 'direction_metric': 0.9909378886222839, 'angle_metric': 0.7961122393608093, 'val_loss': 0.5581040382385254, 'val_mean_absolute_error': 0.20315247774124146, 'val_direction_metric': 0.7370114326477051, 'val_angle_metric': 0.21550777554512024, 'epoch': 23}\n",
      "logs {'loss': 0.05917353555560112, 'mean_absolute_error': 0.04754078760743141, 'direction_metric': 0.9909378886222839, 'angle_metric': 0.7961122393608093, 'val_loss': 0.5581040382385254, 'val_mean_absolute_error': 0.20315247774124146, 'val_direction_metric': 0.7370114326477051, 'val_angle_metric': 0.21550777554512024, 'epoch': 23}\n",
      "3165/3165 [==============================] - 354s 112ms/step - loss: 0.0592 - mean_absolute_error: 0.0475 - direction_metric: 0.9909 - angle_metric: 0.7961 - val_loss: 0.5581 - val_mean_absolute_error: 0.2032 - val_direction_metric: 0.7370 - val_angle_metric: 0.2155\n",
      "Epoch 25/100\n",
      "3165/3165 [==============================] - ETA: 0s - loss: 0.0580 - mean_absolute_error: 0.0467 - direction_metric: 0.9913 - angle_metric: 0.8004INFO:tensorflow:Assets written to: /home/quentin/Desktop/ISL/interiorsim/code/experiments/rl_openbot/imitation_learning/models/TestSession_1_pilot_net_lr0.0001_bz512_bn/checkpoints/cp-last.ckpt/assets\n",
      "INFO:tensorflow:Assets written to: /home/quentin/Desktop/ISL/interiorsim/code/experiments/rl_openbot/imitation_learning/models/TestSession_1_pilot_net_lr0.0001_bz512_bn/checkpoints/cp-best-train.ckpt/assets\n",
      "on_epoch_end {'loss': 0.05798781290650368, 'mean_absolute_error': 0.04671860858798027, 'direction_metric': 0.9912557005882263, 'angle_metric': 0.8004122376441956, 'val_loss': 0.5572910308837891, 'val_mean_absolute_error': 0.20138855278491974, 'val_direction_metric': 0.7199811935424805, 'val_angle_metric': 0.2279861867427826, 'epoch': 24}\n",
      "logs {'loss': 0.05798781290650368, 'mean_absolute_error': 0.04671860858798027, 'direction_metric': 0.9912557005882263, 'angle_metric': 0.8004122376441956, 'val_loss': 0.5572910308837891, 'val_mean_absolute_error': 0.20138855278491974, 'val_direction_metric': 0.7199811935424805, 'val_angle_metric': 0.2279861867427826, 'epoch': 24}\n",
      "3165/3165 [==============================] - 358s 113ms/step - loss: 0.0580 - mean_absolute_error: 0.0467 - direction_metric: 0.9913 - angle_metric: 0.8004 - val_loss: 0.5573 - val_mean_absolute_error: 0.2014 - val_direction_metric: 0.7200 - val_angle_metric: 0.2280\n",
      "Epoch 26/100\n",
      "3165/3165 [==============================] - ETA: 0s - loss: 0.0570 - mean_absolute_error: 0.0459 - direction_metric: 0.9915 - angle_metric: 0.8041INFO:tensorflow:Assets written to: /home/quentin/Desktop/ISL/interiorsim/code/experiments/rl_openbot/imitation_learning/models/TestSession_1_pilot_net_lr0.0001_bz512_bn/checkpoints/cp-last.ckpt/assets\n",
      "INFO:tensorflow:Assets written to: /home/quentin/Desktop/ISL/interiorsim/code/experiments/rl_openbot/imitation_learning/models/TestSession_1_pilot_net_lr0.0001_bz512_bn/checkpoints/cp-best-train.ckpt/assets\n",
      "on_epoch_end {'loss': 0.056961286813020706, 'mean_absolute_error': 0.04590996354818344, 'direction_metric': 0.991514265537262, 'angle_metric': 0.804088294506073, 'val_loss': 0.557111918926239, 'val_mean_absolute_error': 0.20346252620220184, 'val_direction_metric': 0.7162925601005554, 'val_angle_metric': 0.2252393662929535, 'epoch': 25}\n",
      "logs {'loss': 0.056961286813020706, 'mean_absolute_error': 0.04590996354818344, 'direction_metric': 0.991514265537262, 'angle_metric': 0.804088294506073, 'val_loss': 0.557111918926239, 'val_mean_absolute_error': 0.20346252620220184, 'val_direction_metric': 0.7162925601005554, 'val_angle_metric': 0.2252393662929535, 'epoch': 25}\n",
      "3165/3165 [==============================] - 356s 112ms/step - loss: 0.0570 - mean_absolute_error: 0.0459 - direction_metric: 0.9915 - angle_metric: 0.8041 - val_loss: 0.5571 - val_mean_absolute_error: 0.2035 - val_direction_metric: 0.7163 - val_angle_metric: 0.2252\n",
      "Epoch 27/100\n",
      "3165/3165 [==============================] - ETA: 0s - loss: 0.0557 - mean_absolute_error: 0.0451 - direction_metric: 0.9918 - angle_metric: 0.8080INFO:tensorflow:Assets written to: /home/quentin/Desktop/ISL/interiorsim/code/experiments/rl_openbot/imitation_learning/models/TestSession_1_pilot_net_lr0.0001_bz512_bn/checkpoints/cp-last.ckpt/assets\n",
      "INFO:tensorflow:Assets written to: /home/quentin/Desktop/ISL/interiorsim/code/experiments/rl_openbot/imitation_learning/models/TestSession_1_pilot_net_lr0.0001_bz512_bn/checkpoints/cp-best-train.ckpt/assets\n",
      "on_epoch_end {'loss': 0.05574538931250572, 'mean_absolute_error': 0.04506119340658188, 'direction_metric': 0.9917746782302856, 'angle_metric': 0.8080445528030396, 'val_loss': 0.5701591372489929, 'val_mean_absolute_error': 0.21743717789649963, 'val_direction_metric': 0.7150368690490723, 'val_angle_metric': 0.20216606557369232, 'epoch': 26}\n",
      "logs {'loss': 0.05574538931250572, 'mean_absolute_error': 0.04506119340658188, 'direction_metric': 0.9917746782302856, 'angle_metric': 0.8080445528030396, 'val_loss': 0.5701591372489929, 'val_mean_absolute_error': 0.21743717789649963, 'val_direction_metric': 0.7150368690490723, 'val_angle_metric': 0.20216606557369232, 'epoch': 26}\n",
      "3165/3165 [==============================] - 358s 113ms/step - loss: 0.0557 - mean_absolute_error: 0.0451 - direction_metric: 0.9918 - angle_metric: 0.8080 - val_loss: 0.5702 - val_mean_absolute_error: 0.2174 - val_direction_metric: 0.7150 - val_angle_metric: 0.2022\n",
      "Epoch 28/100\n",
      "3165/3165 [==============================] - ETA: 0s - loss: 0.0548 - mean_absolute_error: 0.0444 - direction_metric: 0.9920 - angle_metric: 0.8113INFO:tensorflow:Assets written to: /home/quentin/Desktop/ISL/interiorsim/code/experiments/rl_openbot/imitation_learning/models/TestSession_1_pilot_net_lr0.0001_bz512_bn/checkpoints/cp-last.ckpt/assets\n",
      "INFO:tensorflow:Assets written to: /home/quentin/Desktop/ISL/interiorsim/code/experiments/rl_openbot/imitation_learning/models/TestSession_1_pilot_net_lr0.0001_bz512_bn/checkpoints/cp-best-train.ckpt/assets\n",
      "on_epoch_end {'loss': 0.054793186485767365, 'mean_absolute_error': 0.04436816647648811, 'direction_metric': 0.9920141100883484, 'angle_metric': 0.811276912689209, 'val_loss': 0.5528906583786011, 'val_mean_absolute_error': 0.20516681671142578, 'val_direction_metric': 0.7207659482955933, 'val_angle_metric': 0.20907236635684967, 'epoch': 27}\n",
      "logs {'loss': 0.054793186485767365, 'mean_absolute_error': 0.04436816647648811, 'direction_metric': 0.9920141100883484, 'angle_metric': 0.811276912689209, 'val_loss': 0.5528906583786011, 'val_mean_absolute_error': 0.20516681671142578, 'val_direction_metric': 0.7207659482955933, 'val_angle_metric': 0.20907236635684967, 'epoch': 27}\n",
      "3165/3165 [==============================] - 359s 113ms/step - loss: 0.0548 - mean_absolute_error: 0.0444 - direction_metric: 0.9920 - angle_metric: 0.8113 - val_loss: 0.5529 - val_mean_absolute_error: 0.2052 - val_direction_metric: 0.7208 - val_angle_metric: 0.2091\n",
      "Epoch 29/100\n",
      "3165/3165 [==============================] - ETA: 0s - loss: 0.0539 - mean_absolute_error: 0.0437 - direction_metric: 0.9923 - angle_metric: 0.8149INFO:tensorflow:Assets written to: /home/quentin/Desktop/ISL/interiorsim/code/experiments/rl_openbot/imitation_learning/models/TestSession_1_pilot_net_lr0.0001_bz512_bn/checkpoints/cp-last.ckpt/assets\n",
      "INFO:tensorflow:Assets written to: /home/quentin/Desktop/ISL/interiorsim/code/experiments/rl_openbot/imitation_learning/models/TestSession_1_pilot_net_lr0.0001_bz512_bn/checkpoints/cp-best-train.ckpt/assets\n",
      "on_epoch_end {'loss': 0.05388824641704559, 'mean_absolute_error': 0.043706364929676056, 'direction_metric': 0.9923220276832581, 'angle_metric': 0.8149430751800537, 'val_loss': 0.5568935871124268, 'val_mean_absolute_error': 0.2033938318490982, 'val_direction_metric': 0.7333228588104248, 'val_angle_metric': 0.2167634665966034, 'epoch': 28}\n",
      "logs {'loss': 0.05388824641704559, 'mean_absolute_error': 0.043706364929676056, 'direction_metric': 0.9923220276832581, 'angle_metric': 0.8149430751800537, 'val_loss': 0.5568935871124268, 'val_mean_absolute_error': 0.2033938318490982, 'val_direction_metric': 0.7333228588104248, 'val_angle_metric': 0.2167634665966034, 'epoch': 28}\n",
      "3165/3165 [==============================] - 359s 113ms/step - loss: 0.0539 - mean_absolute_error: 0.0437 - direction_metric: 0.9923 - angle_metric: 0.8149 - val_loss: 0.5569 - val_mean_absolute_error: 0.2034 - val_direction_metric: 0.7333 - val_angle_metric: 0.2168\n",
      "Epoch 30/100\n",
      "3165/3165 [==============================] - ETA: 0s - loss: 0.0530 - mean_absolute_error: 0.0431 - direction_metric: 0.9925 - angle_metric: 0.8180INFO:tensorflow:Assets written to: /home/quentin/Desktop/ISL/interiorsim/code/experiments/rl_openbot/imitation_learning/models/TestSession_1_pilot_net_lr0.0001_bz512_bn/checkpoints/cp-last.ckpt/assets\n",
      "INFO:tensorflow:Assets written to: /home/quentin/Desktop/ISL/interiorsim/code/experiments/rl_openbot/imitation_learning/models/TestSession_1_pilot_net_lr0.0001_bz512_bn/checkpoints/cp-best-train.ckpt/assets\n",
      "on_epoch_end {'loss': 0.05300794541835785, 'mean_absolute_error': 0.04306156188249588, 'direction_metric': 0.9925022125244141, 'angle_metric': 0.8180242776870728, 'val_loss': 0.5750885605812073, 'val_mean_absolute_error': 0.20788167417049408, 'val_direction_metric': 0.728535532951355, 'val_angle_metric': 0.2137027084827423, 'epoch': 29}\n",
      "logs {'loss': 0.05300794541835785, 'mean_absolute_error': 0.04306156188249588, 'direction_metric': 0.9925022125244141, 'angle_metric': 0.8180242776870728, 'val_loss': 0.5750885605812073, 'val_mean_absolute_error': 0.20788167417049408, 'val_direction_metric': 0.728535532951355, 'val_angle_metric': 0.2137027084827423, 'epoch': 29}\n",
      "3165/3165 [==============================] - 356s 113ms/step - loss: 0.0530 - mean_absolute_error: 0.0431 - direction_metric: 0.9925 - angle_metric: 0.8180 - val_loss: 0.5751 - val_mean_absolute_error: 0.2079 - val_direction_metric: 0.7285 - val_angle_metric: 0.2137\n",
      "Epoch 31/100\n",
      "3165/3165 [==============================] - ETA: 0s - loss: 0.0523 - mean_absolute_error: 0.0425 - direction_metric: 0.9927 - angle_metric: 0.8204INFO:tensorflow:Assets written to: /home/quentin/Desktop/ISL/interiorsim/code/experiments/rl_openbot/imitation_learning/models/TestSession_1_pilot_net_lr0.0001_bz512_bn/checkpoints/cp-last.ckpt/assets\n",
      "INFO:tensorflow:Assets written to: /home/quentin/Desktop/ISL/interiorsim/code/experiments/rl_openbot/imitation_learning/models/TestSession_1_pilot_net_lr0.0001_bz512_bn/checkpoints/cp-best-train.ckpt/assets\n",
      "INFO:tensorflow:Assets written to: /home/quentin/Desktop/ISL/interiorsim/code/experiments/rl_openbot/imitation_learning/models/TestSession_1_pilot_net_lr0.0001_bz512_bn/checkpoints/cp-best-val.ckpt/assets\n",
      "on_epoch_end {'loss': 0.05231912061572075, 'mean_absolute_error': 0.04253682866692543, 'direction_metric': 0.9926527738571167, 'angle_metric': 0.8204334378242493, 'val_loss': 0.5489834547042847, 'val_mean_absolute_error': 0.20310138165950775, 'val_direction_metric': 0.7364621162414551, 'val_angle_metric': 0.22123685479164124, 'epoch': 30}\n",
      "logs {'loss': 0.05231912061572075, 'mean_absolute_error': 0.04253682866692543, 'direction_metric': 0.9926527738571167, 'angle_metric': 0.8204334378242493, 'val_loss': 0.5489834547042847, 'val_mean_absolute_error': 0.20310138165950775, 'val_direction_metric': 0.7364621162414551, 'val_angle_metric': 0.22123685479164124, 'epoch': 30}\n",
      "3165/3165 [==============================] - 360s 114ms/step - loss: 0.0523 - mean_absolute_error: 0.0425 - direction_metric: 0.9927 - angle_metric: 0.8204 - val_loss: 0.5490 - val_mean_absolute_error: 0.2031 - val_direction_metric: 0.7365 - val_angle_metric: 0.2212\n",
      "Epoch 32/100\n",
      "3165/3165 [==============================] - ETA: 0s - loss: 0.0514 - mean_absolute_error: 0.0419 - direction_metric: 0.9929 - angle_metric: 0.8244INFO:tensorflow:Assets written to: /home/quentin/Desktop/ISL/interiorsim/code/experiments/rl_openbot/imitation_learning/models/TestSession_1_pilot_net_lr0.0001_bz512_bn/checkpoints/cp-last.ckpt/assets\n",
      "INFO:tensorflow:Assets written to: /home/quentin/Desktop/ISL/interiorsim/code/experiments/rl_openbot/imitation_learning/models/TestSession_1_pilot_net_lr0.0001_bz512_bn/checkpoints/cp-best-train.ckpt/assets\n",
      "on_epoch_end {'loss': 0.051382534205913544, 'mean_absolute_error': 0.041871197521686554, 'direction_metric': 0.9928885102272034, 'angle_metric': 0.8244020342826843, 'val_loss': 0.5727270245552063, 'val_mean_absolute_error': 0.21513158082962036, 'val_direction_metric': 0.7078166604042053, 'val_angle_metric': 0.19659394025802612, 'epoch': 31}\n",
      "logs {'loss': 0.051382534205913544, 'mean_absolute_error': 0.041871197521686554, 'direction_metric': 0.9928885102272034, 'angle_metric': 0.8244020342826843, 'val_loss': 0.5727270245552063, 'val_mean_absolute_error': 0.21513158082962036, 'val_direction_metric': 0.7078166604042053, 'val_angle_metric': 0.19659394025802612, 'epoch': 31}\n",
      "3165/3165 [==============================] - 360s 114ms/step - loss: 0.0514 - mean_absolute_error: 0.0419 - direction_metric: 0.9929 - angle_metric: 0.8244 - val_loss: 0.5727 - val_mean_absolute_error: 0.2151 - val_direction_metric: 0.7078 - val_angle_metric: 0.1966\n",
      "Epoch 33/100\n",
      "3165/3165 [==============================] - ETA: 0s - loss: 0.0506 - mean_absolute_error: 0.0413 - direction_metric: 0.9931 - angle_metric: 0.8272INFO:tensorflow:Assets written to: /home/quentin/Desktop/ISL/interiorsim/code/experiments/rl_openbot/imitation_learning/models/TestSession_1_pilot_net_lr0.0001_bz512_bn/checkpoints/cp-last.ckpt/assets\n",
      "INFO:tensorflow:Assets written to: /home/quentin/Desktop/ISL/interiorsim/code/experiments/rl_openbot/imitation_learning/models/TestSession_1_pilot_net_lr0.0001_bz512_bn/checkpoints/cp-best-train.ckpt/assets\n",
      "on_epoch_end {'loss': 0.05062882602214813, 'mean_absolute_error': 0.041311949491500854, 'direction_metric': 0.993122398853302, 'angle_metric': 0.8271598815917969, 'val_loss': 0.5696885585784912, 'val_mean_absolute_error': 0.20596589148044586, 'val_direction_metric': 0.7206090092658997, 'val_angle_metric': 0.21229006350040436, 'epoch': 32}\n",
      "logs {'loss': 0.05062882602214813, 'mean_absolute_error': 0.041311949491500854, 'direction_metric': 0.993122398853302, 'angle_metric': 0.8271598815917969, 'val_loss': 0.5696885585784912, 'val_mean_absolute_error': 0.20596589148044586, 'val_direction_metric': 0.7206090092658997, 'val_angle_metric': 0.21229006350040436, 'epoch': 32}\n",
      "3165/3165 [==============================] - 361s 114ms/step - loss: 0.0506 - mean_absolute_error: 0.0413 - direction_metric: 0.9931 - angle_metric: 0.8272 - val_loss: 0.5697 - val_mean_absolute_error: 0.2060 - val_direction_metric: 0.7206 - val_angle_metric: 0.2123\n",
      "Epoch 34/100\n",
      "3165/3165 [==============================] - ETA: 0s - loss: 0.0499 - mean_absolute_error: 0.0408 - direction_metric: 0.9933 - angle_metric: 0.8300INFO:tensorflow:Assets written to: /home/quentin/Desktop/ISL/interiorsim/code/experiments/rl_openbot/imitation_learning/models/TestSession_1_pilot_net_lr0.0001_bz512_bn/checkpoints/cp-last.ckpt/assets\n",
      "INFO:tensorflow:Assets written to: /home/quentin/Desktop/ISL/interiorsim/code/experiments/rl_openbot/imitation_learning/models/TestSession_1_pilot_net_lr0.0001_bz512_bn/checkpoints/cp-best-train.ckpt/assets\n",
      "on_epoch_end {'loss': 0.04993480443954468, 'mean_absolute_error': 0.04080376774072647, 'direction_metric': 0.9932982921600342, 'angle_metric': 0.8299898505210876, 'val_loss': 0.5668566226959229, 'val_mean_absolute_error': 0.20739209651947021, 'val_direction_metric': 0.7218647003173828, 'val_angle_metric': 0.20962172746658325, 'epoch': 33}\n",
      "logs {'loss': 0.04993480443954468, 'mean_absolute_error': 0.04080376774072647, 'direction_metric': 0.9932982921600342, 'angle_metric': 0.8299898505210876, 'val_loss': 0.5668566226959229, 'val_mean_absolute_error': 0.20739209651947021, 'val_direction_metric': 0.7218647003173828, 'val_angle_metric': 0.20962172746658325, 'epoch': 33}\n",
      "3165/3165 [==============================] - 359s 114ms/step - loss: 0.0499 - mean_absolute_error: 0.0408 - direction_metric: 0.9933 - angle_metric: 0.8300 - val_loss: 0.5669 - val_mean_absolute_error: 0.2074 - val_direction_metric: 0.7219 - val_angle_metric: 0.2096\n",
      "Epoch 35/100\n",
      "3165/3165 [==============================] - ETA: 0s - loss: 0.0491 - mean_absolute_error: 0.0402 - direction_metric: 0.9934 - angle_metric: 0.8331INFO:tensorflow:Assets written to: /home/quentin/Desktop/ISL/interiorsim/code/experiments/rl_openbot/imitation_learning/models/TestSession_1_pilot_net_lr0.0001_bz512_bn/checkpoints/cp-last.ckpt/assets\n",
      "INFO:tensorflow:Assets written to: /home/quentin/Desktop/ISL/interiorsim/code/experiments/rl_openbot/imitation_learning/models/TestSession_1_pilot_net_lr0.0001_bz512_bn/checkpoints/cp-best-train.ckpt/assets\n",
      "on_epoch_end {'loss': 0.049088019877672195, 'mean_absolute_error': 0.040188103914260864, 'direction_metric': 0.9934198260307312, 'angle_metric': 0.8331111669540405, 'val_loss': 0.5509096384048462, 'val_mean_absolute_error': 0.20514406263828278, 'val_direction_metric': 0.7259457111358643, 'val_angle_metric': 0.2249254435300827, 'epoch': 34}\n",
      "logs {'loss': 0.049088019877672195, 'mean_absolute_error': 0.040188103914260864, 'direction_metric': 0.9934198260307312, 'angle_metric': 0.8331111669540405, 'val_loss': 0.5509096384048462, 'val_mean_absolute_error': 0.20514406263828278, 'val_direction_metric': 0.7259457111358643, 'val_angle_metric': 0.2249254435300827, 'epoch': 34}\n",
      "3165/3165 [==============================] - 359s 114ms/step - loss: 0.0491 - mean_absolute_error: 0.0402 - direction_metric: 0.9934 - angle_metric: 0.8331 - val_loss: 0.5509 - val_mean_absolute_error: 0.2051 - val_direction_metric: 0.7259 - val_angle_metric: 0.2249\n",
      "Epoch 36/100\n",
      "3165/3165 [==============================] - ETA: 0s - loss: 0.0485 - mean_absolute_error: 0.0397 - direction_metric: 0.9937 - angle_metric: 0.8354INFO:tensorflow:Assets written to: /home/quentin/Desktop/ISL/interiorsim/code/experiments/rl_openbot/imitation_learning/models/TestSession_1_pilot_net_lr0.0001_bz512_bn/checkpoints/cp-last.ckpt/assets\n",
      "INFO:tensorflow:Assets written to: /home/quentin/Desktop/ISL/interiorsim/code/experiments/rl_openbot/imitation_learning/models/TestSession_1_pilot_net_lr0.0001_bz512_bn/checkpoints/cp-best-train.ckpt/assets\n",
      "on_epoch_end {'loss': 0.04849708452820778, 'mean_absolute_error': 0.039729613810777664, 'direction_metric': 0.9936599135398865, 'angle_metric': 0.8354265689849854, 'val_loss': 0.5825969576835632, 'val_mean_absolute_error': 0.20656061172485352, 'val_direction_metric': 0.7038141489028931, 'val_angle_metric': 0.21158373355865479, 'epoch': 35}\n",
      "logs {'loss': 0.04849708452820778, 'mean_absolute_error': 0.039729613810777664, 'direction_metric': 0.9936599135398865, 'angle_metric': 0.8354265689849854, 'val_loss': 0.5825969576835632, 'val_mean_absolute_error': 0.20656061172485352, 'val_direction_metric': 0.7038141489028931, 'val_angle_metric': 0.21158373355865479, 'epoch': 35}\n",
      "3165/3165 [==============================] - 362s 114ms/step - loss: 0.0485 - mean_absolute_error: 0.0397 - direction_metric: 0.9937 - angle_metric: 0.8354 - val_loss: 0.5826 - val_mean_absolute_error: 0.2066 - val_direction_metric: 0.7038 - val_angle_metric: 0.2116\n",
      "Epoch 37/100\n",
      "3165/3165 [==============================] - ETA: 0s - loss: 0.0481 - mean_absolute_error: 0.0394 - direction_metric: 0.9936 - angle_metric: 0.8367INFO:tensorflow:Assets written to: /home/quentin/Desktop/ISL/interiorsim/code/experiments/rl_openbot/imitation_learning/models/TestSession_1_pilot_net_lr0.0001_bz512_bn/checkpoints/cp-last.ckpt/assets\n",
      "INFO:tensorflow:Assets written to: /home/quentin/Desktop/ISL/interiorsim/code/experiments/rl_openbot/imitation_learning/models/TestSession_1_pilot_net_lr0.0001_bz512_bn/checkpoints/cp-best-train.ckpt/assets\n",
      "on_epoch_end {'loss': 0.0480574332177639, 'mean_absolute_error': 0.0394139364361763, 'direction_metric': 0.9935975670814514, 'angle_metric': 0.8367107510566711, 'val_loss': 0.5816930532455444, 'val_mean_absolute_error': 0.21111702919006348, 'val_direction_metric': 0.7082875370979309, 'val_angle_metric': 0.20789514482021332, 'epoch': 36}\n",
      "logs {'loss': 0.0480574332177639, 'mean_absolute_error': 0.0394139364361763, 'direction_metric': 0.9935975670814514, 'angle_metric': 0.8367107510566711, 'val_loss': 0.5816930532455444, 'val_mean_absolute_error': 0.21111702919006348, 'val_direction_metric': 0.7082875370979309, 'val_angle_metric': 0.20789514482021332, 'epoch': 36}\n",
      "3165/3165 [==============================] - 361s 114ms/step - loss: 0.0481 - mean_absolute_error: 0.0394 - direction_metric: 0.9936 - angle_metric: 0.8367 - val_loss: 0.5817 - val_mean_absolute_error: 0.2111 - val_direction_metric: 0.7083 - val_angle_metric: 0.2079\n",
      "Epoch 38/100\n",
      "3165/3165 [==============================] - ETA: 0s - loss: 0.0474 - mean_absolute_error: 0.0389 - direction_metric: 0.9939 - angle_metric: 0.8394INFO:tensorflow:Assets written to: /home/quentin/Desktop/ISL/interiorsim/code/experiments/rl_openbot/imitation_learning/models/TestSession_1_pilot_net_lr0.0001_bz512_bn/checkpoints/cp-last.ckpt/assets\n",
      "INFO:tensorflow:Assets written to: /home/quentin/Desktop/ISL/interiorsim/code/experiments/rl_openbot/imitation_learning/models/TestSession_1_pilot_net_lr0.0001_bz512_bn/checkpoints/cp-best-train.ckpt/assets\n",
      "on_epoch_end {'loss': 0.04742930456995964, 'mean_absolute_error': 0.0389411635696888, 'direction_metric': 0.9938548803329468, 'angle_metric': 0.8393698334693909, 'val_loss': 0.586030900478363, 'val_mean_absolute_error': 0.21310843527317047, 'val_direction_metric': 0.7078951597213745, 'val_angle_metric': 0.2052268087863922, 'epoch': 37}\n",
      "logs {'loss': 0.04742930456995964, 'mean_absolute_error': 0.0389411635696888, 'direction_metric': 0.9938548803329468, 'angle_metric': 0.8393698334693909, 'val_loss': 0.586030900478363, 'val_mean_absolute_error': 0.21310843527317047, 'val_direction_metric': 0.7078951597213745, 'val_angle_metric': 0.2052268087863922, 'epoch': 37}\n",
      "3165/3165 [==============================] - 364s 115ms/step - loss: 0.0474 - mean_absolute_error: 0.0389 - direction_metric: 0.9939 - angle_metric: 0.8394 - val_loss: 0.5860 - val_mean_absolute_error: 0.2131 - val_direction_metric: 0.7079 - val_angle_metric: 0.2052\n",
      "Epoch 39/100\n",
      "3165/3165 [==============================] - ETA: 0s - loss: 0.0467 - mean_absolute_error: 0.0385 - direction_metric: 0.9940 - angle_metric: 0.8419INFO:tensorflow:Assets written to: /home/quentin/Desktop/ISL/interiorsim/code/experiments/rl_openbot/imitation_learning/models/TestSession_1_pilot_net_lr0.0001_bz512_bn/checkpoints/cp-last.ckpt/assets\n",
      "INFO:tensorflow:Assets written to: /home/quentin/Desktop/ISL/interiorsim/code/experiments/rl_openbot/imitation_learning/models/TestSession_1_pilot_net_lr0.0001_bz512_bn/checkpoints/cp-best-train.ckpt/assets\n",
      "on_epoch_end {'loss': 0.046745408326387405, 'mean_absolute_error': 0.03845043107867241, 'direction_metric': 0.9939900636672974, 'angle_metric': 0.8419283032417297, 'val_loss': 0.5966439843177795, 'val_mean_absolute_error': 0.21565157175064087, 'val_direction_metric': 0.7035002112388611, 'val_angle_metric': 0.20452047884464264, 'epoch': 38}\n",
      "logs {'loss': 0.046745408326387405, 'mean_absolute_error': 0.03845043107867241, 'direction_metric': 0.9939900636672974, 'angle_metric': 0.8419283032417297, 'val_loss': 0.5966439843177795, 'val_mean_absolute_error': 0.21565157175064087, 'val_direction_metric': 0.7035002112388611, 'val_angle_metric': 0.20452047884464264, 'epoch': 38}\n",
      "3165/3165 [==============================] - 358s 113ms/step - loss: 0.0467 - mean_absolute_error: 0.0385 - direction_metric: 0.9940 - angle_metric: 0.8419 - val_loss: 0.5966 - val_mean_absolute_error: 0.2157 - val_direction_metric: 0.7035 - val_angle_metric: 0.2045\n",
      "Epoch 40/100\n",
      "3165/3165 [==============================] - ETA: 0s - loss: 0.0461 - mean_absolute_error: 0.0380 - direction_metric: 0.9941 - angle_metric: 0.8446INFO:tensorflow:Assets written to: /home/quentin/Desktop/ISL/interiorsim/code/experiments/rl_openbot/imitation_learning/models/TestSession_1_pilot_net_lr0.0001_bz512_bn/checkpoints/cp-last.ckpt/assets\n",
      "INFO:tensorflow:Assets written to: /home/quentin/Desktop/ISL/interiorsim/code/experiments/rl_openbot/imitation_learning/models/TestSession_1_pilot_net_lr0.0001_bz512_bn/checkpoints/cp-best-train.ckpt/assets\n",
      "on_epoch_end {'loss': 0.04609356075525284, 'mean_absolute_error': 0.03796421363949776, 'direction_metric': 0.9941350817680359, 'angle_metric': 0.8446349501609802, 'val_loss': 0.5984892845153809, 'val_mean_absolute_error': 0.21429656445980072, 'val_direction_metric': 0.7213938236236572, 'val_angle_metric': 0.2110343724489212, 'epoch': 39}\n",
      "logs {'loss': 0.04609356075525284, 'mean_absolute_error': 0.03796421363949776, 'direction_metric': 0.9941350817680359, 'angle_metric': 0.8446349501609802, 'val_loss': 0.5984892845153809, 'val_mean_absolute_error': 0.21429656445980072, 'val_direction_metric': 0.7213938236236572, 'val_angle_metric': 0.2110343724489212, 'epoch': 39}\n",
      "3165/3165 [==============================] - 355s 112ms/step - loss: 0.0461 - mean_absolute_error: 0.0380 - direction_metric: 0.9941 - angle_metric: 0.8446 - val_loss: 0.5985 - val_mean_absolute_error: 0.2143 - val_direction_metric: 0.7214 - val_angle_metric: 0.2110\n",
      "Epoch 41/100\n",
      "3165/3165 [==============================] - ETA: 0s - loss: 0.0456 - mean_absolute_error: 0.0376 - direction_metric: 0.9943 - angle_metric: 0.8467INFO:tensorflow:Assets written to: /home/quentin/Desktop/ISL/interiorsim/code/experiments/rl_openbot/imitation_learning/models/TestSession_1_pilot_net_lr0.0001_bz512_bn/checkpoints/cp-last.ckpt/assets\n",
      "INFO:tensorflow:Assets written to: /home/quentin/Desktop/ISL/interiorsim/code/experiments/rl_openbot/imitation_learning/models/TestSession_1_pilot_net_lr0.0001_bz512_bn/checkpoints/cp-best-train.ckpt/assets\n",
      "on_epoch_end {'loss': 0.04556328430771828, 'mean_absolute_error': 0.037560030817985535, 'direction_metric': 0.9943251609802246, 'angle_metric': 0.8467423319816589, 'val_loss': 0.5905284881591797, 'val_mean_absolute_error': 0.21005505323410034, 'val_direction_metric': 0.7133103013038635, 'val_angle_metric': 0.20695337653160095, 'epoch': 40}\n",
      "logs {'loss': 0.04556328430771828, 'mean_absolute_error': 0.037560030817985535, 'direction_metric': 0.9943251609802246, 'angle_metric': 0.8467423319816589, 'val_loss': 0.5905284881591797, 'val_mean_absolute_error': 0.21005505323410034, 'val_direction_metric': 0.7133103013038635, 'val_angle_metric': 0.20695337653160095, 'epoch': 40}\n",
      "3165/3165 [==============================] - 355s 112ms/step - loss: 0.0456 - mean_absolute_error: 0.0376 - direction_metric: 0.9943 - angle_metric: 0.8467 - val_loss: 0.5905 - val_mean_absolute_error: 0.2101 - val_direction_metric: 0.7133 - val_angle_metric: 0.2070\n",
      "Epoch 42/100\n",
      "3165/3165 [==============================] - ETA: 0s - loss: 0.0452 - mean_absolute_error: 0.0373 - direction_metric: 0.9944 - angle_metric: 0.8483INFO:tensorflow:Assets written to: /home/quentin/Desktop/ISL/interiorsim/code/experiments/rl_openbot/imitation_learning/models/TestSession_1_pilot_net_lr0.0001_bz512_bn/checkpoints/cp-last.ckpt/assets\n",
      "INFO:tensorflow:Assets written to: /home/quentin/Desktop/ISL/interiorsim/code/experiments/rl_openbot/imitation_learning/models/TestSession_1_pilot_net_lr0.0001_bz512_bn/checkpoints/cp-best-train.ckpt/assets\n",
      "on_epoch_end {'loss': 0.04520849883556366, 'mean_absolute_error': 0.03729233518242836, 'direction_metric': 0.994404137134552, 'angle_metric': 0.8483121991157532, 'val_loss': 0.5940042734146118, 'val_mean_absolute_error': 0.21604090929031372, 'val_direction_metric': 0.7133103013038635, 'val_angle_metric': 0.205619215965271, 'epoch': 41}\n",
      "logs {'loss': 0.04520849883556366, 'mean_absolute_error': 0.03729233518242836, 'direction_metric': 0.994404137134552, 'angle_metric': 0.8483121991157532, 'val_loss': 0.5940042734146118, 'val_mean_absolute_error': 0.21604090929031372, 'val_direction_metric': 0.7133103013038635, 'val_angle_metric': 0.205619215965271, 'epoch': 41}\n",
      "3165/3165 [==============================] - 358s 113ms/step - loss: 0.0452 - mean_absolute_error: 0.0373 - direction_metric: 0.9944 - angle_metric: 0.8483 - val_loss: 0.5940 - val_mean_absolute_error: 0.2160 - val_direction_metric: 0.7133 - val_angle_metric: 0.2056\n",
      "Epoch 43/100\n",
      "3165/3165 [==============================] - ETA: 0s - loss: 0.0447 - mean_absolute_error: 0.0369 - direction_metric: 0.9944 - angle_metric: 0.8502INFO:tensorflow:Assets written to: /home/quentin/Desktop/ISL/interiorsim/code/experiments/rl_openbot/imitation_learning/models/TestSession_1_pilot_net_lr0.0001_bz512_bn/checkpoints/cp-last.ckpt/assets\n",
      "INFO:tensorflow:Assets written to: /home/quentin/Desktop/ISL/interiorsim/code/experiments/rl_openbot/imitation_learning/models/TestSession_1_pilot_net_lr0.0001_bz512_bn/checkpoints/cp-best-train.ckpt/assets\n",
      "on_epoch_end {'loss': 0.044697828590869904, 'mean_absolute_error': 0.03690668195486069, 'direction_metric': 0.9944158792495728, 'angle_metric': 0.8501548767089844, 'val_loss': 0.5873979926109314, 'val_mean_absolute_error': 0.207479789853096, 'val_direction_metric': 0.7232773303985596, 'val_angle_metric': 0.21236854791641235, 'epoch': 42}\n",
      "logs {'loss': 0.044697828590869904, 'mean_absolute_error': 0.03690668195486069, 'direction_metric': 0.9944158792495728, 'angle_metric': 0.8501548767089844, 'val_loss': 0.5873979926109314, 'val_mean_absolute_error': 0.207479789853096, 'val_direction_metric': 0.7232773303985596, 'val_angle_metric': 0.21236854791641235, 'epoch': 42}\n",
      "3165/3165 [==============================] - 359s 113ms/step - loss: 0.0447 - mean_absolute_error: 0.0369 - direction_metric: 0.9944 - angle_metric: 0.8502 - val_loss: 0.5874 - val_mean_absolute_error: 0.2075 - val_direction_metric: 0.7233 - val_angle_metric: 0.2124\n",
      "Epoch 44/100\n",
      "3165/3165 [==============================] - ETA: 0s - loss: 0.0441 - mean_absolute_error: 0.0365 - direction_metric: 0.9945 - angle_metric: 0.8525INFO:tensorflow:Assets written to: /home/quentin/Desktop/ISL/interiorsim/code/experiments/rl_openbot/imitation_learning/models/TestSession_1_pilot_net_lr0.0001_bz512_bn/checkpoints/cp-last.ckpt/assets\n",
      "INFO:tensorflow:Assets written to: /home/quentin/Desktop/ISL/interiorsim/code/experiments/rl_openbot/imitation_learning/models/TestSession_1_pilot_net_lr0.0001_bz512_bn/checkpoints/cp-best-train.ckpt/assets\n",
      "on_epoch_end {'loss': 0.04413606971502304, 'mean_absolute_error': 0.03650005906820297, 'direction_metric': 0.9945145845413208, 'angle_metric': 0.8524739742279053, 'val_loss': 0.5986072421073914, 'val_mean_absolute_error': 0.21308918297290802, 'val_direction_metric': 0.7077381610870361, 'val_angle_metric': 0.2109558880329132, 'epoch': 43}\n",
      "logs {'loss': 0.04413606971502304, 'mean_absolute_error': 0.03650005906820297, 'direction_metric': 0.9945145845413208, 'angle_metric': 0.8524739742279053, 'val_loss': 0.5986072421073914, 'val_mean_absolute_error': 0.21308918297290802, 'val_direction_metric': 0.7077381610870361, 'val_angle_metric': 0.2109558880329132, 'epoch': 43}\n",
      "3165/3165 [==============================] - 358s 113ms/step - loss: 0.0441 - mean_absolute_error: 0.0365 - direction_metric: 0.9945 - angle_metric: 0.8525 - val_loss: 0.5986 - val_mean_absolute_error: 0.2131 - val_direction_metric: 0.7077 - val_angle_metric: 0.2110\n",
      "Epoch 45/100\n",
      "3165/3165 [==============================] - ETA: 0s - loss: 0.0436 - mean_absolute_error: 0.0361 - direction_metric: 0.9948 - angle_metric: 0.8547INFO:tensorflow:Assets written to: /home/quentin/Desktop/ISL/interiorsim/code/experiments/rl_openbot/imitation_learning/models/TestSession_1_pilot_net_lr0.0001_bz512_bn/checkpoints/cp-last.ckpt/assets\n",
      "INFO:tensorflow:Assets written to: /home/quentin/Desktop/ISL/interiorsim/code/experiments/rl_openbot/imitation_learning/models/TestSession_1_pilot_net_lr0.0001_bz512_bn/checkpoints/cp-best-train.ckpt/assets\n",
      "on_epoch_end {'loss': 0.04364652931690216, 'mean_absolute_error': 0.03609902411699295, 'direction_metric': 0.9947700500488281, 'angle_metric': 0.8547171354293823, 'val_loss': 0.6012910604476929, 'val_mean_absolute_error': 0.20981097221374512, 'val_direction_metric': 0.716214120388031, 'val_angle_metric': 0.21590016782283783, 'epoch': 44}\n",
      "logs {'loss': 0.04364652931690216, 'mean_absolute_error': 0.03609902411699295, 'direction_metric': 0.9947700500488281, 'angle_metric': 0.8547171354293823, 'val_loss': 0.6012910604476929, 'val_mean_absolute_error': 0.20981097221374512, 'val_direction_metric': 0.716214120388031, 'val_angle_metric': 0.21590016782283783, 'epoch': 44}\n",
      "3165/3165 [==============================] - 362s 114ms/step - loss: 0.0436 - mean_absolute_error: 0.0361 - direction_metric: 0.9948 - angle_metric: 0.8547 - val_loss: 0.6013 - val_mean_absolute_error: 0.2098 - val_direction_metric: 0.7162 - val_angle_metric: 0.2159\n",
      "Epoch 46/100\n",
      "3165/3165 [==============================] - ETA: 0s - loss: 0.0431 - mean_absolute_error: 0.0357 - direction_metric: 0.9948 - angle_metric: 0.8562INFO:tensorflow:Assets written to: /home/quentin/Desktop/ISL/interiorsim/code/experiments/rl_openbot/imitation_learning/models/TestSession_1_pilot_net_lr0.0001_bz512_bn/checkpoints/cp-last.ckpt/assets\n",
      "INFO:tensorflow:Assets written to: /home/quentin/Desktop/ISL/interiorsim/code/experiments/rl_openbot/imitation_learning/models/TestSession_1_pilot_net_lr0.0001_bz512_bn/checkpoints/cp-best-train.ckpt/assets\n",
      "on_epoch_end {'loss': 0.04313790798187256, 'mean_absolute_error': 0.035725951194763184, 'direction_metric': 0.994789183139801, 'angle_metric': 0.8562284111976624, 'val_loss': 0.5886969566345215, 'val_mean_absolute_error': 0.21169188618659973, 'val_direction_metric': 0.7038141489028931, 'val_angle_metric': 0.20970019698143005, 'epoch': 45}\n",
      "logs {'loss': 0.04313790798187256, 'mean_absolute_error': 0.035725951194763184, 'direction_metric': 0.994789183139801, 'angle_metric': 0.8562284111976624, 'val_loss': 0.5886969566345215, 'val_mean_absolute_error': 0.21169188618659973, 'val_direction_metric': 0.7038141489028931, 'val_angle_metric': 0.20970019698143005, 'epoch': 45}\n",
      "3165/3165 [==============================] - 360s 114ms/step - loss: 0.0431 - mean_absolute_error: 0.0357 - direction_metric: 0.9948 - angle_metric: 0.8562 - val_loss: 0.5887 - val_mean_absolute_error: 0.2117 - val_direction_metric: 0.7038 - val_angle_metric: 0.2097\n",
      "Epoch 47/100\n",
      "3165/3165 [==============================] - ETA: 0s - loss: 0.0428 - mean_absolute_error: 0.0355 - direction_metric: 0.9949 - angle_metric: 0.8578INFO:tensorflow:Assets written to: /home/quentin/Desktop/ISL/interiorsim/code/experiments/rl_openbot/imitation_learning/models/TestSession_1_pilot_net_lr0.0001_bz512_bn/checkpoints/cp-last.ckpt/assets\n",
      "INFO:tensorflow:Assets written to: /home/quentin/Desktop/ISL/interiorsim/code/experiments/rl_openbot/imitation_learning/models/TestSession_1_pilot_net_lr0.0001_bz512_bn/checkpoints/cp-best-train.ckpt/assets\n",
      "on_epoch_end {'loss': 0.042788464576005936, 'mean_absolute_error': 0.03545641899108887, 'direction_metric': 0.9949157238006592, 'angle_metric': 0.8578445911407471, 'val_loss': 0.61733078956604, 'val_mean_absolute_error': 0.22806142270565033, 'val_direction_metric': 0.6959661245346069, 'val_angle_metric': 0.19227750599384308, 'epoch': 46}\n",
      "logs {'loss': 0.042788464576005936, 'mean_absolute_error': 0.03545641899108887, 'direction_metric': 0.9949157238006592, 'angle_metric': 0.8578445911407471, 'val_loss': 0.61733078956604, 'val_mean_absolute_error': 0.22806142270565033, 'val_direction_metric': 0.6959661245346069, 'val_angle_metric': 0.19227750599384308, 'epoch': 46}\n",
      "3165/3165 [==============================] - 360s 114ms/step - loss: 0.0428 - mean_absolute_error: 0.0355 - direction_metric: 0.9949 - angle_metric: 0.8578 - val_loss: 0.6173 - val_mean_absolute_error: 0.2281 - val_direction_metric: 0.6960 - val_angle_metric: 0.1923\n",
      "Epoch 48/100\n",
      "3165/3165 [==============================] - ETA: 0s - loss: 0.0424 - mean_absolute_error: 0.0352 - direction_metric: 0.9950 - angle_metric: 0.8595INFO:tensorflow:Assets written to: /home/quentin/Desktop/ISL/interiorsim/code/experiments/rl_openbot/imitation_learning/models/TestSession_1_pilot_net_lr0.0001_bz512_bn/checkpoints/cp-last.ckpt/assets\n",
      "INFO:tensorflow:Assets written to: /home/quentin/Desktop/ISL/interiorsim/code/experiments/rl_openbot/imitation_learning/models/TestSession_1_pilot_net_lr0.0001_bz512_bn/checkpoints/cp-best-train.ckpt/assets\n",
      "on_epoch_end {'loss': 0.04240477830171585, 'mean_absolute_error': 0.03515857458114624, 'direction_metric': 0.9949570298194885, 'angle_metric': 0.8595200181007385, 'val_loss': 0.5870331525802612, 'val_mean_absolute_error': 0.21180494129657745, 'val_direction_metric': 0.7306545376777649, 'val_angle_metric': 0.21574321389198303, 'epoch': 47}\n",
      "logs {'loss': 0.04240477830171585, 'mean_absolute_error': 0.03515857458114624, 'direction_metric': 0.9949570298194885, 'angle_metric': 0.8595200181007385, 'val_loss': 0.5870331525802612, 'val_mean_absolute_error': 0.21180494129657745, 'val_direction_metric': 0.7306545376777649, 'val_angle_metric': 0.21574321389198303, 'epoch': 47}\n",
      "3165/3165 [==============================] - 363s 115ms/step - loss: 0.0424 - mean_absolute_error: 0.0352 - direction_metric: 0.9950 - angle_metric: 0.8595 - val_loss: 0.5870 - val_mean_absolute_error: 0.2118 - val_direction_metric: 0.7307 - val_angle_metric: 0.2157\n",
      "Epoch 49/100\n",
      "3165/3165 [==============================] - ETA: 0s - loss: 0.0418 - mean_absolute_error: 0.0348 - direction_metric: 0.9951 - angle_metric: 0.8612INFO:tensorflow:Assets written to: /home/quentin/Desktop/ISL/interiorsim/code/experiments/rl_openbot/imitation_learning/models/TestSession_1_pilot_net_lr0.0001_bz512_bn/checkpoints/cp-last.ckpt/assets\n",
      "INFO:tensorflow:Assets written to: /home/quentin/Desktop/ISL/interiorsim/code/experiments/rl_openbot/imitation_learning/models/TestSession_1_pilot_net_lr0.0001_bz512_bn/checkpoints/cp-best-train.ckpt/assets\n",
      "on_epoch_end {'loss': 0.041839998215436935, 'mean_absolute_error': 0.034808721393346786, 'direction_metric': 0.995102047920227, 'angle_metric': 0.8611516356468201, 'val_loss': 0.588208019733429, 'val_mean_absolute_error': 0.21209345757961273, 'val_direction_metric': 0.7166064977645874, 'val_angle_metric': 0.2140166312456131, 'epoch': 48}\n",
      "logs {'loss': 0.041839998215436935, 'mean_absolute_error': 0.034808721393346786, 'direction_metric': 0.995102047920227, 'angle_metric': 0.8611516356468201, 'val_loss': 0.588208019733429, 'val_mean_absolute_error': 0.21209345757961273, 'val_direction_metric': 0.7166064977645874, 'val_angle_metric': 0.2140166312456131, 'epoch': 48}\n",
      "3165/3165 [==============================] - 363s 115ms/step - loss: 0.0418 - mean_absolute_error: 0.0348 - direction_metric: 0.9951 - angle_metric: 0.8612 - val_loss: 0.5882 - val_mean_absolute_error: 0.2121 - val_direction_metric: 0.7166 - val_angle_metric: 0.2140\n",
      "Epoch 50/100\n",
      "3165/3165 [==============================] - ETA: 0s - loss: 0.0415 - mean_absolute_error: 0.0345 - direction_metric: 0.9952 - angle_metric: 0.8627INFO:tensorflow:Assets written to: /home/quentin/Desktop/ISL/interiorsim/code/experiments/rl_openbot/imitation_learning/models/TestSession_1_pilot_net_lr0.0001_bz512_bn/checkpoints/cp-last.ckpt/assets\n",
      "INFO:tensorflow:Assets written to: /home/quentin/Desktop/ISL/interiorsim/code/experiments/rl_openbot/imitation_learning/models/TestSession_1_pilot_net_lr0.0001_bz512_bn/checkpoints/cp-best-train.ckpt/assets\n",
      "on_epoch_end {'loss': 0.04148554801940918, 'mean_absolute_error': 0.03450793772935867, 'direction_metric': 0.9951829314231873, 'angle_metric': 0.8627036213874817, 'val_loss': 0.5932304859161377, 'val_mean_absolute_error': 0.2164386361837387, 'val_direction_metric': 0.7054622769355774, 'val_angle_metric': 0.21072044968605042, 'epoch': 49}\n",
      "logs {'loss': 0.04148554801940918, 'mean_absolute_error': 0.03450793772935867, 'direction_metric': 0.9951829314231873, 'angle_metric': 0.8627036213874817, 'val_loss': 0.5932304859161377, 'val_mean_absolute_error': 0.2164386361837387, 'val_direction_metric': 0.7054622769355774, 'val_angle_metric': 0.21072044968605042, 'epoch': 49}\n",
      "3165/3165 [==============================] - 362s 114ms/step - loss: 0.0415 - mean_absolute_error: 0.0345 - direction_metric: 0.9952 - angle_metric: 0.8627 - val_loss: 0.5932 - val_mean_absolute_error: 0.2164 - val_direction_metric: 0.7055 - val_angle_metric: 0.2107\n",
      "Epoch 51/100\n",
      "3165/3165 [==============================] - ETA: 0s - loss: 0.0411 - mean_absolute_error: 0.0342 - direction_metric: 0.9953 - angle_metric: 0.8647INFO:tensorflow:Assets written to: /home/quentin/Desktop/ISL/interiorsim/code/experiments/rl_openbot/imitation_learning/models/TestSession_1_pilot_net_lr0.0001_bz512_bn/checkpoints/cp-last.ckpt/assets\n",
      "INFO:tensorflow:Assets written to: /home/quentin/Desktop/ISL/interiorsim/code/experiments/rl_openbot/imitation_learning/models/TestSession_1_pilot_net_lr0.0001_bz512_bn/checkpoints/cp-best-train.ckpt/assets\n",
      "on_epoch_end {'loss': 0.04107378050684929, 'mean_absolute_error': 0.03420417010784149, 'direction_metric': 0.9952748417854309, 'angle_metric': 0.8646524548530579, 'val_loss': 0.5862786173820496, 'val_mean_absolute_error': 0.21372754871845245, 'val_direction_metric': 0.7274368405342102, 'val_angle_metric': 0.21299639344215393, 'epoch': 50}\n",
      "logs {'loss': 0.04107378050684929, 'mean_absolute_error': 0.03420417010784149, 'direction_metric': 0.9952748417854309, 'angle_metric': 0.8646524548530579, 'val_loss': 0.5862786173820496, 'val_mean_absolute_error': 0.21372754871845245, 'val_direction_metric': 0.7274368405342102, 'val_angle_metric': 0.21299639344215393, 'epoch': 50}\n",
      "3165/3165 [==============================] - 363s 115ms/step - loss: 0.0411 - mean_absolute_error: 0.0342 - direction_metric: 0.9953 - angle_metric: 0.8647 - val_loss: 0.5863 - val_mean_absolute_error: 0.2137 - val_direction_metric: 0.7274 - val_angle_metric: 0.2130\n",
      "Epoch 52/100\n",
      "3165/3165 [==============================] - ETA: 0s - loss: 0.0408 - mean_absolute_error: 0.0340 - direction_metric: 0.9953 - angle_metric: 0.8660INFO:tensorflow:Assets written to: /home/quentin/Desktop/ISL/interiorsim/code/experiments/rl_openbot/imitation_learning/models/TestSession_1_pilot_net_lr0.0001_bz512_bn/checkpoints/cp-last.ckpt/assets\n",
      "INFO:tensorflow:Assets written to: /home/quentin/Desktop/ISL/interiorsim/code/experiments/rl_openbot/imitation_learning/models/TestSession_1_pilot_net_lr0.0001_bz512_bn/checkpoints/cp-best-train.ckpt/assets\n",
      "on_epoch_end {'loss': 0.0407734289765358, 'mean_absolute_error': 0.033956464380025864, 'direction_metric': 0.9952884316444397, 'angle_metric': 0.8659675121307373, 'val_loss': 0.5934613347053528, 'val_mean_absolute_error': 0.21407832205295563, 'val_direction_metric': 0.7227280139923096, 'val_angle_metric': 0.20224454998970032, 'epoch': 51}\n",
      "logs {'loss': 0.0407734289765358, 'mean_absolute_error': 0.033956464380025864, 'direction_metric': 0.9952884316444397, 'angle_metric': 0.8659675121307373, 'val_loss': 0.5934613347053528, 'val_mean_absolute_error': 0.21407832205295563, 'val_direction_metric': 0.7227280139923096, 'val_angle_metric': 0.20224454998970032, 'epoch': 51}\n",
      "3165/3165 [==============================] - 363s 115ms/step - loss: 0.0408 - mean_absolute_error: 0.0340 - direction_metric: 0.9953 - angle_metric: 0.8660 - val_loss: 0.5935 - val_mean_absolute_error: 0.2141 - val_direction_metric: 0.7227 - val_angle_metric: 0.2022\n",
      "Epoch 53/100\n",
      "3165/3165 [==============================] - ETA: 0s - loss: 0.0404 - mean_absolute_error: 0.0337 - direction_metric: 0.9954 - angle_metric: 0.8672INFO:tensorflow:Assets written to: /home/quentin/Desktop/ISL/interiorsim/code/experiments/rl_openbot/imitation_learning/models/TestSession_1_pilot_net_lr0.0001_bz512_bn/checkpoints/cp-last.ckpt/assets\n",
      "INFO:tensorflow:Assets written to: /home/quentin/Desktop/ISL/interiorsim/code/experiments/rl_openbot/imitation_learning/models/TestSession_1_pilot_net_lr0.0001_bz512_bn/checkpoints/cp-best-train.ckpt/assets\n",
      "on_epoch_end {'loss': 0.04044686630368233, 'mean_absolute_error': 0.03369920700788498, 'direction_metric': 0.9953557252883911, 'angle_metric': 0.8671899437904358, 'val_loss': 0.5825122594833374, 'val_mean_absolute_error': 0.21219304203987122, 'val_direction_metric': 0.7269659638404846, 'val_angle_metric': 0.21527232229709625, 'epoch': 52}\n",
      "logs {'loss': 0.04044686630368233, 'mean_absolute_error': 0.03369920700788498, 'direction_metric': 0.9953557252883911, 'angle_metric': 0.8671899437904358, 'val_loss': 0.5825122594833374, 'val_mean_absolute_error': 0.21219304203987122, 'val_direction_metric': 0.7269659638404846, 'val_angle_metric': 0.21527232229709625, 'epoch': 52}\n",
      "3165/3165 [==============================] - 362s 114ms/step - loss: 0.0404 - mean_absolute_error: 0.0337 - direction_metric: 0.9954 - angle_metric: 0.8672 - val_loss: 0.5825 - val_mean_absolute_error: 0.2122 - val_direction_metric: 0.7270 - val_angle_metric: 0.2153\n",
      "Epoch 54/100\n",
      "3165/3165 [==============================] - ETA: 0s - loss: 0.0400 - mean_absolute_error: 0.0333 - direction_metric: 0.9955 - angle_metric: 0.8691INFO:tensorflow:Assets written to: /home/quentin/Desktop/ISL/interiorsim/code/experiments/rl_openbot/imitation_learning/models/TestSession_1_pilot_net_lr0.0001_bz512_bn/checkpoints/cp-last.ckpt/assets\n",
      "INFO:tensorflow:Assets written to: /home/quentin/Desktop/ISL/interiorsim/code/experiments/rl_openbot/imitation_learning/models/TestSession_1_pilot_net_lr0.0001_bz512_bn/checkpoints/cp-best-train.ckpt/assets\n",
      "on_epoch_end {'loss': 0.03995818644762039, 'mean_absolute_error': 0.03333653509616852, 'direction_metric': 0.9955482482910156, 'angle_metric': 0.8691227436065674, 'val_loss': 0.5770189762115479, 'val_mean_absolute_error': 0.20964479446411133, 'val_direction_metric': 0.7217862010002136, 'val_angle_metric': 0.21487993001937866, 'epoch': 53}\n",
      "logs {'loss': 0.03995818644762039, 'mean_absolute_error': 0.03333653509616852, 'direction_metric': 0.9955482482910156, 'angle_metric': 0.8691227436065674, 'val_loss': 0.5770189762115479, 'val_mean_absolute_error': 0.20964479446411133, 'val_direction_metric': 0.7217862010002136, 'val_angle_metric': 0.21487993001937866, 'epoch': 53}\n",
      "3165/3165 [==============================] - 365s 115ms/step - loss: 0.0400 - mean_absolute_error: 0.0333 - direction_metric: 0.9955 - angle_metric: 0.8691 - val_loss: 0.5770 - val_mean_absolute_error: 0.2096 - val_direction_metric: 0.7218 - val_angle_metric: 0.2149\n",
      "Epoch 55/100\n",
      "3165/3165 [==============================] - ETA: 0s - loss: 0.0397 - mean_absolute_error: 0.0331 - direction_metric: 0.9956 - angle_metric: 0.8706INFO:tensorflow:Assets written to: /home/quentin/Desktop/ISL/interiorsim/code/experiments/rl_openbot/imitation_learning/models/TestSession_1_pilot_net_lr0.0001_bz512_bn/checkpoints/cp-last.ckpt/assets\n",
      "INFO:tensorflow:Assets written to: /home/quentin/Desktop/ISL/interiorsim/code/experiments/rl_openbot/imitation_learning/models/TestSession_1_pilot_net_lr0.0001_bz512_bn/checkpoints/cp-best-train.ckpt/assets\n",
      "on_epoch_end {'loss': 0.03970504179596901, 'mean_absolute_error': 0.03313422203063965, 'direction_metric': 0.995553195476532, 'angle_metric': 0.8705981969833374, 'val_loss': 0.6004945635795593, 'val_mean_absolute_error': 0.21725080907344818, 'val_direction_metric': 0.7252393364906311, 'val_angle_metric': 0.21786218881607056, 'epoch': 54}\n",
      "logs {'loss': 0.03970504179596901, 'mean_absolute_error': 0.03313422203063965, 'direction_metric': 0.995553195476532, 'angle_metric': 0.8705981969833374, 'val_loss': 0.6004945635795593, 'val_mean_absolute_error': 0.21725080907344818, 'val_direction_metric': 0.7252393364906311, 'val_angle_metric': 0.21786218881607056, 'epoch': 54}\n",
      "3165/3165 [==============================] - 357s 113ms/step - loss: 0.0397 - mean_absolute_error: 0.0331 - direction_metric: 0.9956 - angle_metric: 0.8706 - val_loss: 0.6005 - val_mean_absolute_error: 0.2173 - val_direction_metric: 0.7252 - val_angle_metric: 0.2179\n",
      "Epoch 56/100\n",
      "3165/3165 [==============================] - ETA: 0s - loss: 0.0394 - mean_absolute_error: 0.0329 - direction_metric: 0.9955 - angle_metric: 0.8708INFO:tensorflow:Assets written to: /home/quentin/Desktop/ISL/interiorsim/code/experiments/rl_openbot/imitation_learning/models/TestSession_1_pilot_net_lr0.0001_bz512_bn/checkpoints/cp-last.ckpt/assets\n",
      "INFO:tensorflow:Assets written to: /home/quentin/Desktop/ISL/interiorsim/code/experiments/rl_openbot/imitation_learning/models/TestSession_1_pilot_net_lr0.0001_bz512_bn/checkpoints/cp-best-train.ckpt/assets\n",
      "on_epoch_end {'loss': 0.03942108154296875, 'mean_absolute_error': 0.03294026106595993, 'direction_metric': 0.9954939484596252, 'angle_metric': 0.8708394765853882, 'val_loss': 0.5942997932434082, 'val_mean_absolute_error': 0.2159660905599594, 'val_direction_metric': 0.7201381325721741, 'val_angle_metric': 0.20970019698143005, 'epoch': 55}\n",
      "logs {'loss': 0.03942108154296875, 'mean_absolute_error': 0.03294026106595993, 'direction_metric': 0.9954939484596252, 'angle_metric': 0.8708394765853882, 'val_loss': 0.5942997932434082, 'val_mean_absolute_error': 0.2159660905599594, 'val_direction_metric': 0.7201381325721741, 'val_angle_metric': 0.20970019698143005, 'epoch': 55}\n",
      "3165/3165 [==============================] - 356s 112ms/step - loss: 0.0394 - mean_absolute_error: 0.0329 - direction_metric: 0.9955 - angle_metric: 0.8708 - val_loss: 0.5943 - val_mean_absolute_error: 0.2160 - val_direction_metric: 0.7201 - val_angle_metric: 0.2097\n",
      "Epoch 57/100\n",
      "3165/3165 [==============================] - ETA: 0s - loss: 0.0391 - mean_absolute_error: 0.0327 - direction_metric: 0.9957 - angle_metric: 0.8730INFO:tensorflow:Assets written to: /home/quentin/Desktop/ISL/interiorsim/code/experiments/rl_openbot/imitation_learning/models/TestSession_1_pilot_net_lr0.0001_bz512_bn/checkpoints/cp-last.ckpt/assets\n",
      "INFO:tensorflow:Assets written to: /home/quentin/Desktop/ISL/interiorsim/code/experiments/rl_openbot/imitation_learning/models/TestSession_1_pilot_net_lr0.0001_bz512_bn/checkpoints/cp-best-train.ckpt/assets\n",
      "on_epoch_end {'loss': 0.03907493129372597, 'mean_absolute_error': 0.03268154338002205, 'direction_metric': 0.9957019090652466, 'angle_metric': 0.8729999661445618, 'val_loss': 0.5843909382820129, 'val_mean_absolute_error': 0.21438127756118774, 'val_direction_metric': 0.7215507626533508, 'val_angle_metric': 0.21841154992580414, 'epoch': 56}\n",
      "logs {'loss': 0.03907493129372597, 'mean_absolute_error': 0.03268154338002205, 'direction_metric': 0.9957019090652466, 'angle_metric': 0.8729999661445618, 'val_loss': 0.5843909382820129, 'val_mean_absolute_error': 0.21438127756118774, 'val_direction_metric': 0.7215507626533508, 'val_angle_metric': 0.21841154992580414, 'epoch': 56}\n",
      "3165/3165 [==============================] - 351s 111ms/step - loss: 0.0391 - mean_absolute_error: 0.0327 - direction_metric: 0.9957 - angle_metric: 0.8730 - val_loss: 0.5844 - val_mean_absolute_error: 0.2144 - val_direction_metric: 0.7216 - val_angle_metric: 0.2184\n",
      "Epoch 58/100\n",
      "3165/3165 [==============================] - ETA: 0s - loss: 0.0386 - mean_absolute_error: 0.0323 - direction_metric: 0.9957 - angle_metric: 0.8750INFO:tensorflow:Assets written to: /home/quentin/Desktop/ISL/interiorsim/code/experiments/rl_openbot/imitation_learning/models/TestSession_1_pilot_net_lr0.0001_bz512_bn/checkpoints/cp-last.ckpt/assets\n",
      "INFO:tensorflow:Assets written to: /home/quentin/Desktop/ISL/interiorsim/code/experiments/rl_openbot/imitation_learning/models/TestSession_1_pilot_net_lr0.0001_bz512_bn/checkpoints/cp-best-train.ckpt/assets\n",
      "on_epoch_end {'loss': 0.03857423737645149, 'mean_absolute_error': 0.03227204829454422, 'direction_metric': 0.9957315325737, 'angle_metric': 0.8750395178794861, 'val_loss': 0.5931779146194458, 'val_mean_absolute_error': 0.22348618507385254, 'val_direction_metric': 0.7151153683662415, 'val_angle_metric': 0.20420655608177185, 'epoch': 57}\n",
      "logs {'loss': 0.03857423737645149, 'mean_absolute_error': 0.03227204829454422, 'direction_metric': 0.9957315325737, 'angle_metric': 0.8750395178794861, 'val_loss': 0.5931779146194458, 'val_mean_absolute_error': 0.22348618507385254, 'val_direction_metric': 0.7151153683662415, 'val_angle_metric': 0.20420655608177185, 'epoch': 57}\n",
      "3165/3165 [==============================] - 354s 112ms/step - loss: 0.0386 - mean_absolute_error: 0.0323 - direction_metric: 0.9957 - angle_metric: 0.8750 - val_loss: 0.5932 - val_mean_absolute_error: 0.2235 - val_direction_metric: 0.7151 - val_angle_metric: 0.2042\n",
      "Epoch 59/100\n",
      "3165/3165 [==============================] - ETA: 0s - loss: 0.0383 - mean_absolute_error: 0.0321 - direction_metric: 0.9959 - angle_metric: 0.8763INFO:tensorflow:Assets written to: /home/quentin/Desktop/ISL/interiorsim/code/experiments/rl_openbot/imitation_learning/models/TestSession_1_pilot_net_lr0.0001_bz512_bn/checkpoints/cp-last.ckpt/assets\n",
      "INFO:tensorflow:Assets written to: /home/quentin/Desktop/ISL/interiorsim/code/experiments/rl_openbot/imitation_learning/models/TestSession_1_pilot_net_lr0.0001_bz512_bn/checkpoints/cp-best-train.ckpt/assets\n",
      "on_epoch_end {'loss': 0.038316577672958374, 'mean_absolute_error': 0.03207031637430191, 'direction_metric': 0.9958512187004089, 'angle_metric': 0.8762663006782532, 'val_loss': 0.5796703100204468, 'val_mean_absolute_error': 0.2189306765794754, 'val_direction_metric': 0.722492516040802, 'val_angle_metric': 0.21503688395023346, 'epoch': 58}\n",
      "logs {'loss': 0.038316577672958374, 'mean_absolute_error': 0.03207031637430191, 'direction_metric': 0.9958512187004089, 'angle_metric': 0.8762663006782532, 'val_loss': 0.5796703100204468, 'val_mean_absolute_error': 0.2189306765794754, 'val_direction_metric': 0.722492516040802, 'val_angle_metric': 0.21503688395023346, 'epoch': 58}\n",
      "3165/3165 [==============================] - 355s 112ms/step - loss: 0.0383 - mean_absolute_error: 0.0321 - direction_metric: 0.9959 - angle_metric: 0.8763 - val_loss: 0.5797 - val_mean_absolute_error: 0.2189 - val_direction_metric: 0.7225 - val_angle_metric: 0.2150\n",
      "Epoch 60/100\n",
      "3165/3165 [==============================] - ETA: 0s - loss: 0.0380 - mean_absolute_error: 0.0318 - direction_metric: 0.9959 - angle_metric: 0.8777INFO:tensorflow:Assets written to: /home/quentin/Desktop/ISL/interiorsim/code/experiments/rl_openbot/imitation_learning/models/TestSession_1_pilot_net_lr0.0001_bz512_bn/checkpoints/cp-last.ckpt/assets\n",
      "INFO:tensorflow:Assets written to: /home/quentin/Desktop/ISL/interiorsim/code/experiments/rl_openbot/imitation_learning/models/TestSession_1_pilot_net_lr0.0001_bz512_bn/checkpoints/cp-best-train.ckpt/assets\n",
      "on_epoch_end {'loss': 0.038012489676475525, 'mean_absolute_error': 0.03182687982916832, 'direction_metric': 0.9958993792533875, 'angle_metric': 0.8776874542236328, 'val_loss': 0.5899636149406433, 'val_mean_absolute_error': 0.21691055595874786, 'val_direction_metric': 0.7203735709190369, 'val_angle_metric': 0.21158373355865479, 'epoch': 59}\n",
      "logs {'loss': 0.038012489676475525, 'mean_absolute_error': 0.03182687982916832, 'direction_metric': 0.9958993792533875, 'angle_metric': 0.8776874542236328, 'val_loss': 0.5899636149406433, 'val_mean_absolute_error': 0.21691055595874786, 'val_direction_metric': 0.7203735709190369, 'val_angle_metric': 0.21158373355865479, 'epoch': 59}\n",
      "3165/3165 [==============================] - 356s 112ms/step - loss: 0.0380 - mean_absolute_error: 0.0318 - direction_metric: 0.9959 - angle_metric: 0.8777 - val_loss: 0.5900 - val_mean_absolute_error: 0.2169 - val_direction_metric: 0.7204 - val_angle_metric: 0.2116\n",
      "Epoch 61/100\n",
      "3165/3165 [==============================] - ETA: 0s - loss: 0.0379 - mean_absolute_error: 0.0317 - direction_metric: 0.9959 - angle_metric: 0.8782INFO:tensorflow:Assets written to: /home/quentin/Desktop/ISL/interiorsim/code/experiments/rl_openbot/imitation_learning/models/TestSession_1_pilot_net_lr0.0001_bz512_bn/checkpoints/cp-last.ckpt/assets\n",
      "INFO:tensorflow:Assets written to: /home/quentin/Desktop/ISL/interiorsim/code/experiments/rl_openbot/imitation_learning/models/TestSession_1_pilot_net_lr0.0001_bz512_bn/checkpoints/cp-best-train.ckpt/assets\n",
      "on_epoch_end {'loss': 0.037874314934015274, 'mean_absolute_error': 0.03173675388097763, 'direction_metric': 0.9958820939064026, 'angle_metric': 0.8781712651252747, 'val_loss': 0.5886822938919067, 'val_mean_absolute_error': 0.22204583883285522, 'val_direction_metric': 0.7120546102523804, 'val_angle_metric': 0.20043949782848358, 'epoch': 60}\n",
      "logs {'loss': 0.037874314934015274, 'mean_absolute_error': 0.03173675388097763, 'direction_metric': 0.9958820939064026, 'angle_metric': 0.8781712651252747, 'val_loss': 0.5886822938919067, 'val_mean_absolute_error': 0.22204583883285522, 'val_direction_metric': 0.7120546102523804, 'val_angle_metric': 0.20043949782848358, 'epoch': 60}\n",
      "3165/3165 [==============================] - 353s 111ms/step - loss: 0.0379 - mean_absolute_error: 0.0317 - direction_metric: 0.9959 - angle_metric: 0.8782 - val_loss: 0.5887 - val_mean_absolute_error: 0.2220 - val_direction_metric: 0.7121 - val_angle_metric: 0.2004\n",
      "Epoch 62/100\n",
      "3165/3165 [==============================] - ETA: 0s - loss: 0.0375 - mean_absolute_error: 0.0314 - direction_metric: 0.9960 - angle_metric: 0.8792INFO:tensorflow:Assets written to: /home/quentin/Desktop/ISL/interiorsim/code/experiments/rl_openbot/imitation_learning/models/TestSession_1_pilot_net_lr0.0001_bz512_bn/checkpoints/cp-last.ckpt/assets\n",
      "INFO:tensorflow:Assets written to: /home/quentin/Desktop/ISL/interiorsim/code/experiments/rl_openbot/imitation_learning/models/TestSession_1_pilot_net_lr0.0001_bz512_bn/checkpoints/cp-best-train.ckpt/assets\n",
      "on_epoch_end {'loss': 0.03747973591089249, 'mean_absolute_error': 0.03143778815865517, 'direction_metric': 0.9959740042686462, 'angle_metric': 0.8792265057563782, 'val_loss': 0.5837979316711426, 'val_mean_absolute_error': 0.22129175066947937, 'val_direction_metric': 0.7209229469299316, 'val_angle_metric': 0.2056976854801178, 'epoch': 61}\n",
      "logs {'loss': 0.03747973591089249, 'mean_absolute_error': 0.03143778815865517, 'direction_metric': 0.9959740042686462, 'angle_metric': 0.8792265057563782, 'val_loss': 0.5837979316711426, 'val_mean_absolute_error': 0.22129175066947937, 'val_direction_metric': 0.7209229469299316, 'val_angle_metric': 0.2056976854801178, 'epoch': 61}\n",
      "3165/3165 [==============================] - 352s 111ms/step - loss: 0.0375 - mean_absolute_error: 0.0314 - direction_metric: 0.9960 - angle_metric: 0.8792 - val_loss: 0.5838 - val_mean_absolute_error: 0.2213 - val_direction_metric: 0.7209 - val_angle_metric: 0.2057\n",
      "Epoch 63/100\n",
      "3165/3165 [==============================] - ETA: 0s - loss: 0.0372 - mean_absolute_error: 0.0312 - direction_metric: 0.9961 - angle_metric: 0.8809INFO:tensorflow:Assets written to: /home/quentin/Desktop/ISL/interiorsim/code/experiments/rl_openbot/imitation_learning/models/TestSession_1_pilot_net_lr0.0001_bz512_bn/checkpoints/cp-last.ckpt/assets\n",
      "INFO:tensorflow:Assets written to: /home/quentin/Desktop/ISL/interiorsim/code/experiments/rl_openbot/imitation_learning/models/TestSession_1_pilot_net_lr0.0001_bz512_bn/checkpoints/cp-best-train.ckpt/assets\n",
      "on_epoch_end {'loss': 0.03721614554524422, 'mean_absolute_error': 0.031240273267030716, 'direction_metric': 0.996091902256012, 'angle_metric': 0.8809217214584351, 'val_loss': 0.5886765718460083, 'val_mean_absolute_error': 0.22281599044799805, 'val_direction_metric': 0.7257887125015259, 'val_angle_metric': 0.21009260416030884, 'epoch': 62}\n",
      "logs {'loss': 0.03721614554524422, 'mean_absolute_error': 0.031240273267030716, 'direction_metric': 0.996091902256012, 'angle_metric': 0.8809217214584351, 'val_loss': 0.5886765718460083, 'val_mean_absolute_error': 0.22281599044799805, 'val_direction_metric': 0.7257887125015259, 'val_angle_metric': 0.21009260416030884, 'epoch': 62}\n",
      "3165/3165 [==============================] - 353s 112ms/step - loss: 0.0372 - mean_absolute_error: 0.0312 - direction_metric: 0.9961 - angle_metric: 0.8809 - val_loss: 0.5887 - val_mean_absolute_error: 0.2228 - val_direction_metric: 0.7258 - val_angle_metric: 0.2101\n",
      "Epoch 64/100\n",
      "3165/3165 [==============================] - ETA: 0s - loss: 0.0369 - mean_absolute_error: 0.0310 - direction_metric: 0.9961 - angle_metric: 0.8819INFO:tensorflow:Assets written to: /home/quentin/Desktop/ISL/interiorsim/code/experiments/rl_openbot/imitation_learning/models/TestSession_1_pilot_net_lr0.0001_bz512_bn/checkpoints/cp-last.ckpt/assets\n",
      "INFO:tensorflow:Assets written to: /home/quentin/Desktop/ISL/interiorsim/code/experiments/rl_openbot/imitation_learning/models/TestSession_1_pilot_net_lr0.0001_bz512_bn/checkpoints/cp-best-train.ckpt/assets\n",
      "on_epoch_end {'loss': 0.03687340021133423, 'mean_absolute_error': 0.03098461963236332, 'direction_metric': 0.9960567355155945, 'angle_metric': 0.8819466829299927, 'val_loss': 0.5831351280212402, 'val_mean_absolute_error': 0.22462071478366852, 'val_direction_metric': 0.7246115207672119, 'val_angle_metric': 0.21072044968605042, 'epoch': 63}\n",
      "logs {'loss': 0.03687340021133423, 'mean_absolute_error': 0.03098461963236332, 'direction_metric': 0.9960567355155945, 'angle_metric': 0.8819466829299927, 'val_loss': 0.5831351280212402, 'val_mean_absolute_error': 0.22462071478366852, 'val_direction_metric': 0.7246115207672119, 'val_angle_metric': 0.21072044968605042, 'epoch': 63}\n",
      "3165/3165 [==============================] - 354s 112ms/step - loss: 0.0369 - mean_absolute_error: 0.0310 - direction_metric: 0.9961 - angle_metric: 0.8819 - val_loss: 0.5831 - val_mean_absolute_error: 0.2246 - val_direction_metric: 0.7246 - val_angle_metric: 0.2107\n",
      "Epoch 65/100\n",
      "3165/3165 [==============================] - ETA: 0s - loss: 0.0367 - mean_absolute_error: 0.0308 - direction_metric: 0.9961 - angle_metric: 0.8831INFO:tensorflow:Assets written to: /home/quentin/Desktop/ISL/interiorsim/code/experiments/rl_openbot/imitation_learning/models/TestSession_1_pilot_net_lr0.0001_bz512_bn/checkpoints/cp-last.ckpt/assets\n",
      "INFO:tensorflow:Assets written to: /home/quentin/Desktop/ISL/interiorsim/code/experiments/rl_openbot/imitation_learning/models/TestSession_1_pilot_net_lr0.0001_bz512_bn/checkpoints/cp-best-train.ckpt/assets\n",
      "on_epoch_end {'loss': 0.03668338060379028, 'mean_absolute_error': 0.030822407454252243, 'direction_metric': 0.9960770606994629, 'angle_metric': 0.8830896019935608, 'val_loss': 0.6005841493606567, 'val_mean_absolute_error': 0.22478154301643372, 'val_direction_metric': 0.7181761264801025, 'val_angle_metric': 0.2053837776184082, 'epoch': 64}\n",
      "logs {'loss': 0.03668338060379028, 'mean_absolute_error': 0.030822407454252243, 'direction_metric': 0.9960770606994629, 'angle_metric': 0.8830896019935608, 'val_loss': 0.6005841493606567, 'val_mean_absolute_error': 0.22478154301643372, 'val_direction_metric': 0.7181761264801025, 'val_angle_metric': 0.2053837776184082, 'epoch': 64}\n",
      "3165/3165 [==============================] - 346s 109ms/step - loss: 0.0367 - mean_absolute_error: 0.0308 - direction_metric: 0.9961 - angle_metric: 0.8831 - val_loss: 0.6006 - val_mean_absolute_error: 0.2248 - val_direction_metric: 0.7182 - val_angle_metric: 0.2054\n",
      "Epoch 66/100\n",
      "3165/3165 [==============================] - ETA: 0s - loss: 0.0363 - mean_absolute_error: 0.0306 - direction_metric: 0.9962 - angle_metric: 0.8845INFO:tensorflow:Assets written to: /home/quentin/Desktop/ISL/interiorsim/code/experiments/rl_openbot/imitation_learning/models/TestSession_1_pilot_net_lr0.0001_bz512_bn/checkpoints/cp-last.ckpt/assets\n",
      "INFO:tensorflow:Assets written to: /home/quentin/Desktop/ISL/interiorsim/code/experiments/rl_openbot/imitation_learning/models/TestSession_1_pilot_net_lr0.0001_bz512_bn/checkpoints/cp-best-train.ckpt/assets\n",
      "on_epoch_end {'loss': 0.03630576282739639, 'mean_absolute_error': 0.03056402876973152, 'direction_metric': 0.9962319731712341, 'angle_metric': 0.8844984173774719, 'val_loss': 0.6120690703392029, 'val_mean_absolute_error': 0.2253376841545105, 'val_direction_metric': 0.7185685038566589, 'val_angle_metric': 0.2060116082429886, 'epoch': 65}\n",
      "logs {'loss': 0.03630576282739639, 'mean_absolute_error': 0.03056402876973152, 'direction_metric': 0.9962319731712341, 'angle_metric': 0.8844984173774719, 'val_loss': 0.6120690703392029, 'val_mean_absolute_error': 0.2253376841545105, 'val_direction_metric': 0.7185685038566589, 'val_angle_metric': 0.2060116082429886, 'epoch': 65}\n",
      "3165/3165 [==============================] - 348s 110ms/step - loss: 0.0363 - mean_absolute_error: 0.0306 - direction_metric: 0.9962 - angle_metric: 0.8845 - val_loss: 0.6121 - val_mean_absolute_error: 0.2253 - val_direction_metric: 0.7186 - val_angle_metric: 0.2060\n",
      "Epoch 67/100\n",
      "3165/3165 [==============================] - ETA: 0s - loss: 0.0361 - mean_absolute_error: 0.0304 - direction_metric: 0.9962 - angle_metric: 0.8855INFO:tensorflow:Assets written to: /home/quentin/Desktop/ISL/interiorsim/code/experiments/rl_openbot/imitation_learning/models/TestSession_1_pilot_net_lr0.0001_bz512_bn/checkpoints/cp-last.ckpt/assets\n",
      "INFO:tensorflow:Assets written to: /home/quentin/Desktop/ISL/interiorsim/code/experiments/rl_openbot/imitation_learning/models/TestSession_1_pilot_net_lr0.0001_bz512_bn/checkpoints/cp-best-train.ckpt/assets\n",
      "on_epoch_end {'loss': 0.03612324595451355, 'mean_absolute_error': 0.030357394367456436, 'direction_metric': 0.996211588382721, 'angle_metric': 0.8854913115501404, 'val_loss': 0.6136344075202942, 'val_mean_absolute_error': 0.2271387279033661, 'val_direction_metric': 0.7208444476127625, 'val_angle_metric': 0.205619215965271, 'epoch': 66}\n",
      "logs {'loss': 0.03612324595451355, 'mean_absolute_error': 0.030357394367456436, 'direction_metric': 0.996211588382721, 'angle_metric': 0.8854913115501404, 'val_loss': 0.6136344075202942, 'val_mean_absolute_error': 0.2271387279033661, 'val_direction_metric': 0.7208444476127625, 'val_angle_metric': 0.205619215965271, 'epoch': 66}\n",
      "3165/3165 [==============================] - 350s 110ms/step - loss: 0.0361 - mean_absolute_error: 0.0304 - direction_metric: 0.9962 - angle_metric: 0.8855 - val_loss: 0.6136 - val_mean_absolute_error: 0.2271 - val_direction_metric: 0.7208 - val_angle_metric: 0.2056\n",
      "Epoch 68/100\n",
      "3165/3165 [==============================] - ETA: 0s - loss: 0.0358 - mean_absolute_error: 0.0302 - direction_metric: 0.9963 - angle_metric: 0.8869INFO:tensorflow:Assets written to: /home/quentin/Desktop/ISL/interiorsim/code/experiments/rl_openbot/imitation_learning/models/TestSession_1_pilot_net_lr0.0001_bz512_bn/checkpoints/cp-last.ckpt/assets\n",
      "INFO:tensorflow:Assets written to: /home/quentin/Desktop/ISL/interiorsim/code/experiments/rl_openbot/imitation_learning/models/TestSession_1_pilot_net_lr0.0001_bz512_bn/checkpoints/cp-best-train.ckpt/assets\n",
      "on_epoch_end {'loss': 0.03576631844043732, 'mean_absolute_error': 0.030159350484609604, 'direction_metric': 0.9962702393531799, 'angle_metric': 0.8869088292121887, 'val_loss': 0.6190398335456848, 'val_mean_absolute_error': 0.22371847927570343, 'val_direction_metric': 0.7296342849731445, 'val_angle_metric': 0.20930780470371246, 'epoch': 67}\n",
      "logs {'loss': 0.03576631844043732, 'mean_absolute_error': 0.030159350484609604, 'direction_metric': 0.9962702393531799, 'angle_metric': 0.8869088292121887, 'val_loss': 0.6190398335456848, 'val_mean_absolute_error': 0.22371847927570343, 'val_direction_metric': 0.7296342849731445, 'val_angle_metric': 0.20930780470371246, 'epoch': 67}\n",
      "3165/3165 [==============================] - 350s 111ms/step - loss: 0.0358 - mean_absolute_error: 0.0302 - direction_metric: 0.9963 - angle_metric: 0.8869 - val_loss: 0.6190 - val_mean_absolute_error: 0.2237 - val_direction_metric: 0.7296 - val_angle_metric: 0.2093\n",
      "Epoch 69/100\n",
      "3165/3165 [==============================] - ETA: 0s - loss: 0.0356 - mean_absolute_error: 0.0300 - direction_metric: 0.9963 - angle_metric: 0.8876INFO:tensorflow:Assets written to: /home/quentin/Desktop/ISL/interiorsim/code/experiments/rl_openbot/imitation_learning/models/TestSession_1_pilot_net_lr0.0001_bz512_bn/checkpoints/cp-last.ckpt/assets\n",
      "INFO:tensorflow:Assets written to: /home/quentin/Desktop/ISL/interiorsim/code/experiments/rl_openbot/imitation_learning/models/TestSession_1_pilot_net_lr0.0001_bz512_bn/checkpoints/cp-best-train.ckpt/assets\n",
      "on_epoch_end {'loss': 0.035578757524490356, 'mean_absolute_error': 0.029991138726472855, 'direction_metric': 0.9963362812995911, 'angle_metric': 0.8876055479049683, 'val_loss': 0.6153830289840698, 'val_mean_absolute_error': 0.22415490448474884, 'val_direction_metric': 0.73222416639328, 'val_angle_metric': 0.21715585887432098, 'epoch': 68}\n",
      "logs {'loss': 0.035578757524490356, 'mean_absolute_error': 0.029991138726472855, 'direction_metric': 0.9963362812995911, 'angle_metric': 0.8876055479049683, 'val_loss': 0.6153830289840698, 'val_mean_absolute_error': 0.22415490448474884, 'val_direction_metric': 0.73222416639328, 'val_angle_metric': 0.21715585887432098, 'epoch': 68}\n",
      "3165/3165 [==============================] - 350s 111ms/step - loss: 0.0356 - mean_absolute_error: 0.0300 - direction_metric: 0.9963 - angle_metric: 0.8876 - val_loss: 0.6154 - val_mean_absolute_error: 0.2242 - val_direction_metric: 0.7322 - val_angle_metric: 0.2172\n",
      "Epoch 70/100\n",
      "3165/3165 [==============================] - ETA: 0s - loss: 0.0354 - mean_absolute_error: 0.0298 - direction_metric: 0.9964 - angle_metric: 0.8885INFO:tensorflow:Assets written to: /home/quentin/Desktop/ISL/interiorsim/code/experiments/rl_openbot/imitation_learning/models/TestSession_1_pilot_net_lr0.0001_bz512_bn/checkpoints/cp-last.ckpt/assets\n",
      "INFO:tensorflow:Assets written to: /home/quentin/Desktop/ISL/interiorsim/code/experiments/rl_openbot/imitation_learning/models/TestSession_1_pilot_net_lr0.0001_bz512_bn/checkpoints/cp-best-train.ckpt/assets\n",
      "on_epoch_end {'loss': 0.03535354137420654, 'mean_absolute_error': 0.02978438325226307, 'direction_metric': 0.9963769912719727, 'angle_metric': 0.8885299563407898, 'val_loss': 0.6276683211326599, 'val_mean_absolute_error': 0.22611401975154877, 'val_direction_metric': 0.7179406881332397, 'val_angle_metric': 0.20616857707500458, 'epoch': 69}\n",
      "logs {'loss': 0.03535354137420654, 'mean_absolute_error': 0.02978438325226307, 'direction_metric': 0.9963769912719727, 'angle_metric': 0.8885299563407898, 'val_loss': 0.6276683211326599, 'val_mean_absolute_error': 0.22611401975154877, 'val_direction_metric': 0.7179406881332397, 'val_angle_metric': 0.20616857707500458, 'epoch': 69}\n",
      "3165/3165 [==============================] - 353s 112ms/step - loss: 0.0354 - mean_absolute_error: 0.0298 - direction_metric: 0.9964 - angle_metric: 0.8885 - val_loss: 0.6277 - val_mean_absolute_error: 0.2261 - val_direction_metric: 0.7179 - val_angle_metric: 0.2062\n",
      "Epoch 71/100\n",
      "3165/3165 [==============================] - ETA: 0s - loss: 0.0352 - mean_absolute_error: 0.0297 - direction_metric: 0.9963 - angle_metric: 0.8897INFO:tensorflow:Assets written to: /home/quentin/Desktop/ISL/interiorsim/code/experiments/rl_openbot/imitation_learning/models/TestSession_1_pilot_net_lr0.0001_bz512_bn/checkpoints/cp-last.ckpt/assets\n",
      "INFO:tensorflow:Assets written to: /home/quentin/Desktop/ISL/interiorsim/code/experiments/rl_openbot/imitation_learning/models/TestSession_1_pilot_net_lr0.0001_bz512_bn/checkpoints/cp-best-train.ckpt/assets\n",
      "on_epoch_end {'loss': 0.03516136109828949, 'mean_absolute_error': 0.029667306691408157, 'direction_metric': 0.9963239431381226, 'angle_metric': 0.889677107334137, 'val_loss': 0.5980409383773804, 'val_mean_absolute_error': 0.2250705063343048, 'val_direction_metric': 0.7226495146751404, 'val_angle_metric': 0.20224454998970032, 'epoch': 70}\n",
      "logs {'loss': 0.03516136109828949, 'mean_absolute_error': 0.029667306691408157, 'direction_metric': 0.9963239431381226, 'angle_metric': 0.889677107334137, 'val_loss': 0.5980409383773804, 'val_mean_absolute_error': 0.2250705063343048, 'val_direction_metric': 0.7226495146751404, 'val_angle_metric': 0.20224454998970032, 'epoch': 70}\n",
      "3165/3165 [==============================] - 353s 112ms/step - loss: 0.0352 - mean_absolute_error: 0.0297 - direction_metric: 0.9963 - angle_metric: 0.8897 - val_loss: 0.5980 - val_mean_absolute_error: 0.2251 - val_direction_metric: 0.7226 - val_angle_metric: 0.2022\n",
      "Epoch 72/100\n",
      "3165/3165 [==============================] - ETA: 0s - loss: 0.0350 - mean_absolute_error: 0.0295 - direction_metric: 0.9965 - angle_metric: 0.8900INFO:tensorflow:Assets written to: /home/quentin/Desktop/ISL/interiorsim/code/experiments/rl_openbot/imitation_learning/models/TestSession_1_pilot_net_lr0.0001_bz512_bn/checkpoints/cp-last.ckpt/assets\n",
      "INFO:tensorflow:Assets written to: /home/quentin/Desktop/ISL/interiorsim/code/experiments/rl_openbot/imitation_learning/models/TestSession_1_pilot_net_lr0.0001_bz512_bn/checkpoints/cp-best-train.ckpt/assets\n",
      "on_epoch_end {'loss': 0.034981656819581985, 'mean_absolute_error': 0.029512938112020493, 'direction_metric': 0.9964689612388611, 'angle_metric': 0.8900153040885925, 'val_loss': 0.6232172250747681, 'val_mean_absolute_error': 0.22484685480594635, 'val_direction_metric': 0.7225710153579712, 'val_angle_metric': 0.20695337653160095, 'epoch': 71}\n",
      "logs {'loss': 0.034981656819581985, 'mean_absolute_error': 0.029512938112020493, 'direction_metric': 0.9964689612388611, 'angle_metric': 0.8900153040885925, 'val_loss': 0.6232172250747681, 'val_mean_absolute_error': 0.22484685480594635, 'val_direction_metric': 0.7225710153579712, 'val_angle_metric': 0.20695337653160095, 'epoch': 71}\n",
      "3165/3165 [==============================] - 350s 110ms/step - loss: 0.0350 - mean_absolute_error: 0.0295 - direction_metric: 0.9965 - angle_metric: 0.8900 - val_loss: 0.6232 - val_mean_absolute_error: 0.2248 - val_direction_metric: 0.7226 - val_angle_metric: 0.2070\n",
      "Epoch 73/100\n",
      "3165/3165 [==============================] - ETA: 0s - loss: 0.0347 - mean_absolute_error: 0.0293 - direction_metric: 0.9964 - angle_metric: 0.8908INFO:tensorflow:Assets written to: /home/quentin/Desktop/ISL/interiorsim/code/experiments/rl_openbot/imitation_learning/models/TestSession_1_pilot_net_lr0.0001_bz512_bn/checkpoints/cp-last.ckpt/assets\n",
      "INFO:tensorflow:Assets written to: /home/quentin/Desktop/ISL/interiorsim/code/experiments/rl_openbot/imitation_learning/models/TestSession_1_pilot_net_lr0.0001_bz512_bn/checkpoints/cp-best-train.ckpt/assets\n",
      "on_epoch_end {'loss': 0.03474625572562218, 'mean_absolute_error': 0.029316870495676994, 'direction_metric': 0.9964115619659424, 'angle_metric': 0.890841007232666, 'val_loss': 0.613994836807251, 'val_mean_absolute_error': 0.2224675714969635, 'val_direction_metric': 0.7242191433906555, 'val_angle_metric': 0.2114267796278, 'epoch': 72}\n",
      "logs {'loss': 0.03474625572562218, 'mean_absolute_error': 0.029316870495676994, 'direction_metric': 0.9964115619659424, 'angle_metric': 0.890841007232666, 'val_loss': 0.613994836807251, 'val_mean_absolute_error': 0.2224675714969635, 'val_direction_metric': 0.7242191433906555, 'val_angle_metric': 0.2114267796278, 'epoch': 72}\n",
      "3165/3165 [==============================] - 345s 109ms/step - loss: 0.0347 - mean_absolute_error: 0.0293 - direction_metric: 0.9964 - angle_metric: 0.8908 - val_loss: 0.6140 - val_mean_absolute_error: 0.2225 - val_direction_metric: 0.7242 - val_angle_metric: 0.2114\n",
      "Epoch 74/100\n",
      "3165/3165 [==============================] - ETA: 0s - loss: 0.0345 - mean_absolute_error: 0.0291 - direction_metric: 0.9965 - angle_metric: 0.8923INFO:tensorflow:Assets written to: /home/quentin/Desktop/ISL/interiorsim/code/experiments/rl_openbot/imitation_learning/models/TestSession_1_pilot_net_lr0.0001_bz512_bn/checkpoints/cp-last.ckpt/assets\n",
      "INFO:tensorflow:Assets written to: /home/quentin/Desktop/ISL/interiorsim/code/experiments/rl_openbot/imitation_learning/models/TestSession_1_pilot_net_lr0.0001_bz512_bn/checkpoints/cp-best-train.ckpt/assets\n",
      "on_epoch_end {'loss': 0.03448062017560005, 'mean_absolute_error': 0.02912946417927742, 'direction_metric': 0.9965035319328308, 'angle_metric': 0.8922905325889587, 'val_loss': 0.6079105138778687, 'val_mean_absolute_error': 0.22161608934402466, 'val_direction_metric': 0.7189609408378601, 'val_angle_metric': 0.2141736000776291, 'epoch': 73}\n",
      "logs {'loss': 0.03448062017560005, 'mean_absolute_error': 0.02912946417927742, 'direction_metric': 0.9965035319328308, 'angle_metric': 0.8922905325889587, 'val_loss': 0.6079105138778687, 'val_mean_absolute_error': 0.22161608934402466, 'val_direction_metric': 0.7189609408378601, 'val_angle_metric': 0.2141736000776291, 'epoch': 73}\n",
      "3165/3165 [==============================] - 344s 109ms/step - loss: 0.0345 - mean_absolute_error: 0.0291 - direction_metric: 0.9965 - angle_metric: 0.8923 - val_loss: 0.6079 - val_mean_absolute_error: 0.2216 - val_direction_metric: 0.7190 - val_angle_metric: 0.2142\n",
      "Epoch 75/100\n",
      "3165/3165 [==============================] - ETA: 0s - loss: 0.0343 - mean_absolute_error: 0.0290 - direction_metric: 0.9966 - angle_metric: 0.8930INFO:tensorflow:Assets written to: /home/quentin/Desktop/ISL/interiorsim/code/experiments/rl_openbot/imitation_learning/models/TestSession_1_pilot_net_lr0.0001_bz512_bn/checkpoints/cp-last.ckpt/assets\n",
      "INFO:tensorflow:Assets written to: /home/quentin/Desktop/ISL/interiorsim/code/experiments/rl_openbot/imitation_learning/models/TestSession_1_pilot_net_lr0.0001_bz512_bn/checkpoints/cp-best-train.ckpt/assets\n",
      "on_epoch_end {'loss': 0.034272003918886185, 'mean_absolute_error': 0.028974030166864395, 'direction_metric': 0.996597945690155, 'angle_metric': 0.8929699659347534, 'val_loss': 0.6557008028030396, 'val_mean_absolute_error': 0.23097887635231018, 'val_direction_metric': 0.7097786664962769, 'val_angle_metric': 0.2025584727525711, 'epoch': 74}\n",
      "logs {'loss': 0.034272003918886185, 'mean_absolute_error': 0.028974030166864395, 'direction_metric': 0.996597945690155, 'angle_metric': 0.8929699659347534, 'val_loss': 0.6557008028030396, 'val_mean_absolute_error': 0.23097887635231018, 'val_direction_metric': 0.7097786664962769, 'val_angle_metric': 0.2025584727525711, 'epoch': 74}\n",
      "3165/3165 [==============================] - 344s 109ms/step - loss: 0.0343 - mean_absolute_error: 0.0290 - direction_metric: 0.9966 - angle_metric: 0.8930 - val_loss: 0.6557 - val_mean_absolute_error: 0.2310 - val_direction_metric: 0.7098 - val_angle_metric: 0.2026\n",
      "Epoch 76/100\n",
      " 213/3165 [=>............................] - ETA: 5:14 - loss: 0.0335 - mean_absolute_error: 0.0293 - direction_metric: 0.9966 - angle_metric: 0.8875"
     ]
    }
   ],
   "source": [
    "train.do_training(tr, my_callback, verbose=1)"
   ]
  },
  {
   "cell_type": "markdown",
   "id": "7459b4a4-8211-480b-b4ae-e84504f18798",
   "metadata": {},
   "source": [
    "## Evaluation"
   ]
  },
  {
   "cell_type": "markdown",
   "id": "f623b65f",
   "metadata": {},
   "source": [
    "The loss and mean absolute error should decrease. This indicates that the model is fitting the data well. The custom metrics (direction and angle) should go towards 1. These provide some additional insight to the training progress. The direction metric measures weather or not predictions are in the same direction as the labels. Similarly the angle metric measures if the prediction is within a small angle of the labels. The intuition is that driving in the right direction with the correct steering angle is most critical part for good final performance."
   ]
  },
  {
   "cell_type": "code",
   "execution_count": null,
   "id": "efd65e1a",
   "metadata": {},
   "outputs": [],
   "source": [
    "plt.plot(tr.history.history['loss'], label='loss')\n",
    "plt.plot(tr.history.history['val_loss'], label = 'val_loss')\n",
    "plt.xlabel('Epoch')\n",
    "plt.ylabel('Loss')\n",
    "plt.legend(loc='lower right')\n",
    "plt.savefig(os.path.join(tr.log_path,'loss.png'))"
   ]
  },
  {
   "cell_type": "code",
   "execution_count": null,
   "id": "97e98f63",
   "metadata": {},
   "outputs": [],
   "source": [
    "plt.plot(tr.history.history['mean_absolute_error'], label='mean_absolute_error')\n",
    "plt.plot(tr.history.history['val_mean_absolute_error'], label = 'val_mean_absolute_error')\n",
    "plt.xlabel('Epoch')\n",
    "plt.ylabel('Mean Absolute Error')\n",
    "plt.legend(loc='lower right')\n",
    "plt.savefig(os.path.join(tr.log_path,'error.png'))"
   ]
  },
  {
   "cell_type": "code",
   "execution_count": null,
   "id": "aa1752d7",
   "metadata": {},
   "outputs": [],
   "source": [
    "plt.plot(tr.history.history['direction_metric'], label='direction_metric')\n",
    "plt.plot(tr.history.history['val_direction_metric'], label = 'val_direction_metric')\n",
    "plt.xlabel('Epoch')\n",
    "plt.ylabel('Direction Metric')\n",
    "plt.legend(loc='lower right')\n",
    "plt.savefig(os.path.join(tr.log_path,'direction.png'))"
   ]
  },
  {
   "cell_type": "code",
   "execution_count": null,
   "id": "9de04eec",
   "metadata": {},
   "outputs": [],
   "source": [
    "plt.plot(tr.history.history['angle_metric'], label='angle_metric')\n",
    "plt.plot(tr.history.history['val_angle_metric'], label = 'val_angle_metric')\n",
    "plt.xlabel('Epoch')\n",
    "plt.ylabel('Angle Metric')\n",
    "plt.legend(loc='lower right')\n",
    "plt.savefig(os.path.join(tr.log_path,'angle.png'))"
   ]
  },
  {
   "cell_type": "markdown",
   "id": "e72c1de3",
   "metadata": {},
   "source": [
    "### Save tf lite models for best train and val checkpoint"
   ]
  },
  {
   "cell_type": "code",
   "execution_count": null,
   "id": "bb605b90",
   "metadata": {},
   "outputs": [],
   "source": [
    "best_train_index = np.argmin(np.array(tr.history.history['loss']))\n",
    "best_train_checkpoint = \"cp-best-train.ckpt\"\n",
    "best_train_tflite = utils.generate_tflite(tr.checkpoint_path, best_train_checkpoint)\n",
    "utils.save_tflite (best_train_tflite, tr.checkpoint_path, \"best-train\")\n",
    "print(\"Best Train Checkpoint (angle: %s, val_angle: %s, direction: %s, val_direction: %s, epoch: %s\" \\\n",
    "      %(tr.history.history['angle_metric'][best_train_index], \\\n",
    "        tr.history.history['val_angle_metric'][best_train_index], \\\n",
    "        tr.history.history['direction_metric'][best_train_index], \\\n",
    "        tr.history.history['val_direction_metric'][best_train_index], \\\n",
    "        best_train_index))"
   ]
  },
  {
   "cell_type": "code",
   "execution_count": null,
   "id": "92a1ef62",
   "metadata": {},
   "outputs": [],
   "source": [
    "best_val_index = np.argmin(np.array(tr.history.history['val_loss']))\n",
    "best_val_checkpoint = \"cp-best-val.ckpt\"\n",
    "best_val_tflite = utils.generate_tflite(tr.checkpoint_path, best_val_checkpoint)\n",
    "utils.save_tflite (best_val_tflite, tr.checkpoint_path, \"best-val\")\n",
    "print(\"Best Val Checkpoint (angle: %s, val_angle: %s, direction: %s, val_direction: %s, epoch: %s\" \\\n",
    "      %(tr.history.history['angle_metric'][best_val_index], \\\n",
    "        tr.history.history['val_angle_metric'][best_val_index], \\\n",
    "        tr.history.history['direction_metric'][best_val_index], \\\n",
    "        tr.history.history['val_direction_metric'][best_val_index], \\\n",
    "        best_val_index))"
   ]
  },
  {
   "cell_type": "markdown",
   "id": "574a0eda",
   "metadata": {},
   "source": [
    "### Evaluate the best model (train loss) on the training set"
   ]
  },
  {
   "cell_type": "code",
   "execution_count": null,
   "id": "82b7e470",
   "metadata": {},
   "outputs": [],
   "source": [
    "best_train_model = utils.load_model(os.path.join(tr.checkpoint_path,best_train_checkpoint),tr.loss_fn,tr.metric_list, tr.custom_objects)\n",
    "loss, mae, direction, angle = best_train_model.evaluate(tr.train_ds, steps=tr.image_count_train/tr.hyperparameters.TRAIN_BATCH_SIZE, verbose=1)"
   ]
  },
  {
   "cell_type": "code",
   "execution_count": null,
   "id": "e6f81c39",
   "metadata": {},
   "outputs": [],
   "source": [
    "NUM_SAMPLES = 15\n",
    "(image_batch, cmd_batch), label_batch = next(iter(tr.train_ds))\n",
    "pred_batch = best_train_model.predict( (tf.slice(image_batch, [0, 0, 0, 0], [NUM_SAMPLES, -1, -1, -1]), tf.slice(cmd_batch, [0, 0], [NUM_SAMPLES, -1])) )\n",
    "utils.show_test_batch(image_batch.numpy(), cmd_batch.numpy(), label_batch.numpy(), pred_batch)   "
   ]
  },
  {
   "cell_type": "code",
   "execution_count": null,
   "id": "66b267aa",
   "metadata": {},
   "outputs": [],
   "source": [
    "utils.compare_tf_tflite(best_train_model,best_train_tflite)"
   ]
  },
  {
   "cell_type": "markdown",
   "id": "d0c57018",
   "metadata": {},
   "source": [
    "### Evaluate the best model (val loss) on the validation set"
   ]
  },
  {
   "cell_type": "code",
   "execution_count": null,
   "id": "04a03c6d",
   "metadata": {},
   "outputs": [],
   "source": [
    "best_val_model = utils.load_model(os.path.join(tr.checkpoint_path,best_val_checkpoint),tr.loss_fn,tr.metric_list, tr.custom_objects)\n",
    "loss, mae, direction, angle = best_val_model.evaluate(tr.test_ds, steps=tr.image_count_test/tr.hyperparameters.TEST_BATCH_SIZE, verbose=1)"
   ]
  },
  {
   "cell_type": "code",
   "execution_count": null,
   "id": "d8e01e77",
   "metadata": {},
   "outputs": [],
   "source": [
    "NUM_SAMPLES = 15\n",
    "(image_batch, cmd_batch), label_batch = next(iter(tr.test_ds))\n",
    "pred_batch = best_val_model.predict( (tf.slice(image_batch, [0, 0, 0, 0], [NUM_SAMPLES, -1, -1, -1]), tf.slice(cmd_batch, [0, 0], [NUM_SAMPLES, -1])) )\n",
    "utils.show_test_batch(image_batch.numpy(), cmd_batch.numpy(), label_batch.numpy(), pred_batch)   "
   ]
  },
  {
   "cell_type": "code",
   "execution_count": null,
   "id": "daf9dbac",
   "metadata": {},
   "outputs": [],
   "source": [
    "utils.compare_tf_tflite(best_val_model,best_val_tflite)"
   ]
  },
  {
   "cell_type": "markdown",
   "id": "29c9d606",
   "metadata": {},
   "source": [
    "## Save the notebook as HTML"
   ]
  },
  {
   "cell_type": "code",
   "execution_count": null,
   "id": "3c47915f",
   "metadata": {},
   "outputs": [],
   "source": [
    "utils.save_notebook()\n",
    "current_file = 'policy_learning.ipynb'\n",
    "output_file = os.path.join(tr.log_path,'notebook.html')\n",
    "utils.output_HTML(current_file, output_file)"
   ]
  },
  {
   "cell_type": "code",
   "execution_count": null,
   "id": "fa902ebd",
   "metadata": {},
   "outputs": [],
   "source": []
  },
  {
   "cell_type": "code",
   "execution_count": null,
   "id": "3fcac035-c9d6-45d1-8d7a-ba4da49be22b",
   "metadata": {},
   "outputs": [],
   "source": []
  },
  {
   "cell_type": "code",
   "execution_count": null,
   "id": "0590542e-3340-4d08-8cfa-e927a35f1b73",
   "metadata": {},
   "outputs": [],
   "source": []
  },
  {
   "cell_type": "code",
   "execution_count": null,
   "id": "f7ffd95a-51c0-49e0-9f05-cfcc44c72fc2",
   "metadata": {},
   "outputs": [],
   "source": []
  }
 ],
 "metadata": {
  "kernelspec": {
   "display_name": "Python 3 (ipykernel)",
   "language": "python",
   "name": "python3"
  },
  "language_info": {
   "codemirror_mode": {
    "name": "ipython",
    "version": 3
   },
   "file_extension": ".py",
   "mimetype": "text/x-python",
   "name": "python",
   "nbconvert_exporter": "python",
   "pygments_lexer": "ipython3",
   "version": "3.8.13"
  }
 },
 "nbformat": 4,
 "nbformat_minor": 5
}
