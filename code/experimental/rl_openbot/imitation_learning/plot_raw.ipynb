{
 "cells": [
  {
   "cell_type": "code",
   "execution_count": 9,
   "id": "831d0e26-4577-499f-8b67-75afb823c8ad",
   "metadata": {},
   "outputs": [],
   "source": [
    "import numpy as np\n",
    "import pandas as pd\n",
    "import matplotlib.pyplot as plt\n",
    "import seaborn as sns"
   ]
  },
  {
   "cell_type": "code",
   "execution_count": 23,
   "id": "f61ecb49-e49a-493b-96b8-fe8ac26c5dd0",
   "metadata": {},
   "outputs": [],
   "source": [
    "\n",
    "plt.rcParams[\"figure.figsize\"] = [7.50, 3.50]\n",
    "plt.rcParams[\"figure.autolayout\"] = True\n",
    "\n",
    "#headers = ['timestamp[ns]','yawAngle','posX','posY']\n",
    "\n",
    "df = pd.read_csv('dataset/session_simpleMap_10/data/sensor_data/poseData.txt')\n",
    "df['timestamp[ns]'] = (df['timestamp[ns]'] - df['timestamp[ns]'][0])/1e3"
   ]
  },
  {
   "cell_type": "code",
   "execution_count": 24,
   "id": "97168df8-bd6e-4fcc-9ae3-a74f0faf2fb2",
   "metadata": {},
   "outputs": [
    {
     "data": {
      "text/plain": [
       "<AxesSubplot:xlabel='timestamp[ns]', ylabel='yawAngle'>"
      ]
     },
     "execution_count": 24,
     "metadata": {},
     "output_type": "execute_result"
    },
    {
     "data": {
      "image/png": "[encoded data removed]",
      "text/plain": [
       "<Figure size 540x252 with 1 Axes>"
      ]
     },
     "metadata": {
      "needs_background": "light"
     },
     "output_type": "display_data"
    }
   ],
   "source": [
    "\n",
    "sns.lineplot(data=df, x=\"timestamp[ns]\", y=\"yawAngle\")\n",
    "\n"
   ]
  },
  {
   "cell_type": "code",
   "execution_count": 20,
   "id": "f7a80105-fbe8-417d-af66-f39f0f668eb6",
   "metadata": {},
   "outputs": [
    {
     "data": {
      "text/plain": [
       "0       0.000\n",
       "1       0.221\n",
       "2       0.434\n",
       "3       0.669\n",
       "4       0.859\n",
       "        ...  \n",
       "495    88.676\n",
       "496    88.865\n",
       "497    89.057\n",
       "498    89.284\n",
       "499    89.464\n",
       "Name: timestamp[ns], Length: 500, dtype: float64"
      ]
     },
     "execution_count": 20,
     "metadata": {},
     "output_type": "execute_result"
    }
   ],
   "source": []
  },
  {
   "cell_type": "code",
   "execution_count": null,
   "id": "bb984e42-4b8a-4bce-ad85-859fc3ea42d1",
   "metadata": {},
   "outputs": [],
   "source": []
  }
 ],
 "metadata": {
  "kernelspec": {
   "display_name": "Python 3 (ipykernel)",
   "language": "python",
   "name": "python3"
  },
  "language_info": {
   "codemirror_mode": {
    "name": "ipython",
    "version": 3
   },
   "file_extension": ".py",
   "mimetype": "text/x-python",
   "name": "python",
   "nbconvert_exporter": "python",
   "pygments_lexer": "ipython3",
   "version": "3.9.7"
  }
 },
 "nbformat": 4,
 "nbformat_minor": 5
}
