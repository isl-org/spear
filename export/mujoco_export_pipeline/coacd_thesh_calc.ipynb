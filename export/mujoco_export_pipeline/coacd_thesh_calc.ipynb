{
 "cells": [
  {
   "cell_type": "code",
   "execution_count": null,
   "metadata": {},
   "outputs": [],
   "source": [
    "%matplotlib widget\n",
    "import numpy as np\n",
    "import matplotlib.pyplot as plt"
   ]
  },
  {
   "cell_type": "code",
   "execution_count": null,
   "metadata": {},
   "outputs": [],
   "source": [
    "X = np.array([\n",
    "  [0.0006510410485, 1.0],\n",
    "  [0.001868238729, 1.0],\n",
    "  [0.06765178074, 1.0],\n",
    "  [0.1865415419, 1.0],\n",
    "  [0.9380368531, 1.0],\n",
    "])\n",
    "t_min = np.array([0.15, 0.05, 0.05, 0.05, 0.02])\n",
    "t_max = np.array([0.99, 0.2, 0.075, 0.1, 0.05])\n",
    "t = 0.5 * (t_min + t_max)\n",
    "s = 0.5 * ((t - t_min)**2.0 + (t-t_max)**2.0)\n",
    "W = np.diag(1e-3 / s)\n",
    "Y = t[:, np.newaxis]\n",
    "Nplot = 500"
   ]
  },
  {
   "cell_type": "code",
   "execution_count": null,
   "metadata": {},
   "outputs": [],
   "source": [
    "def do_plot(Xplot, Yhat, title):\n",
    "  plt.figure()\n",
    "  plt.scatter(X[:, 0], Y[:, 0], c='orange')\n",
    "  plt.plot(Xplot, Yhat)\n",
    "  plt.ylim(0.0, 0.5)\n",
    "  plt.title(title)\n",
    "  plt.xlabel('volume')\n",
    "  plt.ylabel('threshold')\n",
    "  plt.show()"
   ]
  },
  {
   "cell_type": "code",
   "execution_count": null,
   "metadata": {},
   "outputs": [],
   "source": [
    "b = np.linalg.inv(X.T @ X) @ X.T @ Y\n",
    "print(b.flatten())\n",
    "Xplot = np.vstack((np.linspace(X[0, 0], X[-1, 0], Nplot), np.ones(Nplot))).T\n",
    "Yhat = Xplot @ b\n",
    "# for (y, yhat) in zip(Y, Yhat):\n",
    "#   print(f'label = {y}, prediction = {yhat}')\n",
    "do_plot(Xplot[:, 0], Yhat[:, 0], 'unweighted linear regression')"
   ]
  },
  {
   "cell_type": "code",
   "execution_count": null,
   "metadata": {},
   "outputs": [],
   "source": [
    "b = np.linalg.inv(X.T @ W @ X) @ X.T @ W @ Y\n",
    "print(b.flatten())\n",
    "Xplot = np.vstack((np.linspace(X[0, 0], X[-1, 0], Nplot), np.ones(Nplot))).T\n",
    "Yhat = Xplot @ b\n",
    "# for (y, yhat) in zip(Y, Yhat):\n",
    "#  print(f'label = {y}, prediction = {yhat}')\n",
    "do_plot(Xplot[:, 0], Yhat[:, 0], 'weighted linear regression')"
   ]
  },
  {
   "cell_type": "code",
   "execution_count": null,
   "metadata": {},
   "outputs": [],
   "source": [
    "deg = 2\n",
    "p = np.polynomial.Polynomial.fit(X[:, 0], Y[:, 0], deg=deg)\n",
    "print(p)\n",
    "Xplot, Yhat = p.linspace(Nplot)\n",
    "do_plot(Xplot, Yhat, f'unweighted degree {deg} polynomial')"
   ]
  },
  {
   "cell_type": "code",
   "execution_count": null,
   "metadata": {},
   "outputs": [],
   "source": [
    "deg = 2\n",
    "p = np.polynomial.Polynomial.fit(X[:, 0], Y[:, 0], deg=deg, w=np.diag(W))\n",
    "print(p)\n",
    "Xplot, Yhat = p.linspace(Nplot)\n",
    "do_plot(Xplot, Yhat, f'weighted degree {deg} polynomial')"
   ]
  }
 ],
 "metadata": {
  "kernelspec": {
   "display_name": "mujoco_export_pipeline",
   "language": "python",
   "name": "python3"
  },
  "language_info": {
   "codemirror_mode": {
    "name": "ipython",
    "version": 3
   },
   "file_extension": ".py",
   "mimetype": "text/x-python",
   "name": "python",
   "nbconvert_exporter": "python",
   "pygments_lexer": "ipython3",
   "version": "3.10.11"
  }
 },
 "nbformat": 4,
 "nbformat_minor": 2
}
