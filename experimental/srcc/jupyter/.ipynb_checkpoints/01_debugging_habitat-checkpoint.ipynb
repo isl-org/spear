{
 "cells": [
  {
   "cell_type": "code",
   "execution_count": 1,
   "id": "f2651cff-fc55-484f-8c1b-f5bb9183afe8",
   "metadata": {},
   "outputs": [
    {
     "name": "stdout",
     "output_type": "stream",
     "text": [
      "Populating the interactive namespace from numpy and matplotlib\n"
     ]
    }
   ],
   "source": [
    "%pylab inline\n",
    "\n",
    "%load_ext autoreload\n",
    "%autoreload 2"
   ]
  },
  {
   "cell_type": "code",
   "execution_count": 2,
   "id": "f6a2784d-6a54-43be-a957-2920bfc81778",
   "metadata": {},
   "outputs": [],
   "source": [
    "import argparse\n",
    "import os\n",
    "from collections import defaultdict\n",
    "\n",
    "import torch\n",
    "\n",
    "from habitat.utils.visualizations.utils import (\n",
    "    images_to_video,\n",
    "    observations_to_image,\n",
    ")\n",
    "from habitat_baselines.common.baseline_registry import baseline_registry\n",
    "\n",
    "# taken from Joanne's code but not working\n",
    "# from habitat_baselines.common.env_utils import construct_envs\n",
    "from habitat_baselines.utils.env_utils import construct_envs\n",
    "\n",
    "from habitat_baselines.common.environments import get_env_class\n",
    "\n",
    "# taken from Joanne's code but not working\n",
    "# from habitat_baselines.common.utils import batch_obs, generate_video\n",
    "from habitat_baselines.utils.common import batch_obs, generate_video\n",
    "\n",
    "from habitat_baselines.config.default import get_config\n",
    "from habitat_baselines.rl.ddppo.policy.resnet_policy import (\n",
    "    PointNavResNetPolicy,\n",
    ")"
   ]
  },
  {
   "cell_type": "code",
   "execution_count": 3,
   "id": "41bb63ca-9eb0-492b-81d2-cc1c7aafbc28",
   "metadata": {},
   "outputs": [
    {
     "data": {
      "text/plain": [
       "'/Users/mroberts/code/github/interiorsim/code/experiments/srcc/jupyter'"
      ]
     },
     "execution_count": 3,
     "metadata": {},
     "output_type": "execute_result"
    }
   ],
   "source": [
    "jupyter_dir = \"/Users/mroberts/code/github/interiorsim/code/experiments/srcc/jupyter\"\n",
    "\n",
    "jupyter_dir"
   ]
  },
  {
   "cell_type": "code",
   "execution_count": 4,
   "id": "41618d93-9236-4fdf-876a-2f5281cd2599",
   "metadata": {},
   "outputs": [
    {
     "name": "stdout",
     "output_type": "stream",
     "text": [
      "--model-path /Users/mroberts/code/github/interiorsim/code/experiments/srcc/jupyter/models\n",
      "--sensors RGB_SENSOR\n",
      "--hidden-size 512\n",
      "--normalize-visual-inputs 1\n",
      "--backbone resnet50\n",
      "--num-recurrent-layers 2\n",
      "TEST_EPISODE_COUNT 5\n",
      "TASK_CONFIG.SIMULATOR.NOISE_MODEL.CONTROLLER Proportional\n",
      "TASK_CONFIG.SIMULATOR.NOISE_MODEL.NOISE_MULTIPLIER 0.5\n",
      "TASK_CONFIG.SIMULATOR.RGB_SENSOR.HFOV 45\n",
      "TASK_CONFIG.SIMULATOR.RGB_SENSOR.VFOV 45\n",
      "TASK_CONFIG.SIMULATOR.DEPTH_SENSOR.HFOV 45\n",
      "TASK_CONFIG.SIMULATOR.DEPTH_SENSOR.VFOV 45\n",
      "TASK_CONFIG.SIMULATOR.TURN_ANGLE 30\n",
      "TASK_CONFIG.SIMULATOR.AGENT_0.RADIUS 0.20\n",
      "TASK_CONFIG.DATASET.DATA_PATH obstacle_1/{split}/{split}.json.gz\n",
      "TASK_CONFIG.DATASET.SPLIT minival\n",
      "TASK_CONFIG.ENVIRONMENT.GENERATE_ON_FLY False\n",
      "TASK_CONFIG.SIMULATOR.RGB_SENSOR.POSITION [0,0.6096,0]\n",
      "TASK_CONFIG.SIMULATOR.DEPTH_SENSOR.POSITION [0,0.6096,0]\n",
      "VIDEO_OPTION ['disk']\n",
      "TASK_CONFIG.TASK.TOP_DOWN_MAP.MAP_RESOLUTION 5000\n",
      "\n",
      "['--model-path', '/Users/mroberts/code/github/interiorsim/code/experiments/srcc/jupyter/models', '--sensors', 'RGB_SENSOR', '--hidden-size', '512', '--normalize-visual-inputs', '1', '--backbone', 'resnet50', '--num-recurrent-layers', '2', 'TEST_EPISODE_COUNT', '5', 'TASK_CONFIG.SIMULATOR.NOISE_MODEL.CONTROLLER', 'Proportional', 'TASK_CONFIG.SIMULATOR.NOISE_MODEL.NOISE_MULTIPLIER', '0.5', 'TASK_CONFIG.SIMULATOR.RGB_SENSOR.HFOV', '45', 'TASK_CONFIG.SIMULATOR.RGB_SENSOR.VFOV', '45', 'TASK_CONFIG.SIMULATOR.DEPTH_SENSOR.HFOV', '45', 'TASK_CONFIG.SIMULATOR.DEPTH_SENSOR.VFOV', '45', 'TASK_CONFIG.SIMULATOR.TURN_ANGLE', '30', 'TASK_CONFIG.SIMULATOR.AGENT_0.RADIUS', '0.20', 'TASK_CONFIG.DATASET.DATA_PATH', 'obstacle_1/{split}/{split}.json.gz', 'TASK_CONFIG.DATASET.SPLIT', 'minival', 'TASK_CONFIG.ENVIRONMENT.GENERATE_ON_FLY', 'False', 'TASK_CONFIG.SIMULATOR.RGB_SENSOR.POSITION', '[0,0.6096,0]', 'TASK_CONFIG.SIMULATOR.DEPTH_SENSOR.POSITION', '[0,0.6096,0]', 'VIDEO_OPTION', \"['disk']\", 'TASK_CONFIG.TASK.TOP_DOWN_MAP.MAP_RESOLUTION', '5000']\n"
     ]
    }
   ],
   "source": [
    "#\n",
    "# evalsim.sh\n",
    "#\n",
    "# SENSORS=\"RGB_SENSOR\"\n",
    "# NOISE_MULTIPLIER=\"0.5\"\n",
    "# NOISE_MODEL_CONTROLLER=\"Proportional\"\n",
    "# AGENT_RADIUS=\"0.20\"\n",
    "# SENSOR_POSITION=\"[0,0.6096,0]\"\n",
    "# BACKBONE=\"resnet50\"\n",
    "# HIDDEN_SIZE=512\n",
    "# NUM_RECURRENT_LAYERS=2\n",
    "# NORMALIZE_VISUAL_INPUTS=1\n",
    "\n",
    "# VIDEO_OPTION=\"['disk']\"\n",
    "\n",
    "# EPISODE_DATASET_PATH=\"obstacle_1/{split}/{split}.json.gz\"\n",
    "# EPISODE_DATASET_SPLIT=\"minival\"\n",
    "\n",
    "# python -u evaluation/evaluate_simulation.py \\\n",
    "#     --model-path ${MODEL_PATH} \\\n",
    "#     --sensors ${SENSORS} \\\n",
    "#     --hidden-size ${HIDDEN_SIZE} \\\n",
    "#     --normalize-visual-inputs ${NORMALIZE_VISUAL_INPUTS} \\\n",
    "#     --backbone ${BACKBONE} \\\n",
    "#     --num-recurrent-layers ${NUM_RECURRENT_LAYERS} \\\n",
    "#     \"TEST_EPISODE_COUNT\" \"5\" \\\n",
    "#     \"TASK_CONFIG.SIMULATOR.NOISE_MODEL.CONTROLLER\" ${NOISE_MODEL_CONTROLLER} \\\n",
    "#     \"TASK_CONFIG.SIMULATOR.NOISE_MODEL.NOISE_MULTIPLIER\" ${NOISE_MULTIPLIER} \\\n",
    "#     \"TASK_CONFIG.SIMULATOR.RGB_SENSOR.HFOV\" \"45\" \\\n",
    "#     \"TASK_CONFIG.SIMULATOR.RGB_SENSOR.VFOV\" \"45\" \\\n",
    "#     \"TASK_CONFIG.SIMULATOR.DEPTH_SENSOR.HFOV\" \"45\" \\\n",
    "#     \"TASK_CONFIG.SIMULATOR.DEPTH_SENSOR.VFOV\" \"45\" \\\n",
    "#     \"TASK_CONFIG.SIMULATOR.TURN_ANGLE\" \"30\" \\\n",
    "#     \"TASK_CONFIG.SIMULATOR.AGENT_0.RADIUS\" ${AGENT_RADIUS} \\\n",
    "#     \"TASK_CONFIG.DATASET.DATA_PATH\" ${EPISODE_DATASET_PATH} \\\n",
    "#     \"TASK_CONFIG.DATASET.SPLIT\" ${EPISODE_DATASET_SPLIT} \\\n",
    "#     \"TASK_CONFIG.ENVIRONMENT.GENERATE_ON_FLY\" \"False\" \\\n",
    "#     \"TASK_CONFIG.SIMULATOR.RGB_SENSOR.POSITION\" ${SENSOR_POSITION} \\\n",
    "#     \"TASK_CONFIG.SIMULATOR.DEPTH_SENSOR.POSITION\" ${SENSOR_POSITION} \\\n",
    "#     \"VIDEO_OPTION\" ${VIDEO_OPTION} \\\n",
    "#     \"TASK_CONFIG.TASK.TOP_DOWN_MAP.MAP_RESOLUTION\" \"5000\" \\\n",
    "\n",
    "# need to specify model_path, not included in evalsim.sh\n",
    "model_path = \"/Users/mroberts/code/github/interiorsim/code/experiments/srcc/jupyter/models\"\n",
    "\n",
    "arg_string = \"\"\n",
    "\n",
    "arg_string += \"--model-path %s\" % model_path\n",
    "arg_string += \\\n",
    "\"\"\"\n",
    "--sensors RGB_SENSOR\n",
    "--hidden-size 512\n",
    "--normalize-visual-inputs 1\n",
    "--backbone resnet50\n",
    "--num-recurrent-layers 2\n",
    "TEST_EPISODE_COUNT 5\n",
    "TASK_CONFIG.SIMULATOR.NOISE_MODEL.CONTROLLER Proportional\n",
    "TASK_CONFIG.SIMULATOR.NOISE_MODEL.NOISE_MULTIPLIER 0.5\n",
    "TASK_CONFIG.SIMULATOR.RGB_SENSOR.HFOV 45\n",
    "TASK_CONFIG.SIMULATOR.RGB_SENSOR.VFOV 45\n",
    "TASK_CONFIG.SIMULATOR.DEPTH_SENSOR.HFOV 45\n",
    "TASK_CONFIG.SIMULATOR.DEPTH_SENSOR.VFOV 45\n",
    "TASK_CONFIG.SIMULATOR.TURN_ANGLE 30\n",
    "TASK_CONFIG.SIMULATOR.AGENT_0.RADIUS 0.20\n",
    "TASK_CONFIG.DATASET.DATA_PATH obstacle_1/{split}/{split}.json.gz\n",
    "TASK_CONFIG.DATASET.SPLIT minival\n",
    "TASK_CONFIG.ENVIRONMENT.GENERATE_ON_FLY False\n",
    "TASK_CONFIG.SIMULATOR.RGB_SENSOR.POSITION [0,0.6096,0]\n",
    "TASK_CONFIG.SIMULATOR.DEPTH_SENSOR.POSITION [0,0.6096,0]\n",
    "VIDEO_OPTION ['disk']\n",
    "TASK_CONFIG.TASK.TOP_DOWN_MAP.MAP_RESOLUTION 5000\n",
    "\"\"\"\n",
    "\n",
    "print(arg_string)\n",
    "print(arg_string.split())"
   ]
  },
  {
   "cell_type": "code",
   "execution_count": 5,
   "id": "7ac2814a-f4b2-4e27-b16c-537a5fded0c8",
   "metadata": {},
   "outputs": [
    {
     "data": {
      "text/plain": [
       "Namespace(backbone='resnet50', hidden_size=512, model_path='/Users/mroberts/code/github/interiorsim/code/experiments/srcc/jupyter/models', normalize_visual_inputs=1, num_recurrent_layers=2, opts=['TEST_EPISODE_COUNT', '5', 'TASK_CONFIG.SIMULATOR.NOISE_MODEL.CONTROLLER', 'Proportional', 'TASK_CONFIG.SIMULATOR.NOISE_MODEL.NOISE_MULTIPLIER', '0.5', 'TASK_CONFIG.SIMULATOR.RGB_SENSOR.HFOV', '45', 'TASK_CONFIG.SIMULATOR.RGB_SENSOR.VFOV', '45', 'TASK_CONFIG.SIMULATOR.DEPTH_SENSOR.HFOV', '45', 'TASK_CONFIG.SIMULATOR.DEPTH_SENSOR.VFOV', '45', 'TASK_CONFIG.SIMULATOR.TURN_ANGLE', '30', 'TASK_CONFIG.SIMULATOR.AGENT_0.RADIUS', '0.20', 'TASK_CONFIG.DATASET.DATA_PATH', 'obstacle_1/{split}/{split}.json.gz', 'TASK_CONFIG.DATASET.SPLIT', 'minival', 'TASK_CONFIG.ENVIRONMENT.GENERATE_ON_FLY', 'False', 'TASK_CONFIG.SIMULATOR.RGB_SENSOR.POSITION', '[0,0.6096,0]', 'TASK_CONFIG.SIMULATOR.DEPTH_SENSOR.POSITION', '[0,0.6096,0]', 'VIDEO_OPTION', \"['disk']\", 'TASK_CONFIG.TASK.TOP_DOWN_MAP.MAP_RESOLUTION', '5000'], sensors='RGB_SENSOR')"
      ]
     },
     "execution_count": 5,
     "metadata": {},
     "output_type": "execute_result"
    }
   ],
   "source": [
    "parser = argparse.ArgumentParser()\n",
    "parser.add_argument(\"--model-path\", type=str, required=True)\n",
    "parser.add_argument(\"--sensors\", type=str, required=True)\n",
    "parser.add_argument(\"--hidden-size\", type=int, required=True)\n",
    "parser.add_argument(\n",
    "    \"--normalize-visual-inputs\", type=int, required=True, choices=[0, 1]\n",
    ")\n",
    "parser.add_argument(\n",
    "    \"--backbone\",\n",
    "    type=str,\n",
    "    required=True,\n",
    "    choices=[\"resnet50\", \"se_resneXt50\"],\n",
    ")\n",
    "parser.add_argument(\"--num-recurrent-layers\", type=int, required=True)\n",
    "parser.add_argument(\n",
    "    \"opts\",\n",
    "    default=None,\n",
    "    nargs=argparse.REMAINDER,\n",
    "    help=\"Modify config options from command line\",\n",
    ")\n",
    "args = parser.parse_args(arg_string.split())\n",
    "\n",
    "args"
   ]
  },
  {
   "cell_type": "code",
   "execution_count": 13,
   "id": "c17d17b8-223c-4aa2-9430-d195d8e94ef5",
   "metadata": {},
   "outputs": [],
   "source": [
    "# # Check torch version\n",
    "# vtorch = \"1.2.0\"\n",
    "# assert torch.__version__ == vtorch, \"Please use torch {}\".format(vtorch)\n",
    "\n",
    "# config = get_config(\n",
    "#     \"habitat_baselines/config/pointnav/ppo_pointnav.yaml\", args.opts\n",
    "# )\n",
    "    \n",
    "habitat_dir = \"/Users/mroberts/code/github/habitat-lab\"\n",
    "os.chdir(habitat_dir)\n",
    "\n",
    "config = get_config(\n",
    "    \"habitat_baselines/config/pointnav/ppo_pointnav.yaml\"\n",
    ")\n",
    "\n",
    "from habitat.config import Config as CN\n",
    "\n",
    "config.defrost()\n",
    "config.TASK_CONFIG.SIMULATOR.NOISE_MODEL = CN()\n",
    "config.TASK_CONFIG.SIMULATOR.NOISE_MODEL.CONTROLLER = None\n",
    "config.TASK_CONFIG.SIMULATOR.NOISE_MODEL.NOISE_MULTIPLIER = None\n",
    "config.TASK_CONFIG.SIMULATOR.RGB_SENSOR.HFOV = None\n",
    "config.TASK_CONFIG.SIMULATOR.RGB_SENSOR.VFOV = None\n",
    "config.TASK_CONFIG.SIMULATOR.DEPTH_SENSOR.HFOV = None\n",
    "config.TASK_CONFIG.SIMULATOR.DEPTH_SENSOR.VFOV = None\n",
    "config.TASK_CONFIG.ENVIRONMENT.GENERATE_ON_FLY = None\n",
    "config.freeze()\n",
    "\n",
    "config.merge_from_list(args.opts)"
   ]
  },
  {
   "cell_type": "code",
   "execution_count": 14,
   "id": "a126a42d-cf3e-4804-9687-66bf6b5cde92",
   "metadata": {},
   "outputs": [],
   "source": [
    "# recommended by Joanne\n",
    "config.defrost()\n",
    "config.TASK_CONFIG.SIMULATOR.ACTION_SPACE_CONFIG = \"pyrobotnoisy\"\n",
    "config.freeze()\n",
    "\n",
    "# recommended by Joanne\n",
    "config.defrost()\n",
    "config.TASK_CONFIG.SIMULATOR.NOISE_MODEL.ROBOT = \"LoCoBot\"\n",
    "config.TASK_CONFIG.SIMULATOR.NOISE_MODEL.CONTROLLER = \"ILQR\"\n",
    "config.TASK_CONFIG.SIMULATOR.NOISE_MODEL.NOISE_MULTIPLIER = 1.0\n",
    "config.freeze()"
   ]
  },
  {
   "cell_type": "code",
   "execution_count": 15,
   "id": "bae9e186-194a-46a5-8218-4336c1de1c6e",
   "metadata": {},
   "outputs": [],
   "source": [
    "config.defrost()\n",
    "if args.sensors == \"\":\n",
    "    config.SENSORS = []\n",
    "else:\n",
    "    config.SENSORS = args.sensors.split(\",\")\n",
    "# TODO(akadian): collisions are not working\n",
    "# config.TASK_CONFIG.TASK.MEASUREMENTS.append(\"COLLISIONS\")\n",
    "config.freeze()"
   ]
  },
  {
   "cell_type": "code",
   "execution_count": 21,
   "id": "0b41f520-c6a0-44d7-8e1e-fe415bdad907",
   "metadata": {},
   "outputs": [],
   "source": [
    "# print(config)"
   ]
  },
  {
   "cell_type": "code",
   "execution_count": 22,
   "id": "c2212c9f-39ca-40fe-bf29-13ab683db1f0",
   "metadata": {},
   "outputs": [],
   "source": [
    "config.defrost()\n",
    "config.TASK_CONFIG.DATASET.CONTENT_SCENES = [\"*\"]\n",
    "config.TASK_CONFIG.DATASET.DATA_PATH = \"data/datasets/pointnav/gibson/v3/train/train.json.gz\"\n",
    "config.freeze()\n",
    "\n",
    "config.defrost()\n",
    "config.NUM_ENVIRONMENTS = 1\n",
    "config.freeze()"
   ]
  },
  {
   "cell_type": "code",
   "execution_count": 23,
   "id": "2ef3a949-a4c3-49ba-b2a6-f6612e4faf06",
   "metadata": {},
   "outputs": [],
   "source": [
    "# print(config)"
   ]
  },
  {
   "cell_type": "code",
   "execution_count": 25,
   "id": "460aa4d4-1d90-423b-88d6-17808b0e9e53",
   "metadata": {},
   "outputs": [
    {
     "name": "stderr",
     "output_type": "stream",
     "text": [
      "2021-11-02 16:24:35,265 Initializing dataset PointNav-v1\n",
      "Exception ignored in: <function VectorEnv.__del__ at 0x7f9c60aed950>\n",
      "Traceback (most recent call last):\n",
      "  File \"/Users/mroberts/code/github/habitat-lab/habitat/core/vector_env.py\", line 592, in __del__\n",
      "    self.close()\n",
      "  File \"/Users/mroberts/code/github/habitat-lab/habitat/core/vector_env.py\", line 460, in close\n",
      "    read_fn()\n",
      "  File \"/Users/mroberts/code/github/habitat-lab/habitat/core/vector_env.py\", line 97, in __call__\n",
      "    res = self.read_fn()\n",
      "  File \"/Users/mroberts/code/github/habitat-lab/habitat/utils/pickle5_multiprocessing.py\", line 68, in recv\n",
      "    buf = self.recv_bytes()\n",
      "  File \"/Users/mroberts/opt/anaconda3/envs/srcc-env/lib/python3.7/multiprocessing/connection.py\", line 216, in recv_bytes\n",
      "    buf = self._recv_bytes(maxlength)\n",
      "  File \"/Users/mroberts/opt/anaconda3/envs/srcc-env/lib/python3.7/multiprocessing/connection.py\", line 407, in _recv_bytes\n",
      "    buf = self._recv(4)\n",
      "  File \"/Users/mroberts/opt/anaconda3/envs/srcc-env/lib/python3.7/multiprocessing/connection.py\", line 383, in _recv\n",
      "    raise EOFError\n",
      "EOFError: \n",
      "2021-11-02 16:24:36,998 initializing sim Sim-v0\n"
     ]
    },
    {
     "ename": "NameError",
     "evalue": "vfov is not found on habitat_sim but is found on habitat_lab config.\n                    It's also not in the list of keys to ignore: {'type', 'width', 'height'}\n                    Did you make a typo in the config?\n                    If not the version of Habitat Sim may not be compatible with Habitat Lab version: HEIGHT: 256\nHFOV: 45\nORIENTATION: [0.0, 0.0, 0.0]\nPOSITION: [0, 0.6096, 0]\nSENSOR_SUBTYPE: PINHOLE\nTYPE: HabitatSimRGBSensor\nVFOV: 45\nWIDTH: 256\n                    ",
     "output_type": "error",
     "traceback": [
      "\u001b[0;31m---------------------------------------------------------------------------\u001b[0m",
      "\u001b[0;31mNameError\u001b[0m                                 Traceback (most recent call last)",
      "\u001b[0;32m/var/folders/3n/1mkr33q53s53441zsn3079w00000gr/T/ipykernel_90391/1966643707.py\u001b[0m in \u001b[0;36m<module>\u001b[0;34m\u001b[0m\n\u001b[1;32m      1\u001b[0m \u001b[0;32mimport\u001b[0m \u001b[0mhabitat\u001b[0m\u001b[0;34m\u001b[0m\u001b[0;34m\u001b[0m\u001b[0m\n\u001b[0;32m----> 2\u001b[0;31m \u001b[0menv\u001b[0m \u001b[0;34m=\u001b[0m \u001b[0mhabitat\u001b[0m\u001b[0;34m.\u001b[0m\u001b[0mEnv\u001b[0m\u001b[0;34m(\u001b[0m\u001b[0mconfig\u001b[0m\u001b[0;34m.\u001b[0m\u001b[0mTASK_CONFIG\u001b[0m\u001b[0;34m)\u001b[0m\u001b[0;34m\u001b[0m\u001b[0;34m\u001b[0m\u001b[0m\n\u001b[0m",
      "\u001b[0;32m~/code/github/habitat-lab/habitat/core/env.py\u001b[0m in \u001b[0;36m__init__\u001b[0;34m(self, config, dataset)\u001b[0m\n\u001b[1;32m    100\u001b[0m \u001b[0;34m\u001b[0m\u001b[0m\n\u001b[1;32m    101\u001b[0m         self._sim = make_sim(\n\u001b[0;32m--> 102\u001b[0;31m             \u001b[0mid_sim\u001b[0m\u001b[0;34m=\u001b[0m\u001b[0mself\u001b[0m\u001b[0;34m.\u001b[0m\u001b[0m_config\u001b[0m\u001b[0;34m.\u001b[0m\u001b[0mSIMULATOR\u001b[0m\u001b[0;34m.\u001b[0m\u001b[0mTYPE\u001b[0m\u001b[0;34m,\u001b[0m \u001b[0mconfig\u001b[0m\u001b[0;34m=\u001b[0m\u001b[0mself\u001b[0m\u001b[0;34m.\u001b[0m\u001b[0m_config\u001b[0m\u001b[0;34m.\u001b[0m\u001b[0mSIMULATOR\u001b[0m\u001b[0;34m\u001b[0m\u001b[0;34m\u001b[0m\u001b[0m\n\u001b[0m\u001b[1;32m    103\u001b[0m         )\n\u001b[1;32m    104\u001b[0m         self._task = make_task(\n",
      "\u001b[0;32m~/code/github/habitat-lab/habitat/sims/registration.py\u001b[0m in \u001b[0;36mmake_sim\u001b[0;34m(id_sim, **kwargs)\u001b[0m\n\u001b[1;32m     17\u001b[0m         \u001b[0mid_sim\u001b[0m\u001b[0;34m\u001b[0m\u001b[0;34m\u001b[0m\u001b[0m\n\u001b[1;32m     18\u001b[0m     )\n\u001b[0;32m---> 19\u001b[0;31m     \u001b[0;32mreturn\u001b[0m \u001b[0m_sim\u001b[0m\u001b[0;34m(\u001b[0m\u001b[0;34m**\u001b[0m\u001b[0mkwargs\u001b[0m\u001b[0;34m)\u001b[0m\u001b[0;34m\u001b[0m\u001b[0;34m\u001b[0m\u001b[0m\n\u001b[0m\u001b[1;32m     20\u001b[0m \u001b[0;34m\u001b[0m\u001b[0m\n\u001b[1;32m     21\u001b[0m \u001b[0;34m\u001b[0m\u001b[0m\n",
      "\u001b[0;32m~/code/github/habitat-lab/habitat/sims/habitat_simulator/habitat_simulator.py\u001b[0m in \u001b[0;36m__init__\u001b[0;34m(self, config)\u001b[0m\n\u001b[1;32m    268\u001b[0m \u001b[0;34m\u001b[0m\u001b[0m\n\u001b[1;32m    269\u001b[0m         \u001b[0mself\u001b[0m\u001b[0;34m.\u001b[0m\u001b[0m_sensor_suite\u001b[0m \u001b[0;34m=\u001b[0m \u001b[0mSensorSuite\u001b[0m\u001b[0;34m(\u001b[0m\u001b[0msim_sensors\u001b[0m\u001b[0;34m)\u001b[0m\u001b[0;34m\u001b[0m\u001b[0;34m\u001b[0m\u001b[0m\n\u001b[0;32m--> 270\u001b[0;31m         \u001b[0mself\u001b[0m\u001b[0;34m.\u001b[0m\u001b[0msim_config\u001b[0m \u001b[0;34m=\u001b[0m \u001b[0mself\u001b[0m\u001b[0;34m.\u001b[0m\u001b[0mcreate_sim_config\u001b[0m\u001b[0;34m(\u001b[0m\u001b[0mself\u001b[0m\u001b[0;34m.\u001b[0m\u001b[0m_sensor_suite\u001b[0m\u001b[0;34m)\u001b[0m\u001b[0;34m\u001b[0m\u001b[0;34m\u001b[0m\u001b[0m\n\u001b[0m\u001b[1;32m    271\u001b[0m         \u001b[0mself\u001b[0m\u001b[0;34m.\u001b[0m\u001b[0m_current_scene\u001b[0m \u001b[0;34m=\u001b[0m \u001b[0mself\u001b[0m\u001b[0;34m.\u001b[0m\u001b[0msim_config\u001b[0m\u001b[0;34m.\u001b[0m\u001b[0msim_cfg\u001b[0m\u001b[0;34m.\u001b[0m\u001b[0mscene_id\u001b[0m\u001b[0;34m\u001b[0m\u001b[0;34m\u001b[0m\u001b[0m\n\u001b[1;32m    272\u001b[0m         \u001b[0msuper\u001b[0m\u001b[0;34m(\u001b[0m\u001b[0;34m)\u001b[0m\u001b[0;34m.\u001b[0m\u001b[0m__init__\u001b[0m\u001b[0;34m(\u001b[0m\u001b[0mself\u001b[0m\u001b[0;34m.\u001b[0m\u001b[0msim_config\u001b[0m\u001b[0;34m)\u001b[0m\u001b[0;34m\u001b[0m\u001b[0;34m\u001b[0m\u001b[0m\n",
      "\u001b[0;32m~/code/github/habitat-lab/habitat/sims/habitat_simulator/habitat_simulator.py\u001b[0m in \u001b[0;36mcreate_sim_config\u001b[0;34m(self, _sensor_suite)\u001b[0m\n\u001b[1;32m    321\u001b[0m                         \u001b[0mhabitat_sim\u001b[0m\u001b[0;34m.\u001b[0m\u001b[0mFisheyeSensorModelType\u001b[0m\u001b[0;34m,\u001b[0m \u001b[0mv\u001b[0m\u001b[0;34m\u001b[0m\u001b[0;34m\u001b[0m\u001b[0m\n\u001b[1;32m    322\u001b[0m                     ),\n\u001b[0;32m--> 323\u001b[0;31m                     \"sensor_subtype\": lambda v: getattr(\n\u001b[0m\u001b[1;32m    324\u001b[0m                         \u001b[0mhabitat_sim\u001b[0m\u001b[0;34m.\u001b[0m\u001b[0mSensorSubType\u001b[0m\u001b[0;34m,\u001b[0m \u001b[0mv\u001b[0m\u001b[0;34m\u001b[0m\u001b[0;34m\u001b[0m\u001b[0m\n\u001b[1;32m    325\u001b[0m                     ),\n",
      "\u001b[0;32m~/code/github/habitat-lab/habitat/sims/habitat_simulator/habitat_simulator.py\u001b[0m in \u001b[0;36moverwrite_config\u001b[0;34m(config_from, config_to, ignore_keys, trans_dict)\u001b[0m\n\u001b[1;32m     82\u001b[0m                     \u001b[0mDid\u001b[0m \u001b[0myou\u001b[0m \u001b[0mmake\u001b[0m \u001b[0ma\u001b[0m \u001b[0mtypo\u001b[0m \u001b[0;32min\u001b[0m \u001b[0mthe\u001b[0m \u001b[0mconfig\u001b[0m\u001b[0;31m?\u001b[0m\u001b[0;34m\u001b[0m\u001b[0;34m\u001b[0m\u001b[0m\n\u001b[1;32m     83\u001b[0m                     \u001b[0mIf\u001b[0m \u001b[0;32mnot\u001b[0m \u001b[0mthe\u001b[0m \u001b[0mversion\u001b[0m \u001b[0mof\u001b[0m \u001b[0mHabitat\u001b[0m \u001b[0mSim\u001b[0m \u001b[0mmay\u001b[0m \u001b[0;32mnot\u001b[0m \u001b[0mbe\u001b[0m \u001b[0mcompatible\u001b[0m \u001b[0;32mwith\u001b[0m \u001b[0mHabitat\u001b[0m \u001b[0mLab\u001b[0m \u001b[0mversion\u001b[0m\u001b[0;34m:\u001b[0m \u001b[0;34m{\u001b[0m\u001b[0mconfig_from\u001b[0m\u001b[0;34m}\u001b[0m\u001b[0;34m\u001b[0m\u001b[0;34m\u001b[0m\u001b[0m\n\u001b[0;32m---> 84\u001b[0;31m                     \"\"\"\n\u001b[0m\u001b[1;32m     85\u001b[0m                 )\n\u001b[1;32m     86\u001b[0m \u001b[0;34m\u001b[0m\u001b[0m\n",
      "\u001b[0;31mNameError\u001b[0m: vfov is not found on habitat_sim but is found on habitat_lab config.\n                    It's also not in the list of keys to ignore: {'type', 'width', 'height'}\n                    Did you make a typo in the config?\n                    If not the version of Habitat Sim may not be compatible with Habitat Lab version: HEIGHT: 256\nHFOV: 45\nORIENTATION: [0.0, 0.0, 0.0]\nPOSITION: [0, 0.6096, 0]\nSENSOR_SUBTYPE: PINHOLE\nTYPE: HabitatSimRGBSensor\nVFOV: 45\nWIDTH: 256\n                    "
     ]
    }
   ],
   "source": [
    "import habitat\n",
    "env = habitat.Env(config.TASK_CONFIG)"
   ]
  },
  {
   "cell_type": "code",
   "execution_count": 24,
   "id": "58a534a3-b637-4bde-9cfc-61edaf6f5d4f",
   "metadata": {},
   "outputs": [
    {
     "name": "stderr",
     "output_type": "stream",
     "text": [
      "2021-11-02 16:24:22,802 Initializing dataset PointNav-v1\n",
      "2021-11-02 16:24:24,502 Initializing dataset PointNav-v1\n",
      "2021-11-02 16:24:26,112 initializing sim Sim-v0\n"
     ]
    },
    {
     "ename": "EOFError",
     "evalue": "",
     "output_type": "error",
     "traceback": [
      "\u001b[0;31m---------------------------------------------------------------------------\u001b[0m",
      "\u001b[0;31mEOFError\u001b[0m                                  Traceback (most recent call last)",
      "\u001b[0;32m/var/folders/3n/1mkr33q53s53441zsn3079w00000gr/T/ipykernel_90391/2945289558.py\u001b[0m in \u001b[0;36m<module>\u001b[0;34m\u001b[0m\n\u001b[0;32m----> 1\u001b[0;31m \u001b[0menvs\u001b[0m \u001b[0;34m=\u001b[0m \u001b[0mconstruct_envs\u001b[0m\u001b[0;34m(\u001b[0m\u001b[0mconfig\u001b[0m\u001b[0;34m,\u001b[0m \u001b[0mget_env_class\u001b[0m\u001b[0;34m(\u001b[0m\u001b[0mconfig\u001b[0m\u001b[0;34m.\u001b[0m\u001b[0mENV_NAME\u001b[0m\u001b[0;34m)\u001b[0m\u001b[0;34m)\u001b[0m\u001b[0;34m\u001b[0m\u001b[0;34m\u001b[0m\u001b[0m\n\u001b[0m\u001b[1;32m      2\u001b[0m \u001b[0;34m\u001b[0m\u001b[0m\n\u001b[1;32m      3\u001b[0m \u001b[0;32mimport\u001b[0m \u001b[0mhabitat\u001b[0m\u001b[0;34m\u001b[0m\u001b[0;34m\u001b[0m\u001b[0m\n\u001b[1;32m      4\u001b[0m \u001b[0menv\u001b[0m \u001b[0;34m=\u001b[0m \u001b[0mhabitat\u001b[0m\u001b[0;34m.\u001b[0m\u001b[0mEnv\u001b[0m\u001b[0;34m(\u001b[0m\u001b[0mconfig\u001b[0m\u001b[0;34m.\u001b[0m\u001b[0mTASK_CONFIG\u001b[0m\u001b[0;34m)\u001b[0m\u001b[0;34m\u001b[0m\u001b[0;34m\u001b[0m\u001b[0m\n",
      "\u001b[0;32m~/code/github/habitat-lab/habitat_baselines/utils/env_utils.py\u001b[0m in \u001b[0;36mconstruct_envs\u001b[0;34m(config, env_class, workers_ignore_signals)\u001b[0m\n\u001b[1;32m    103\u001b[0m         \u001b[0mmake_env_fn\u001b[0m\u001b[0;34m=\u001b[0m\u001b[0mmake_env_fn\u001b[0m\u001b[0;34m,\u001b[0m\u001b[0;34m\u001b[0m\u001b[0;34m\u001b[0m\u001b[0m\n\u001b[1;32m    104\u001b[0m         \u001b[0menv_fn_args\u001b[0m\u001b[0;34m=\u001b[0m\u001b[0mtuple\u001b[0m\u001b[0;34m(\u001b[0m\u001b[0mzip\u001b[0m\u001b[0;34m(\u001b[0m\u001b[0mconfigs\u001b[0m\u001b[0;34m,\u001b[0m \u001b[0menv_classes\u001b[0m\u001b[0;34m)\u001b[0m\u001b[0;34m)\u001b[0m\u001b[0;34m,\u001b[0m\u001b[0;34m\u001b[0m\u001b[0;34m\u001b[0m\u001b[0m\n\u001b[0;32m--> 105\u001b[0;31m         \u001b[0mworkers_ignore_signals\u001b[0m\u001b[0;34m=\u001b[0m\u001b[0mworkers_ignore_signals\u001b[0m\u001b[0;34m,\u001b[0m\u001b[0;34m\u001b[0m\u001b[0;34m\u001b[0m\u001b[0m\n\u001b[0m\u001b[1;32m    106\u001b[0m     )\n\u001b[1;32m    107\u001b[0m     \u001b[0;32mreturn\u001b[0m \u001b[0menvs\u001b[0m\u001b[0;34m\u001b[0m\u001b[0;34m\u001b[0m\u001b[0m\n",
      "\u001b[0;32m~/code/github/habitat-lab/habitat/core/vector_env.py\u001b[0m in \u001b[0;36m__init__\u001b[0;34m(self, make_env_fn, env_fn_args, auto_reset_done, multiprocessing_start_method, workers_ignore_signals)\u001b[0m\n\u001b[1;32m    192\u001b[0m             \u001b[0mwrite_fn\u001b[0m\u001b[0;34m(\u001b[0m\u001b[0;34m(\u001b[0m\u001b[0mCALL_COMMAND\u001b[0m\u001b[0;34m,\u001b[0m \u001b[0;34m(\u001b[0m\u001b[0mOBSERVATION_SPACE_NAME\u001b[0m\u001b[0;34m,\u001b[0m \u001b[0;32mNone\u001b[0m\u001b[0;34m)\u001b[0m\u001b[0;34m)\u001b[0m\u001b[0;34m)\u001b[0m\u001b[0;34m\u001b[0m\u001b[0;34m\u001b[0m\u001b[0m\n\u001b[1;32m    193\u001b[0m         self.observation_spaces = [\n\u001b[0;32m--> 194\u001b[0;31m             \u001b[0mread_fn\u001b[0m\u001b[0;34m(\u001b[0m\u001b[0;34m)\u001b[0m \u001b[0;32mfor\u001b[0m \u001b[0mread_fn\u001b[0m \u001b[0;32min\u001b[0m \u001b[0mself\u001b[0m\u001b[0;34m.\u001b[0m\u001b[0m_connection_read_fns\u001b[0m\u001b[0;34m\u001b[0m\u001b[0;34m\u001b[0m\u001b[0m\n\u001b[0m\u001b[1;32m    195\u001b[0m         ]\n\u001b[1;32m    196\u001b[0m         \u001b[0;32mfor\u001b[0m \u001b[0mwrite_fn\u001b[0m \u001b[0;32min\u001b[0m \u001b[0mself\u001b[0m\u001b[0;34m.\u001b[0m\u001b[0m_connection_write_fns\u001b[0m\u001b[0;34m:\u001b[0m\u001b[0;34m\u001b[0m\u001b[0;34m\u001b[0m\u001b[0m\n",
      "\u001b[0;32m~/code/github/habitat-lab/habitat/core/vector_env.py\u001b[0m in \u001b[0;36m<listcomp>\u001b[0;34m(.0)\u001b[0m\n\u001b[1;32m    192\u001b[0m             \u001b[0mwrite_fn\u001b[0m\u001b[0;34m(\u001b[0m\u001b[0;34m(\u001b[0m\u001b[0mCALL_COMMAND\u001b[0m\u001b[0;34m,\u001b[0m \u001b[0;34m(\u001b[0m\u001b[0mOBSERVATION_SPACE_NAME\u001b[0m\u001b[0;34m,\u001b[0m \u001b[0;32mNone\u001b[0m\u001b[0;34m)\u001b[0m\u001b[0;34m)\u001b[0m\u001b[0;34m)\u001b[0m\u001b[0;34m\u001b[0m\u001b[0;34m\u001b[0m\u001b[0m\n\u001b[1;32m    193\u001b[0m         self.observation_spaces = [\n\u001b[0;32m--> 194\u001b[0;31m             \u001b[0mread_fn\u001b[0m\u001b[0;34m(\u001b[0m\u001b[0;34m)\u001b[0m \u001b[0;32mfor\u001b[0m \u001b[0mread_fn\u001b[0m \u001b[0;32min\u001b[0m \u001b[0mself\u001b[0m\u001b[0;34m.\u001b[0m\u001b[0m_connection_read_fns\u001b[0m\u001b[0;34m\u001b[0m\u001b[0;34m\u001b[0m\u001b[0m\n\u001b[0m\u001b[1;32m    195\u001b[0m         ]\n\u001b[1;32m    196\u001b[0m         \u001b[0;32mfor\u001b[0m \u001b[0mwrite_fn\u001b[0m \u001b[0;32min\u001b[0m \u001b[0mself\u001b[0m\u001b[0;34m.\u001b[0m\u001b[0m_connection_write_fns\u001b[0m\u001b[0;34m:\u001b[0m\u001b[0;34m\u001b[0m\u001b[0;34m\u001b[0m\u001b[0m\n",
      "\u001b[0;32m~/code/github/habitat-lab/habitat/core/vector_env.py\u001b[0m in \u001b[0;36m__call__\u001b[0;34m(self)\u001b[0m\n\u001b[1;32m     95\u001b[0m                 \u001b[0;34m\" but there is nothing waiting to be read\"\u001b[0m\u001b[0;34m\u001b[0m\u001b[0;34m\u001b[0m\u001b[0m\n\u001b[1;32m     96\u001b[0m             )\n\u001b[0;32m---> 97\u001b[0;31m         \u001b[0mres\u001b[0m \u001b[0;34m=\u001b[0m \u001b[0mself\u001b[0m\u001b[0;34m.\u001b[0m\u001b[0mread_fn\u001b[0m\u001b[0;34m(\u001b[0m\u001b[0;34m)\u001b[0m\u001b[0;34m\u001b[0m\u001b[0;34m\u001b[0m\u001b[0m\n\u001b[0m\u001b[1;32m     98\u001b[0m         \u001b[0mself\u001b[0m\u001b[0;34m.\u001b[0m\u001b[0mis_waiting\u001b[0m \u001b[0;34m=\u001b[0m \u001b[0;32mFalse\u001b[0m\u001b[0;34m\u001b[0m\u001b[0;34m\u001b[0m\u001b[0m\n\u001b[1;32m     99\u001b[0m \u001b[0;34m\u001b[0m\u001b[0m\n",
      "\u001b[0;32m~/code/github/habitat-lab/habitat/utils/pickle5_multiprocessing.py\u001b[0m in \u001b[0;36mrecv\u001b[0;34m(self)\u001b[0m\n\u001b[1;32m     66\u001b[0m         \u001b[0mself\u001b[0m\u001b[0;34m.\u001b[0m\u001b[0m_check_closed\u001b[0m\u001b[0;34m(\u001b[0m\u001b[0;34m)\u001b[0m\u001b[0;34m\u001b[0m\u001b[0;34m\u001b[0m\u001b[0m\n\u001b[1;32m     67\u001b[0m         \u001b[0mself\u001b[0m\u001b[0;34m.\u001b[0m\u001b[0m_check_readable\u001b[0m\u001b[0;34m(\u001b[0m\u001b[0;34m)\u001b[0m\u001b[0;34m\u001b[0m\u001b[0;34m\u001b[0m\u001b[0m\n\u001b[0;32m---> 68\u001b[0;31m         \u001b[0mbuf\u001b[0m \u001b[0;34m=\u001b[0m \u001b[0mself\u001b[0m\u001b[0;34m.\u001b[0m\u001b[0mrecv_bytes\u001b[0m\u001b[0;34m(\u001b[0m\u001b[0;34m)\u001b[0m\u001b[0;34m\u001b[0m\u001b[0;34m\u001b[0m\u001b[0m\n\u001b[0m\u001b[1;32m     69\u001b[0m         \u001b[0;32mreturn\u001b[0m \u001b[0mpickle\u001b[0m\u001b[0;34m.\u001b[0m\u001b[0mloads\u001b[0m\u001b[0;34m(\u001b[0m\u001b[0mbuf\u001b[0m\u001b[0;34m)\u001b[0m\u001b[0;34m\u001b[0m\u001b[0;34m\u001b[0m\u001b[0m\n\u001b[1;32m     70\u001b[0m \u001b[0;34m\u001b[0m\u001b[0m\n",
      "\u001b[0;32m~/opt/anaconda3/envs/srcc-env/lib/python3.7/multiprocessing/connection.py\u001b[0m in \u001b[0;36mrecv_bytes\u001b[0;34m(self, maxlength)\u001b[0m\n\u001b[1;32m    214\u001b[0m         \u001b[0;32mif\u001b[0m \u001b[0mmaxlength\u001b[0m \u001b[0;32mis\u001b[0m \u001b[0;32mnot\u001b[0m \u001b[0;32mNone\u001b[0m \u001b[0;32mand\u001b[0m \u001b[0mmaxlength\u001b[0m \u001b[0;34m<\u001b[0m \u001b[0;36m0\u001b[0m\u001b[0;34m:\u001b[0m\u001b[0;34m\u001b[0m\u001b[0;34m\u001b[0m\u001b[0m\n\u001b[1;32m    215\u001b[0m             \u001b[0;32mraise\u001b[0m \u001b[0mValueError\u001b[0m\u001b[0;34m(\u001b[0m\u001b[0;34m\"negative maxlength\"\u001b[0m\u001b[0;34m)\u001b[0m\u001b[0;34m\u001b[0m\u001b[0;34m\u001b[0m\u001b[0m\n\u001b[0;32m--> 216\u001b[0;31m         \u001b[0mbuf\u001b[0m \u001b[0;34m=\u001b[0m \u001b[0mself\u001b[0m\u001b[0;34m.\u001b[0m\u001b[0m_recv_bytes\u001b[0m\u001b[0;34m(\u001b[0m\u001b[0mmaxlength\u001b[0m\u001b[0;34m)\u001b[0m\u001b[0;34m\u001b[0m\u001b[0;34m\u001b[0m\u001b[0m\n\u001b[0m\u001b[1;32m    217\u001b[0m         \u001b[0;32mif\u001b[0m \u001b[0mbuf\u001b[0m \u001b[0;32mis\u001b[0m \u001b[0;32mNone\u001b[0m\u001b[0;34m:\u001b[0m\u001b[0;34m\u001b[0m\u001b[0;34m\u001b[0m\u001b[0m\n\u001b[1;32m    218\u001b[0m             \u001b[0mself\u001b[0m\u001b[0;34m.\u001b[0m\u001b[0m_bad_message_length\u001b[0m\u001b[0;34m(\u001b[0m\u001b[0;34m)\u001b[0m\u001b[0;34m\u001b[0m\u001b[0;34m\u001b[0m\u001b[0m\n",
      "\u001b[0;32m~/opt/anaconda3/envs/srcc-env/lib/python3.7/multiprocessing/connection.py\u001b[0m in \u001b[0;36m_recv_bytes\u001b[0;34m(self, maxsize)\u001b[0m\n\u001b[1;32m    405\u001b[0m \u001b[0;34m\u001b[0m\u001b[0m\n\u001b[1;32m    406\u001b[0m     \u001b[0;32mdef\u001b[0m \u001b[0m_recv_bytes\u001b[0m\u001b[0;34m(\u001b[0m\u001b[0mself\u001b[0m\u001b[0;34m,\u001b[0m \u001b[0mmaxsize\u001b[0m\u001b[0;34m=\u001b[0m\u001b[0;32mNone\u001b[0m\u001b[0;34m)\u001b[0m\u001b[0;34m:\u001b[0m\u001b[0;34m\u001b[0m\u001b[0;34m\u001b[0m\u001b[0m\n\u001b[0;32m--> 407\u001b[0;31m         \u001b[0mbuf\u001b[0m \u001b[0;34m=\u001b[0m \u001b[0mself\u001b[0m\u001b[0;34m.\u001b[0m\u001b[0m_recv\u001b[0m\u001b[0;34m(\u001b[0m\u001b[0;36m4\u001b[0m\u001b[0;34m)\u001b[0m\u001b[0;34m\u001b[0m\u001b[0;34m\u001b[0m\u001b[0m\n\u001b[0m\u001b[1;32m    408\u001b[0m         \u001b[0msize\u001b[0m\u001b[0;34m,\u001b[0m \u001b[0;34m=\u001b[0m \u001b[0mstruct\u001b[0m\u001b[0;34m.\u001b[0m\u001b[0munpack\u001b[0m\u001b[0;34m(\u001b[0m\u001b[0;34m\"!i\"\u001b[0m\u001b[0;34m,\u001b[0m \u001b[0mbuf\u001b[0m\u001b[0;34m.\u001b[0m\u001b[0mgetvalue\u001b[0m\u001b[0;34m(\u001b[0m\u001b[0;34m)\u001b[0m\u001b[0;34m)\u001b[0m\u001b[0;34m\u001b[0m\u001b[0;34m\u001b[0m\u001b[0m\n\u001b[1;32m    409\u001b[0m         \u001b[0;32mif\u001b[0m \u001b[0mmaxsize\u001b[0m \u001b[0;32mis\u001b[0m \u001b[0;32mnot\u001b[0m \u001b[0;32mNone\u001b[0m \u001b[0;32mand\u001b[0m \u001b[0msize\u001b[0m \u001b[0;34m>\u001b[0m \u001b[0mmaxsize\u001b[0m\u001b[0;34m:\u001b[0m\u001b[0;34m\u001b[0m\u001b[0;34m\u001b[0m\u001b[0m\n",
      "\u001b[0;32m~/opt/anaconda3/envs/srcc-env/lib/python3.7/multiprocessing/connection.py\u001b[0m in \u001b[0;36m_recv\u001b[0;34m(self, size, read)\u001b[0m\n\u001b[1;32m    381\u001b[0m             \u001b[0;32mif\u001b[0m \u001b[0mn\u001b[0m \u001b[0;34m==\u001b[0m \u001b[0;36m0\u001b[0m\u001b[0;34m:\u001b[0m\u001b[0;34m\u001b[0m\u001b[0;34m\u001b[0m\u001b[0m\n\u001b[1;32m    382\u001b[0m                 \u001b[0;32mif\u001b[0m \u001b[0mremaining\u001b[0m \u001b[0;34m==\u001b[0m \u001b[0msize\u001b[0m\u001b[0;34m:\u001b[0m\u001b[0;34m\u001b[0m\u001b[0;34m\u001b[0m\u001b[0m\n\u001b[0;32m--> 383\u001b[0;31m                     \u001b[0;32mraise\u001b[0m \u001b[0mEOFError\u001b[0m\u001b[0;34m\u001b[0m\u001b[0;34m\u001b[0m\u001b[0m\n\u001b[0m\u001b[1;32m    384\u001b[0m                 \u001b[0;32melse\u001b[0m\u001b[0;34m:\u001b[0m\u001b[0;34m\u001b[0m\u001b[0;34m\u001b[0m\u001b[0m\n\u001b[1;32m    385\u001b[0m                     \u001b[0;32mraise\u001b[0m \u001b[0mOSError\u001b[0m\u001b[0;34m(\u001b[0m\u001b[0;34m\"got end of file during message\"\u001b[0m\u001b[0;34m)\u001b[0m\u001b[0;34m\u001b[0m\u001b[0;34m\u001b[0m\u001b[0m\n",
      "\u001b[0;31mEOFError\u001b[0m: "
     ]
    }
   ],
   "source": [
    "envs = construct_envs(config, get_env_class(config.ENV_NAME))"
   ]
  },
  {
   "cell_type": "code",
   "execution_count": 35,
   "id": "61f2c6cf-6a27-47f2-8fe5-54349d1a2772",
   "metadata": {},
   "outputs": [],
   "source": [
    "# device = (\n",
    "#     torch.device(\"cuda:{}\".format(config.TORCH_GPU_ID))\n",
    "#     if torch.cuda.is_available()\n",
    "#     else torch.device(\"cpu\")\n",
    "# )\n",
    "\n",
    "# model = load_model(\n",
    "#     path=args.model_path,\n",
    "#     observation_space=envs.observation_spaces[0],\n",
    "#     action_space=envs.action_spaces[0],\n",
    "#     hidden_size=args.hidden_size,\n",
    "#     normalize_visual_inputs=bool(args.normalize_visual_inputs),\n",
    "#     backbone=args.backbone,\n",
    "#     num_recurrent_layers=args.num_recurrent_layers,\n",
    "#     device=device,\n",
    "# )"
   ]
  }
 ],
 "metadata": {
  "kernelspec": {
   "display_name": "Python 3 (ipykernel)",
   "language": "python",
   "name": "python3"
  },
  "language_info": {
   "codemirror_mode": {
    "name": "ipython",
    "version": 3
   },
   "file_extension": ".py",
   "mimetype": "text/x-python",
   "name": "python",
   "nbconvert_exporter": "python",
   "pygments_lexer": "ipython3",
   "version": "3.7.11"
  }
 },
 "nbformat": 4,
 "nbformat_minor": 5
}
